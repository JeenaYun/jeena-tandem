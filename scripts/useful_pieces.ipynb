{
 "cells": [
  {
   "attachments": {},
   "cell_type": "markdown",
   "metadata": {},
   "source": [
    "# Useful pieces for Tandem simulation\n",
    "Last modification: 2023.06.23. </br>\n",
    "Update note: Introduce make_uniform"
   ]
  },
  {
   "attachments": {},
   "cell_type": "markdown",
   "metadata": {},
   "source": [
    "# Initiate"
   ]
  },
  {
   "cell_type": "code",
   "execution_count": 2,
   "metadata": {},
   "outputs": [
    {
     "name": "stdout",
     "output_type": "stream",
     "text": [
      "Fractal normal stress model ver.6\n",
      "Fractal a-b model ver.2\n",
      "Fractal Dc model ver.2\n",
      "Using file fractal_snpre_06\n",
      "Using file fractal_ab_02\n",
      "Using file fractal_Dc_02\n",
      "prefix = perturb_stress/reference\n",
      "len(y): 1000\n",
      "len(a_b): 2\n",
      "len(tau0): 1000\n",
      "len(sigma0): 2\n",
      "len(Dc): 2\n",
      "others[-1]: 0.6\n"
     ]
    }
   ],
   "source": [
    "import numpy as np\n",
    "import matplotlib.pylab as plt\n",
    "from scipy import interpolate\n",
    "from cmcrameri import cm\n",
    "import myplots\n",
    "import change_params\n",
    "import setup_shortcut\n",
    "\n",
    "sc = setup_shortcut.setups()\n",
    "ch = change_params.variate()\n",
    "mp = myplots.Figpref()\n",
    "\n",
    "prefix = 'perturb_stress/reference'\n",
    "\n",
    "save_dir = '/export/dump/jyun/'+prefix\n",
    "plot_dir = '%s'%(prefix.split('/')[-1])\n",
    "y,Hs,a,b,a_b,tau0,sigma0,Dc,others = ch.load_parameter(prefix)\n",
    "\n",
    "print('prefix =',prefix)\n",
    "print('len(y):',len(y))\n",
    "print('len(a_b):',len(a_b))\n",
    "print('len(tau0):',len(tau0))\n",
    "print('len(sigma0):',len(sigma0))\n",
    "print('len(Dc):',len(Dc))\n",
    "print('others[-1]:',others[-1])"
   ]
  },
  {
   "attachments": {},
   "cell_type": "markdown",
   "metadata": {},
   "source": [
    "# Time conversion"
   ]
  },
  {
   "attachments": {},
   "cell_type": "markdown",
   "metadata": {},
   "source": [
    "## Seconds to hours, minutes, and seconds"
   ]
  },
  {
   "cell_type": "code",
   "execution_count": 3,
   "metadata": {},
   "outputs": [
    {
     "name": "stdout",
     "output_type": "stream",
     "text": [
      "Input time: 1507.04 s\n",
      "= 25 m 7 s\n"
     ]
    }
   ],
   "source": [
    "sc.sec2hms(1507.04)"
   ]
  },
  {
   "attachments": {},
   "cell_type": "markdown",
   "metadata": {},
   "source": [
    "## Seconds to years, years to seconds"
   ]
  },
  {
   "cell_type": "code",
   "execution_count": 4,
   "metadata": {},
   "outputs": [
    {
     "data": {
      "text/plain": [
       "'0.04 yrs'"
      ]
     },
     "execution_count": 4,
     "metadata": {},
     "output_type": "execute_result"
    }
   ],
   "source": [
    "# # Second to years\n",
    "# sec = 22075200000\n",
    "sec = 1.381263359374180436e+06 \n",
    "'%2.2f yrs'%(sec/sc.yr2sec)\n",
    "\n",
    "# Years to seconds\n",
    "# years = 100\n",
    "# '%d s'%(years*sc.yr2sec)"
   ]
  },
  {
   "attachments": {},
   "cell_type": "markdown",
   "metadata": {},
   "source": [
    "# Print out receiver location"
   ]
  },
  {
   "cell_type": "markdown",
   "metadata": {},
   "source": [
    "## For strike-slip models"
   ]
  },
  {
   "cell_type": "code",
   "execution_count": null,
   "metadata": {},
   "outputs": [],
   "source": [
    "dep = sc.faultprobe_loc(prefix,dtmin=0.02,dtmax=1,write_on=False)\n",
    "print(dep)"
   ]
  },
  {
   "cell_type": "code",
   "execution_count": null,
   "metadata": {},
   "outputs": [],
   "source": [
    "d = 0\n",
    "c = 0\n",
    "fid = open('%s/fp.txt'%(prefix.split('/')[0]),'w')\n",
    "while d <= Hs[0]:\n",
    "    if d < Hs[1]+Hs[2]:\n",
    "        dt = 0.02\n",
    "    else:\n",
    "        dt = 1\n",
    "    fid.write('{ name = \"fp%03d\", x = [0.0, %1.4f] },\\n'%(c,-d))\n",
    "    d += dt\n",
    "    c += 1\n",
    "fid.close()"
   ]
  },
  {
   "cell_type": "markdown",
   "metadata": {},
   "source": [
    "### Domain probe output"
   ]
  },
  {
   "cell_type": "code",
   "execution_count": null,
   "metadata": {},
   "outputs": [],
   "source": [
    "d = 0\n",
    "c = 0\n",
    "fid = open('%s/dp.txt'%(prefix.split('/')[0]),'w')\n",
    "while d <= 100:\n",
    "    dt = 5\n",
    "    fid.write('{ name = \"dp%03d\", x = [%1.4f, 0.0] },\\n'%(c,d))\n",
    "    d += dt\n",
    "    c += 1\n",
    "fid.close()"
   ]
  },
  {
   "cell_type": "markdown",
   "metadata": {},
   "source": [
    "## For subduction zone models"
   ]
  },
  {
   "cell_type": "code",
   "execution_count": null,
   "metadata": {},
   "outputs": [],
   "source": [
    "dip = np.deg2rad(30)\n",
    "d = 0\n",
    "c = 0\n",
    "fid = open('%s/dp.txt'%(prefix.split('/')[0]),'w')\n",
    "while d <= 100:\n",
    "    if d < 60:\n",
    "        dt = 0.5\n",
    "    else:\n",
    "        dt = 5\n",
    "    x = -d/np.tan(np.pi-dip)\n",
    "    fid.write('{ name = \"dp%03d\", x = [%1.4f, %1.4f] },\\n'%(c,x,-d))\n",
    "    d += dt\n",
    "    c += 1\n",
    "fid.close()"
   ]
  },
  {
   "cell_type": "code",
   "execution_count": null,
   "metadata": {},
   "outputs": [],
   "source": [
    "fid = open('dp.txt','r')\n",
    "lines = fid.readlines()\n",
    "xx,yy = [],[]\n",
    "for line in lines:\n",
    "    x = line.split('[')[-1]\n",
    "    xx.append(float(x.split(',')[0]))\n",
    "    y = line.split(']')[0]\n",
    "    yy.append(float(y.split(',')[-1]))\n",
    "            \n",
    "fid.close()\n",
    "\n",
    "plt.plot(xx,yy)"
   ]
  },
  {
   "cell_type": "code",
   "execution_count": null,
   "metadata": {},
   "outputs": [],
   "source": [
    "dip_rad = 30 * np.pi / 180.0\n",
    "dX = 400\n",
    "S = 200\n",
    "X0 = -dX\n",
    "X1 = S * np.cos(dip_rad) / np.sin(dip_rad) + dX\n",
    "print(X0,X1)"
   ]
  },
  {
   "attachments": {},
   "cell_type": "markdown",
   "metadata": {},
   "source": [
    "# Check things"
   ]
  },
  {
   "attachments": {},
   "cell_type": "markdown",
   "metadata": {},
   "source": [
    "## Initial stress"
   ]
  },
  {
   "cell_type": "code",
   "execution_count": null,
   "metadata": {},
   "outputs": [],
   "source": [
    "save_on = 1\n",
    "\n",
    "plt.rcParams['font.size'] = '15'\n",
    "fig,ax = plt.subplots(figsize=(9,7))\n",
    "y,Hs,a,b,_a_b,tau0,_sigma0,L,others = ch.load_parameter(prefix)\n",
    "if len(_sigma0) == 2:\n",
    "    sigma0 = _sigma0[0]\n",
    "    y_in = _sigma0[1]\n",
    "    tau0 = ch.same_length(y,tau0,y_in)\n",
    "else:\n",
    "    sigma0 = _sigma0\n",
    "    y_in = y\n",
    "\n",
    "def read_output(fname):\n",
    "    fid = open(fname,'r')\n",
    "    lines = fid.readlines()\n",
    "    mesh_y = []\n",
    "    sigma = []\n",
    "    tau = []\n",
    "    c = 0\n",
    "    for line in lines:\n",
    "        try:\n",
    "            _x, _y, _sn, _tau = line.split('\\t')\n",
    "        except:\n",
    "            print('skip line %d:'%(c),line.strip())\n",
    "            continue\n",
    "        try:\n",
    "            mesh_y.append(float(_y.strip())); sigma.append(float(_sn.strip())); tau.append(float(_tau.strip()))\n",
    "        except:\n",
    "            print('skip line %d:'%(c),line.strip())\n",
    "            continue\n",
    "        c += 1\n",
    "    print('Total %d points'%c)\n",
    "    fid.close()\n",
    "    idx = np.argsort(np.array(mesh_y))\n",
    "    mesh_y = np.array(mesh_y)[idx]; sigma = np.array(sigma)[idx]; tau = np.array(tau)[idx]\n",
    "    return mesh_y,sigma,tau\n",
    "\n",
    "mesh_y,sigma,tau = read_output('mtmod_team3/stress_profile_%s'%(prefix.split('/')[-1]))\n",
    "\n",
    "ax.plot(sigma0,abs(y_in),lw=3,color=mp.mypink,label='Input Normal Stress')\n",
    "ax.plot(tau0,abs(y_in),lw=3,color='0.62',label='Input Shear Stress')\n",
    "ax.scatter(sigma,abs(mesh_y),lw=3,color=mp.myburgundy,label='Output Normal Stress',zorder=3)\n",
    "ax.scatter(tau,abs(mesh_y),lw=3,color='k',label='Output Shear Stress',zorder=3)\n",
    "ax.set_xlabel('Stress [MPa]',fontsize=17)\n",
    "ax.set_ylabel('Depth [km]',fontsize=17)\n",
    "ax.set_ylim(0,Hs[0])\n",
    "ax.invert_yaxis()\n",
    "plt.grid(True)\n",
    "ax.legend(fontsize=13,loc='lower right')\n",
    "plt.tight_layout()\n",
    "if save_on:\n",
    "    plt.savefig('%s/%s_stress_profile.png'%(prefix.split('/')[0],prefix.split('/')[-1]))"
   ]
  },
  {
   "cell_type": "code",
   "execution_count": null,
   "metadata": {},
   "outputs": [],
   "source": [
    "Vp = 1e-9\n",
    "V0 = 1e-6\n",
    "dip = np.deg2rad(30)\n",
    "# print(np.log(Vp/np.cos(dip)/V0))\n",
    "print(-50*0.6)\n",
    "print(-(50*0.6 + np.log(Vp/np.cos(dip)/V0)))"
   ]
  },
  {
   "attachments": {},
   "cell_type": "markdown",
   "metadata": {},
   "source": [
    "## a-b profile"
   ]
  },
  {
   "cell_type": "code",
   "execution_count": null,
   "metadata": {},
   "outputs": [],
   "source": [
    "save_on = 0\n",
    "\n",
    "y,Hs,a0,b0,_a_b = ch.load_parameter(prefix)[0:5]\n",
    "if len(_a_b) == 2:\n",
    "    y_in = _a_b[1]\n",
    "else:\n",
    "    y_in = y\n",
    "    \n",
    "def read_output(fname):\n",
    "    fid = open(fname,'r')\n",
    "    lines = fid.readlines()\n",
    "    mesh_y = []\n",
    "    a = []\n",
    "    b = []\n",
    "    c = 0\n",
    "    for line in lines:\n",
    "        try:\n",
    "            _x,_y, _a, _b = line.split('\\t')\n",
    "        except:\n",
    "            print('skip line %d:'%(c),line.strip())\n",
    "            continue\n",
    "        try:\n",
    "            mesh_y.append(float(_y.strip())); a.append(float(_a.strip())); b.append(float(_b.strip()))\n",
    "        except:\n",
    "            print('skip line %d:'%(c),line.strip())\n",
    "            continue\n",
    "        c += 1\n",
    "    print('Total %d points'%c)\n",
    "    fid.close()\n",
    "    idx = np.argsort(np.array(mesh_y))\n",
    "    mesh_y = np.array(mesh_y)[idx]; a = np.array(a)[idx]; b = np.array(b)[idx]\n",
    "    return mesh_y,a,b        \n",
    "\n",
    "mesh_y,a,b = read_output('mtmod_team3/ab_profile_%s'%(prefix.split('/')[-1]))\n",
    "\n",
    "plt.rcParams['font.size'] = '15'\n",
    "fig,ax = plt.subplots(figsize=(9,7))\n",
    "ax.plot(b0,abs(y_in),color='0.62',lw=3,label='Input b',zorder=3)\n",
    "ax.plot(a0-b0,abs(y_in),color=mp.mypink,lw=3,label='Input a-b',zorder=3)\n",
    "ax.scatter(b,abs(mesh_y),color='k',lw=3,label='Output b',zorder=3)\n",
    "ax.scatter(a-b,abs(mesh_y),color=mp.myburgundy,lw=3,label='Output a-b',zorder=3)\n",
    "ax.set_xlabel('Friction Paramters',fontsize=17)\n",
    "ax.set_ylabel('Depth [km]',fontsize=17)\n",
    "xl = ax.get_xlim()\n",
    "ax.set_ylim(0,Hs[0])\n",
    "ax.vlines(x=0.,ymin=0,ymax=Hs[0],lw=2.5,linestyles='--',color='0.62')\n",
    "# ax.hlines(y=Hs[2],xmin=xl[0],xmax=xl[1],lw=1.5,linestyles='--',color='0.62')\n",
    "# ax.hlines(y=Hs[1],xmin=xl[0],xmax=xl[1],lw=1.5,linestyles='--',color='0.62')\n",
    "ax.set_xlim(xl)\n",
    "ax.invert_yaxis()\n",
    "plt.grid(True)\n",
    "ax.legend(fontsize=13,loc='lower left')\n",
    "plt.tight_layout()\n",
    "if save_on:\n",
    "    plt.savefig('%s/%s_ab_profile.png'%(prefix.split('/')[0],prefix.split('/')[-1]))"
   ]
  },
  {
   "cell_type": "markdown",
   "metadata": {},
   "source": [
    "## Dc"
   ]
  },
  {
   "cell_type": "code",
   "execution_count": null,
   "metadata": {},
   "outputs": [],
   "source": [
    "save_on = 0\n",
    "\n",
    "if len(Dc) == 2:\n",
    "    y_in = Dc[1]\n",
    "else:\n",
    "    y_in = y\n",
    "\n",
    "def read_output(fname):\n",
    "    fid = open(fname,'r')\n",
    "    lines = fid.readlines()\n",
    "    mesh_y = []\n",
    "    a = []\n",
    "    b = []\n",
    "    c = 0\n",
    "    for line in lines:\n",
    "        try:\n",
    "            _x,_y, _a = line.split('\\t')\n",
    "        except:\n",
    "            print('skip line %d:'%(c),line.strip())\n",
    "            continue\n",
    "        try:\n",
    "            mesh_y.append(float(_y.strip())); a.append(float(_a.strip())); \n",
    "        except:\n",
    "            print('skip line %d:'%(c),line.strip())\n",
    "            continue\n",
    "        c += 1\n",
    "    print('Total %d points'%c)\n",
    "    fid.close()\n",
    "    idx = np.argsort(np.array(mesh_y))\n",
    "    mesh_y = np.array(mesh_y)[idx]; a = np.array(a)[idx]\n",
    "    return mesh_y,a\n",
    "\n",
    "mesh_y,Dc_out = read_output('mtmod_team3/dc_profile_%s'%(prefix.split('/')[-1]))\n",
    "\n",
    "plt.rcParams['font.size'] = '15'\n",
    "fig,ax = plt.subplots(figsize=(9,7))\n",
    "ax.plot(Dc,abs(y_in),color=mp.mypink,lw=3,zorder=3)\n",
    "ax.scatter(Dc_out,abs(mesh_y),color=mp.myburgundy,lw=3,zorder=3)\n",
    "ax.set_xlabel('Dc [m]',fontsize=17)\n",
    "ax.set_ylabel('Depth [km]',fontsize=17)\n",
    "xl = ax.get_xlim()\n",
    "ax.set_ylim(0,Hs[0])\n",
    "# ax.vlines(x=0.,ymin=0,ymax=Hs[0],lw=2.5,linestyles='--',color='0.62')\n",
    "# ax.hlines(y=Hs[2],xmin=xl[0],xmax=xl[1],lw=1.5,linestyles='--',color='0.62')\n",
    "# ax.hlines(y=Hs[1],xmin=xl[0],xmax=xl[1],lw=1.5,linestyles='--',color='0.62')\n",
    "ax.set_xlim(xl)\n",
    "ax.invert_yaxis()\n",
    "plt.grid(True)\n",
    "plt.tight_layout()\n",
    "if save_on:\n",
    "    plt.savefig('%s/%s_dc_profile.png'%(prefix.split('/')[0],prefix.split('/')[-1]))"
   ]
  },
  {
   "cell_type": "markdown",
   "metadata": {},
   "source": [
    "## Mu"
   ]
  },
  {
   "cell_type": "code",
   "execution_count": null,
   "metadata": {},
   "outputs": [],
   "source": [
    "save_on = 0\n",
    "\n",
    "def read_output(fname):\n",
    "    fid = open(fname,'r')\n",
    "    lines = fid.readlines()\n",
    "    mesh_x = []\n",
    "    mesh_y = []\n",
    "    a = []\n",
    "    c = 0\n",
    "    for line in lines:\n",
    "        try:\n",
    "            _x, _y, _a = line.split('\\t')\n",
    "        except:\n",
    "            print('skip line %d:'%(c),line.strip())\n",
    "            continue\n",
    "        try:\n",
    "            mesh_x.append(float(_x.strip())); \n",
    "            mesh_y.append(float(_y.strip())); \n",
    "            a.append(float(_a.strip())); \n",
    "        except:\n",
    "            print('skip line %d:'%(c),line.strip())\n",
    "            continue\n",
    "        c += 1\n",
    "    print('Total %d points'%c)\n",
    "    fid.close()\n",
    "    idx = np.argsort(np.array(mesh_y))\n",
    "    mesh_x = np.array(mesh_x)[idx]; mesh_y = np.array(mesh_y)[idx]; a = np.array(a)[idx]\n",
    "    return mesh_x,mesh_y,a\n",
    "\n",
    "mesh_x,mesh_y,mu_out = read_output('mtmod_team3/mu_profile_%s'%(prefix.split('/')[-1]))\n",
    "\n",
    "plt.rcParams['font.size'] = '15'\n",
    "fig,ax = plt.subplots(figsize=(9,7))\n",
    "# ax.scatter(mesh_x,mesh_y,c=mu_out,cmap='seismic_r')\n",
    "# ax.plot(others[-1],abs(y),color=mp.mypink,lw=3,zorder=3,label='Input μ')\n",
    "ax.scatter(mu_out,abs(mesh_y),color=mp.myburgundy,lw=3,zorder=3,label='Output μ')\n",
    "ax.set_xlabel('Shear Modulus [MPa]',fontsize=17)\n",
    "ax.set_ylabel('Depth [km]',fontsize=17)\n",
    "ax.legend(loc='lower left',fontsize=13)\n",
    "xl = ax.get_xlim()\n",
    "ax.set_ylim(0,Hs[0])\n",
    "# ax.vlines(x=0.,ymin=0,ymax=Hs[0],lw=2.5,linestyles='--',color='0.62')\n",
    "# ax.hlines(y=Hs[2],xmin=xl[0],xmax=xl[1],lw=1.5,linestyles='--',color='0.62')\n",
    "# ax.hlines(y=Hs[1],xmin=xl[0],xmax=xl[1],lw=1.5,linestyles='--',color='0.62')\n",
    "ax.set_xlim(xl)\n",
    "ax.invert_yaxis()\n",
    "plt.grid(True)\n",
    "plt.tight_layout()\n",
    "if save_on:\n",
    "    plt.savefig('%s/%s_mu_profile.png'%(prefix.split('/')[0],prefix.split('/')[-1]))"
   ]
  },
  {
   "cell_type": "markdown",
   "metadata": {},
   "source": [
    "## Delta_sn"
   ]
  },
  {
   "cell_type": "code",
   "execution_count": null,
   "metadata": {},
   "outputs": [],
   "source": [
    "save_on = 0\n",
    "\n",
    "def read_output(fname):\n",
    "    fid = open(fname,'r')\n",
    "    lines = fid.readlines()\n",
    "    mesh_y = []\n",
    "    a = []\n",
    "    b = []\n",
    "    c = 0\n",
    "    for line in lines:\n",
    "        try:\n",
    "            _y, _a = line.split('\\t')\n",
    "        except:\n",
    "            print('skip line %d:'%(c),line.strip())\n",
    "            continue\n",
    "        try:\n",
    "            mesh_y.append(float(_y.strip())); a.append(float(_a.strip())); \n",
    "        except:\n",
    "            print('skip line %d:'%(c),line.strip())\n",
    "            continue\n",
    "        c += 1\n",
    "    print('Total %d points'%c)\n",
    "    fid.close()\n",
    "    idx = np.argsort(np.array(mesh_y))\n",
    "    mesh_y = np.array(mesh_y)[idx]; a = np.array(a)[idx]\n",
    "    return mesh_y,a\n",
    "\n",
    "time = np.linspace(0,5.9,1000)\n",
    "_del_sn = np.zeros(time.shape)\n",
    "for k,t in enumerate(time):\n",
    "    if t > 10:\n",
    "        _del_sn[k] = -(t-10)*1.0/15+0.5\n",
    "    elif t > 5:\n",
    "        _del_sn[k] = (t-5)*0.5/5\n",
    "    else:\n",
    "        _del_sn[k] = 0.0\n",
    "\n",
    "time_out,delsn_out = read_output('BP1_test_deltasn/deltasn_profile_deltasn%s'%(prefix.split('/')[-1][-1]))\n",
    "\n",
    "plt.rcParams['font.size'] = '15'\n",
    "fig,ax = plt.subplots(figsize=(9,7))\n",
    "ax.plot(time*1e9,_del_sn+50,color=mp.mypink,lw=3,zorder=3,linestyle='--',label='Expected input')\n",
    "ax.scatter(time_out,delsn_out+50,color=mp.myburgundy,lw=3,zorder=3,label='Written input')\n",
    "ax.legend(fontsize=14,loc='upper left')\n",
    "ax.set_xlabel('Time [s]',fontsize=17)\n",
    "ax.set_ylabel('Normal Stress [MPa]',fontsize=17)\n",
    "plt.grid(True)\n",
    "plt.tight_layout()\n",
    "if save_on:\n",
    "    plt.savefig('%s/%s_dc_profile.png'%(prefix.split('/')[0],prefix.split('/')[-1]))"
   ]
  },
  {
   "cell_type": "code",
   "execution_count": null,
   "metadata": {},
   "outputs": [],
   "source": [
    "delsn_out"
   ]
  },
  {
   "attachments": {},
   "cell_type": "markdown",
   "metadata": {},
   "source": [
    "# a/b vs. Ru"
   ]
  },
  {
   "cell_type": "code",
   "execution_count": null,
   "metadata": {},
   "outputs": [],
   "source": [
    "save_on = 1\n",
    "# --------- Interpolate variables to match the lengths: b, sigma & a-b\n",
    "mesh_y,_a,_b,_ab,_sigma,_Dc = ch.make_uniform(prefix)\n",
    "\n",
    "# Shear modulus (within DZ for DZ model)\n",
    "mu = 15e9\n",
    "\n",
    "# --------- Mask out only VW zone\n",
    "# VW = np.where(np.logical_and(-mesh_y >= Hs[-1], -mesh_y<= Hs[1]))[0]\n",
    "VW = np.where(_ab<0)[0]\n",
    "L = abs(mesh_y[VW[-1]] - mesh_y[VW[0]])*1e3\n",
    "print('L = %2.3f km'%(L/1e3))\n",
    "aa = _a[VW]; bb = _b[VW]; mesh_y = mesh_y[VW]; sigma_n = _sigma[VW]*1e6; D_c = _Dc[VW]\n",
    "\n",
    "# --------- Compute a/b and Ru number\n",
    "# D_c = 0.0008*np.ones(len(D_c))\n",
    "if not 'DZ' in prefix:\n",
    "    if max(D_c)-min(D_c) > 1e-4:\n",
    "        print('Mu = %dGPa, Dc = %1.4f - %1.4f m'%(mu/1e9,min(D_c),max(D_c)))\n",
    "    else:\n",
    "        print('Mu = %dGPa, Dc = %2.3f m'%(mu/1e9,min(Dc)))\n",
    "LnRR = mu*D_c/(sigma_n*(bb-aa))\n",
    "Ru = L/LnRR\n",
    "# if 'DZ' in prefix:\n",
    "#     print('Damage zone model')\n",
    "#     G = 32          # domain shear modulus in GPa\n",
    "#     Gcz = mu/1e9    # DZ shear modulus in GPa\n",
    "#     T = 0.5         # DZ width in km\n",
    "#     W = L/1e3       # seismogenic zone width in km\n",
    "#     print('G = %d GPa, Gcz = %d GPa, T = %2.2f km, W = %2.2f km'%(G,Gcz,T,W))\n",
    "#     incoth = np.pi*Ru*T/W + np.arctanh(Gcz/G)\n",
    "#     Geff = Gcz / np.tanh(incoth)\n",
    "#     Ru = W*(bb-aa)*sigma_n/L/Geff\n",
    "\n",
    "plt.rcParams['font.size'] = '15'\n",
    "fig,ax = plt.subplots(ncols=2,figsize=(7,7))\n",
    "\n",
    "ax[0].plot(Ru,-mesh_y,color='k',lw=3,label='a/b',zorder=3)\n",
    "print('Ru = %2.3f - %2.3f'%(min(Ru),max(Ru)))\n",
    "ax[0].set_xlabel('Ru',fontsize=17)\n",
    "ax[0].set_ylabel('Depth [km]',fontsize=17)\n",
    "xl = ax[0].get_xlim()\n",
    "ax[0].set_xlim(0,xl[1])\n",
    "# ax[0].set_xlim(0,500)\n",
    "ax[0].set_ylim(0,24)\n",
    "ax[0].invert_yaxis()\n",
    "ax[0].grid(True)\n",
    "if max(D_c)-min(D_c) > 1e-4:\n",
    "    ax[0].text(xl[1]*0.1,23,'Mu = %dGPa\\nDc: fractal\\nMin. %2.3f\\nMax. %2.3f'%(mu/1e9,min(Ru),max(Ru)),fontsize=16,va='bottom',ha='left',bbox=mp.tboxprop)\n",
    "else:\n",
    "    ax[0].text(xl[1]*0.1,23,'Mu = %dGPa\\nDc = %2.4f m\\nMin. %2.3f\\nMax. %2.3f'%(mu/1e9,min(D_c),min(Ru),max(Ru)),fontsize=16,va='bottom',ha='left',bbox=mp.tboxprop)\n",
    "\n",
    "ax[1].plot(aa/bb,-mesh_y,color='k',lw=3,label='Ru',zorder=3)\n",
    "print('a/b = %2.3f - %2.3f'%(min(aa/bb),max(aa/bb)))\n",
    "ax[1].set_xlabel('a/b',fontsize=17)\n",
    "# ax[1].set_ylabel('Depth [km]',fontsize=17)\n",
    "ax[1].axes.yaxis.set_ticklabels([])\n",
    "xl = ax[1].get_xlim()\n",
    "ax[1].set_xlim(xl[0],1.)\n",
    "ax[1].set_ylim(0,24)\n",
    "ax[1].invert_yaxis()\n",
    "ax[1].grid(True)\n",
    "if max(D_c)-min(D_c) > 1e-4:\n",
    "    ax[1].text(xl[0]+(1-xl[0])*0.1,23,'Mu = %dGPa\\nDc: fractal\\nMin. %2.3f\\nMax. %2.3f'%(mu/1e9,min(aa/bb),max(aa/bb)),fontsize=16,va='bottom',ha='left',bbox=mp.tboxprop)\n",
    "else:\n",
    "    ax[1].text(xl[0]+(1-xl[0])*0.1,23,'Mu = %dGPa\\nDc = %2.4f m\\nMin. %2.3f\\nMax. %2.3f'%(mu/1e9,min(D_c),min(aa/bb),max(aa/bb)),fontsize=16,va='bottom',ha='left',bbox=mp.tboxprop)\n",
    "\n",
    "plt.tight_layout()\n",
    "\n",
    "if save_on:\n",
    "    if max(D_c)-min(D_c) > 1e-4:\n",
    "        # if 'DZ' in prefix:\n",
    "        #     plt.savefig('%s/abRu_%d_NnB22.png'%(prefix,mu/1e9))\n",
    "        # else:\n",
    "        #     plt.savefig('%s/abRu_%d.png'%(prefix,mu/1e9))\n",
    "        plt.savefig('%s/abRu_%d.png'%(prefix,mu/1e9))\n",
    "    else:\n",
    "        # if 'DZ' in prefix:\n",
    "        #     plt.savefig('%s/abRu_%d_%d_NnB22.png'%(prefix,mu/1e9,min(D_c)*1e4))\n",
    "        # else:\n",
    "        #     plt.savefig('%s/abRu_%d_%d.png'%(prefix,mu/1e9,min(D_c)*1e4))\n",
    "        plt.savefig('%s/abRu_%d_%d.png'%(prefix,mu/1e9,min(D_c)*1e4))\n",
    "\n",
    "plt.show()"
   ]
  },
  {
   "cell_type": "code",
   "execution_count": null,
   "metadata": {},
   "outputs": [],
   "source": [
    "others[-1][0]"
   ]
  },
  {
   "attachments": {},
   "cell_type": "markdown",
   "metadata": {},
   "source": [
    "# Mesh resolution"
   ]
  },
  {
   "cell_type": "code",
   "execution_count": null,
   "metadata": {},
   "outputs": [],
   "source": [
    "# --------- Interpolate variables to match the lengths: b, sigma & a-b\n",
    "mesh_y,_a,_b,_ab,_sigma,_Dc = ch.make_uniform(prefix) \n",
    "\n",
    "\n",
    "from scipy import interpolate\n",
    "f_var = interpolate.interp1d(y,others[-1],bounds_error=False,fill_value=others[-1][0])\n",
    "_mu = f_var(mesh_y)\n",
    "\n",
    "\n",
    "# ------------------ Input\n",
    "# mu = 32e9               # Shear modulus [Pa]\n",
    "# _Dc = 2e-3*np.ones(len(_Dc))\n",
    "C = 1                   # Constant of order 1\n",
    "# muprime = mu            # For anti-plane\n",
    "\n",
    "# idx = np.where(np.logical_and(-mesh_y >= Hs[-1], -mesh_y<= Hs[1]))[0]\n",
    "# idx = np.where(_ab<0)[0]\n",
    "idx = np.where(abs(mesh_y)<=10)[0]\n",
    "_a_b = _ab[idx]\n",
    "b0 = _b[idx]\n",
    "D_c = _Dc[idx]\n",
    "sigma_n = _sigma[idx]*1e6                             # Effective normal stress [Pa]\n",
    "mu = _mu[idx]\n",
    "muprime = mu            # For anti-plane\n",
    "\n",
    "# ------------------ Input\n",
    "lambda0 = C*mu*D_c/b0/sigma_n                          # Process zone / cohesive zone\n",
    "hstar = 2*mu*b0*D_c/(np.pi*sigma_n*(_a_b**2))          # Nucleation size for 0.5 < a/b < 1, aging law; Chen & Lapusta (2009)\n",
    "Linf = b0*muprime*D_c/(np.pi*sigma_n*_a_b**2)          # Rubin and Ampuero (2005)\n",
    "\n",
    "# ------- Tandem build related info.\n",
    "polyd = 6\n",
    "numcell = 6\n",
    "\n",
    "if max(b0)-min(b0) > 1e-3 and max(D_c)-min(D_c) > 1e-4:\n",
    "    print('C =',C,', mu =',mu/1e9,'GPa, b =',min(b0),'-',max(b0),'Dc = %1.4f - %1.4f m'%(min(D_c),max(D_c)))\n",
    "elif max(b0)-min(b0) > 1e-3:\n",
    "    print('C =',C,', mu =',mu/1e9,'GPa, b =',min(b0),'-',max(b0),'Dc =',min(D_c))\n",
    "elif max(D_c)-min(D_c) > 1e-4:\n",
    "    print('C =',C,', mu =',mu/1e9,'GPa, b =',min(b0),'Dc = %1.4f - %1.4f m'%(min(D_c),max(D_c)))\n",
    "else:\n",
    "    print('C =',C,', mu =',mu/1e9,'GPa, b =',min(b0),'Dc =',min(D_c))\n",
    "print('Min. process zone size: %2.2f m'%(min(lambda0)))\n",
    "print('Min. nucleation size: %2.2f m'%(min(hstar)))\n",
    "print('Max. element size to sample critical length by %d cells: %2.2f m'%(int(numcell),polyd*min(min(lambda0),min(hstar))/numcell))\n",
    "\n",
    "print(min(lambda0)/1e3,min(hstar)/1e3,min(Linf)/1e3)"
   ]
  },
  {
   "cell_type": "code",
   "execution_count": null,
   "metadata": {},
   "outputs": [],
   "source": [
    "# --------- Interpolate variables to match the lengths: b, sigma & a-b\n",
    "mesh_y,_a,_b,_ab,_sigma,_Dc = ch.make_uniform(prefix) \n",
    "\n",
    "\n",
    "from scipy import interpolate\n",
    "f_var = interpolate.interp1d(y,others[-1],bounds_error=False,fill_value=others[-1][0])\n",
    "_mu = f_var(mesh_y)\n",
    "\n",
    "\n",
    "# ------------------ Input\n",
    "# mu = 32e9               # Shear modulus [Pa]\n",
    "# _Dc = 2e-3*np.ones(len(_Dc))\n",
    "C = 1                   # Constant of order 1\n",
    "# muprime = mu            # For anti-plane\n",
    "\n",
    "# idx = np.where(np.logical_and(-mesh_y >= Hs[-1], -mesh_y<= Hs[1]))[0]\n",
    "# idx = np.where(_ab<0)[0]\n",
    "idx = np.where(abs(mesh_y)<=10)[0]\n",
    "_a_b = _ab[idx]\n",
    "b0 = _b[idx]\n",
    "D_c = _Dc[idx]\n",
    "sigma_n = _sigma[idx]*1e6                             # Effective normal stress [Pa]\n",
    "mu = _mu[idx]\n",
    "muprime = mu            # For anti-plane\n",
    "\n",
    "# ------------------ Input\n",
    "lambda0 = C*mu*D_c/b0/sigma_n                          # Process zone / cohesive zone\n",
    "hstar = np.pi*mu*b0*D_c/(2*sigma_n*(_a_b**2))          # Nucleation size for 0.5 < a/b < 1, aging law; Chen & Lapusta (2009)\n",
    "Linf = b0*muprime*D_c/(np.pi*sigma_n*_a_b**2)          # Rubin and Ampuero (2005)\n",
    "\n",
    "crit_lengths = np.vstack((lambda0,hstar,Linf))\n",
    "\n",
    "# ------- Tandem build related info.\n",
    "polyd = 6\n",
    "numcell = 6\n",
    "\n",
    "if max(b0)-min(b0) > 1e-3 and max(D_c)-min(D_c) > 1e-4:\n",
    "    print('C =',C,', mu =',mu/1e9,'GPa, b =',min(b0),'-',max(b0),'Dc = %1.4f - %1.4f m'%(min(D_c),max(D_c)))\n",
    "elif max(b0)-min(b0) > 1e-3:\n",
    "    print('C =',C,', mu =',mu/1e9,'GPa, b =',min(b0),'-',max(b0),'Dc =',min(D_c))\n",
    "elif max(D_c)-min(D_c) > 1e-4:\n",
    "    print('C =',C,', mu =',mu/1e9,'GPa, b =',min(b0),'Dc = %1.4f - %1.4f m'%(min(D_c),max(D_c)))\n",
    "else:\n",
    "    print('C =',C,', mu =',mu/1e9,'GPa, b =',min(b0),'Dc =',min(D_c))\n",
    "\n",
    "print('Min. process zone size: %2.2f m'%(min(lambda0)))\n",
    "print('Min. nucleation size: %2.2f m'%(min(hstar)))\n",
    "print('Max. element size to sample critical length by %d cells: %2.2f m'%(int(numcell),polyd*min(min(lambda0),min(hstar))/numcell))\n",
    "\n",
    "W = 10\n",
    "plt.rcParams['font.size'] = '15'\n",
    "plt.figure(figsize=(6,8))\n",
    "# plt.plot(polyd*np.min(crit_lengths,axis=0)/numcell,mesh_y[idx],'k',lw=2.5)\n",
    "# plt.plot(polyd*np.min(crit_lengths,axis=0)/numcell,-mesh_y[idx],'k',lw=2.5)\n",
    "plt.plot(W/Linf,-mesh_y[idx],'k',lw=2.5)\n",
    "# plt.plot(_a_b,-mesh_y[idx],'k',lw=2.5)\n",
    "# plt.plot(_a_b,-mesh_y,'k',lw=2.5)\n",
    "plt.xlabel('W/Linf',fontsize=17)\n",
    "plt.ylabel('Depth [km]',fontsize=17)\n",
    "plt.gca().invert_yaxis()\n",
    "plt.tight_layout()\n",
    "plt.savefig('W_Lf_patchmu.png')\n",
    "plt.show()"
   ]
  },
  {
   "attachments": {},
   "cell_type": "markdown",
   "metadata": {},
   "source": [
    "# MPI rank vs. load time"
   ]
  },
  {
   "cell_type": "code",
   "execution_count": null,
   "metadata": {},
   "outputs": [],
   "source": [
    "save_on = 1\n",
    "\n",
    "# mpirank = np.array([1,2,4,8,16,32,64])\n",
    "mpirank = np.array([0,1,2,3,4,5,6])\n",
    "loadtime_m = [32.37,16.87,13.12,10.55,9.66,8.94,300]\n",
    "loadtime_ca = [33.31,21.58,12.30,10.59,8.59,9.60,300]\n",
    "loadtime_rt = [15.30,10.95,7.79,7.01,5.74,300,300]\n",
    "\n",
    "wd = 0.2\n",
    "plt.rcParams['font.size'] = '15'\n",
    "plt.figure(figsize=(10,8))\n",
    "plt.bar(mpirank-wd*1.5,loadtime_m,width=wd, color=mp.myblue,edgecolor='k',align='edge',label='Master')\n",
    "plt.bar(mpirank-wd/2,loadtime_ca,width=wd, color=mp.mypalepink,edgecolor='k',align='edge',label='Casper\\'s (manual)')\n",
    "plt.bar(mpirank+wd*0.5,loadtime_rt,width=wd, color=mp.mygreen,edgecolor='k',align='edge',label='Casper\\'s (region tag)')\n",
    "plt.ylim(0,40)\n",
    "# plt.xscale('log', base=2)\n",
    "plt.xticks(ticks=mpirank,labels=['1','2','4','8','16','32','64'])\n",
    "plt.xlabel('MPI Rank',fontsize=17)\n",
    "plt.ylabel('Time [s]',fontsize=17)\n",
    "plt.title('Mesh with 14,912 elements',fontsize=20,fontweight='bold')\n",
    "plt.legend(fontsize=13,loc='upper left')\n",
    "plt.tight_layout()\n",
    "if save_on:\n",
    "    plt.savefig('MPIrank_vs_time.png')\n",
    "plt.show()"
   ]
  },
  {
   "attachments": {},
   "cell_type": "markdown",
   "metadata": {},
   "source": [
    "# Various critical lengths"
   ]
  },
  {
   "cell_type": "code",
   "execution_count": null,
   "metadata": {},
   "outputs": [],
   "source": [
    "# --------- Interpolate variables to match the lengths\n",
    "f_ab = interpolate.interp1d(y,a_b,bounds_error=False,fill_value=a_b[0])\n",
    "f_a = interpolate.interp1d(y,a,bounds_error=False,fill_value=a[0])\n",
    "f_b = interpolate.interp1d(y,b,bounds_error=False,fill_value=b[0])\n",
    "\n",
    "_ab = f_ab(mesh_y)\n",
    "_b = f_b(mesh_y)\n",
    "\n",
    "# ------------------ Input\n",
    "mu = 10e9               # Shear modulus [Pa]\n",
    "Dc = 0.004              # Characteristic distance [m]\n",
    "C = 1                   # Constant of order 1\n",
    "muprime = mu            # For anti-plane\n",
    "\n",
    "idx = np.where(np.logical_and(-mesh_y >= Hs[-1], -mesh_y<= Hs[1]))[0]\n",
    "_a_b = _ab[idx]\n",
    "b0 = _b[idx]\n",
    "sigma_n = sigma0[idx]*1e6                                    # Effective normal stress [Pa]\n",
    "\n",
    "# ------------------ Input\n",
    "lambda0 = C*mu*Dc/b0/sigma_n                          # Process zone / cohesive zone\n",
    "hstar = np.pi*mu*b0*Dc/(2*sigma_n*(_a_b**2))          # Nucleation size for 0.5 < a/b < 1, aging law; Chen & Lapusta (2009)\n",
    "Linf = b0*muprime*Dc/(np.pi*sigma_n*(_a_b**2))        # Rubin and Ampuero (2005)\n",
    "\n",
    "print('Process zone size      : %2.2f m - %2.2f m'%(min(lambda0),max(lambda0)))\n",
    "print('Nucleation size (hstar; CnL09): %2.2f m - %2.2f m'%(min(hstar),max(hstar)))\n",
    "print('Nucleation size (Linf; RnA09): %2.2f m - %2.2f m'%(min(Linf),max(Linf)))\n",
    "print('Minimum critical lengths: %2.2f m'%(min(min(lambda0),min(hstar),min(Linf))))\n"
   ]
  },
  {
   "cell_type": "markdown",
   "metadata": {},
   "source": [
    "# Domain probe output"
   ]
  },
  {
   "cell_type": "code",
   "execution_count": null,
   "metadata": {},
   "outputs": [],
   "source": [
    "from glob import glob\n",
    "from csv import reader\n",
    "\n",
    "def read_fault_probe_outputs(save_dir,save_on=True):\n",
    "    fnames = glob('%s/domain_probe_*.csv'%(save_dir))\n",
    "    if len(fnames) == 0:\n",
    "        print(fnames)\n",
    "        raise NameError('No such file found - check the input')\n",
    "    outputs = ()\n",
    "    pos = []\n",
    "    for fn in fnames:\n",
    "        with open(fn, 'r') as csvfile:\n",
    "            csvreader = reader(csvfile)\n",
    "            stloc = next(csvreader)\n",
    "            rx = float(stloc[0].split('[')[1].split(',')[0])\n",
    "            rz = float(stloc[1].split(']')[0])\n",
    "            pos.append([rx,rz])\n",
    "            next(csvreader)\n",
    "            dat = []\n",
    "            for row in csvreader:\n",
    "                dat.append(np.asarray(row).astype(float))\n",
    "        outputs = outputs + (dat,)\n",
    "    outputs = np.array(outputs)\n",
    "    pos = np.array(pos)\n",
    "    if save_on:\n",
    "        print('Save data...',end=' ')\n",
    "        np.save('%s/domain_probe_outputs'%(save_dir),outputs)\n",
    "        np.save('%s/domain_probe_outputs_position'%(save_dir),pos)\n",
    "        print('done!')\n",
    "    return outputs,pos"
   ]
  },
  {
   "cell_type": "code",
   "execution_count": null,
   "metadata": {},
   "outputs": [],
   "source": [
    "outputs,pos = read_fault_probe_outputs('/export/dump/jyun/%s/outputs_%s'%(prefix.split('/')[0],prefix.split('/')[1]),save_on=True)\n",
    "print(outputs.shape)\n",
    "time = np.array([outputs[i,:,0] for i in range(outputs.shape[0])])\n",
    "u0 = np.array([outputs[i,:,1] for i in range(outputs.shape[0])])\n",
    "u1 = np.array([outputs[i,:,2] for i in range(outputs.shape[0])])"
   ]
  },
  {
   "cell_type": "code",
   "execution_count": null,
   "metadata": {},
   "outputs": [],
   "source": [
    "pi = 5\n",
    "print(pos[pi])\n",
    "\n",
    "plt.figure(figsize=(8,6))\n",
    "plt.plot(time[pi],u0[pi],lw=3,c='k')\n",
    "plt.xlabel('Time [s]')\n",
    "plt.ylabel('Displacement [m]')\n",
    "# plt.plot(time,u1)\n",
    "plt.show()"
   ]
  },
  {
   "cell_type": "code",
   "execution_count": null,
   "metadata": {},
   "outputs": [],
   "source": [
    "print(np.where(u0 > 1e-3)[0])\n",
    "print(np.where(u1 > 1e-3)[0])"
   ]
  },
  {
   "cell_type": "code",
   "execution_count": null,
   "metadata": {},
   "outputs": [],
   "source": []
  }
 ],
 "metadata": {
  "kernelspec": {
   "display_name": "Python 3.10.5 ('nucleation')",
   "language": "python",
   "name": "python3"
  },
  "language_info": {
   "codemirror_mode": {
    "name": "ipython",
    "version": 3
   },
   "file_extension": ".py",
   "mimetype": "text/x-python",
   "name": "python",
   "nbconvert_exporter": "python",
   "pygments_lexer": "ipython3",
   "version": "3.10.8"
  },
  "orig_nbformat": 4,
  "vscode": {
   "interpreter": {
    "hash": "f5872b474b53f6accda9e24859de21968245ccd4c130b245bc65b2b0c0cb1275"
   }
  }
 },
 "nbformat": 4,
 "nbformat_minor": 2
}
