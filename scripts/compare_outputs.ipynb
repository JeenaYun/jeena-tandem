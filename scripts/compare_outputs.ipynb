{
 "cells": [
  {
   "cell_type": "markdown",
   "metadata": {},
   "source": [
    "# Tools to compare outputs among models\n",
    "Last modification: 2024.04.09.</br>\n",
    "Update note: Make things compact"
   ]
  },
  {
   "cell_type": "markdown",
   "metadata": {},
   "source": [
    "# Plot summary"
   ]
  },
  {
   "cell_type": "code",
   "execution_count": null,
   "metadata": {},
   "outputs": [],
   "source": [
    "from perturb_plots import plot_summary\n",
    "import matplotlib.pylab as plt\n",
    "\n",
    "law = 'aging'\n",
    "ax = plot_summary(law=law)\n",
    "plt.tight_layout()\n",
    "plt.savefig('/export/dump/jyun/perturb_stress/%slaw_summary.png'%(law),dpi=300)\n",
    "plt.show()"
   ]
  },
  {
   "cell_type": "markdown",
   "metadata": {},
   "source": [
    "# Routined"
   ]
  },
  {
   "cell_type": "code",
   "execution_count": null,
   "metadata": {},
   "outputs": [],
   "source": [
    "from perturb_tools import ROUTINE_PERTURB\n",
    "import matplotlib.pylab as plt\n",
    "plt.rcParams['font.size'] = '15'\n",
    "\n",
    "routine = ROUTINE_PERTURB('pert18_vs340','lowres_spinup_aginglaw_reference')\n",
    "\n",
    "fig,ax = plt.subplots(figsize=(15,6))\n",
    "ax,lag = routine.pub_plot_triggering_response(ax)\n",
    "# ax,lag = routine.plot_triggering_response(ax)\n",
    "# ax = routine.plot_compare_with_input_dCFS(ax,dt=0.01)\n",
    "plt.tight_layout()\n",
    "plt.show()\n"
   ]
  },
  {
   "cell_type": "markdown",
   "metadata": {},
   "source": [
    "# Initiate"
   ]
  },
  {
   "cell_type": "code",
   "execution_count": 1,
   "metadata": {},
   "outputs": [
    {
     "name": "stdout",
     "output_type": "stream",
     "text": [
      "Load saved data: /export/dump/jyun/perturb_stress/after_pert18_vs340_lowres_spinup_aginglaw_reference/outputs.npy\n",
      "Load saved data: /export/dump/jyun/perturb_stress/after_pert18_vs340_lowres_spinup_aginglaw_reference/outputs_depthinfo.npy\n",
      "Load saved data: /export/dump/jyun/perturb_stress/after_pert18_vs340_lowres_spinup_aginglaw_reference/const_params.npy\n"
     ]
    }
   ],
   "source": [
    "import numpy as np\n",
    "from perturb_tools import PERTURB\n",
    "from perturb_plots import *\n",
    "import matplotlib.pylab as plt\n",
    "import myplots\n",
    "mp = myplots.Figpref()\n",
    "plt.rcParams['font.size'] = '15'\n",
    "\n",
    "ref = PERTURB('lowres_spinup_aginglaw_reference')\n",
    "model1 = PERTURB('after_pert18_vs340_lowres_spinup_aginglaw_reference')\n",
    "# ref = PERTURB('reference')\n",
    "# model1 = PERTURB('after_pert56_vs340')\n",
    "# model2 = PERTURB('pert20_vs340')\n",
    "# model1 = PERTURB('pert12_vf320')\n",
    "# model1 = PERTURB('pert31_ds330')\n",
    "\n",
    "model1.load_output()\n",
    "# model2.load_output()\n",
    "\n",
    "# print(np.all(np.argsort(abs(model1.dep)) == np.arange(len(model1.dep))))\n",
    "# print(np.all(np.argsort(abs(model2.dep)) == np.arange(len(model2.dep))))"
   ]
  },
  {
   "cell_type": "code",
   "execution_count": null,
   "metadata": {},
   "outputs": [],
   "source": [
    "import numpy as np\n",
    "print_on = True\n",
    "save_dir = '/export/dump/jyun/perturb_stress/after_pert18_vs340_lowres_spinup_aginglaw_reference'\n",
    "if print_on: print('Load saved data: %s/outputs.npy'%(save_dir))\n",
    "outputs = np.load('%s/outputs.npy'%(save_dir))\n",
    "if print_on: print('Load saved data: %s/outputs_depthinfo.npy'%(save_dir))\n",
    "dep = np.load('%s/outputs_depthinfo.npy'%(save_dir))\n",
    "\n",
    "print(outputs.shape,dep.shape)"
   ]
  },
  {
   "cell_type": "code",
   "execution_count": null,
   "metadata": {},
   "outputs": [],
   "source": [
    "new_outputs = np.vstack((outputs[:222],outputs[223:]))\n",
    "# outputs.shape,new_outputs.shape\n",
    "new_dep = np.hstack((dep[:222],dep[223:]))\n",
    "print(new_outputs.shape,new_dep.shape)\n",
    "print('Save data...',end=' ')\n",
    "np.save('%s/outputs'%(save_dir),new_outputs)\n",
    "np.save('%s/outputs_depthinfo'%(save_dir),new_dep)\n",
    "print('done!')"
   ]
  },
  {
   "cell_type": "code",
   "execution_count": null,
   "metadata": {},
   "outputs": [],
   "source": [
    "plt.rcParams['font.size'] = '15'\n",
    "fig,ax=plt.subplots(figsize=(10,6))\n",
    "if not 'idx' in dir(model1): model1.load_related_ref()\n",
    "if not 'idx' in dir(model2): model2.load_related_ref()\n",
    "tdep,tvar = model1.evdep[model1.idx],'shearT'\n",
    "time,var,xlab,ylab,fign,indx = get_var(model1.outputs[:,1:,:],model1.dep,tdep,tvar,plot_in_sec=True,abs_on=True)\n",
    "ax.plot(time-time[0],var-var[0],color='k',lw=2,label='pert18_vs340_lowres_spinup_aginglaw_reference')\n",
    "# fout_time(ax,model1.outputs[:,1:,:],model1.dep,tdep,tvar,col='k',t0=model1.variables['time'].data[0],plot_in_sec=True,abs_on=True,lab='pert18_vs340_lowres_spinup_aginglaw_reference')\n",
    "tdep = model2.evdep[model2.idx]\n",
    "time,var,xlab,ylab,fign,indx = get_var(model2.outputs[:,1:,:],model2.dep,tdep,tvar,plot_in_sec=True,abs_on=True)\n",
    "ax.plot(time-time[0],var-var[0],color=mp.mypink,lw=2,label='pert20_vs340')\n",
    "# fout_time(ax,model2.outputs[:,1:,:],model2.dep,tdep,tvar,col=mp.mypink,t0=model2.variables['time'].data[0],plot_in_sec=True,abs_on=True,lab='pert20_vs340')\n",
    "ax.legend(fontsize=13)\n",
    "ax.set_xlabel('Time [s]',fontsize=17)\n",
    "ax.set_ylabel('Shear Traction [MPa]',fontsize=17)\n",
    "plt.show()\n"
   ]
  },
  {
   "cell_type": "code",
   "execution_count": null,
   "metadata": {},
   "outputs": [],
   "source": []
  },
  {
   "cell_type": "markdown",
   "metadata": {},
   "source": [
    "# Define plotting tools"
   ]
  },
  {
   "cell_type": "code",
   "execution_count": null,
   "metadata": {},
   "outputs": [],
   "source": [
    "import matplotlib.pylab as plt\n",
    "from scipy import signal,interpolate\n",
    "from perturb_plots import *\n",
    "import myplots\n",
    "mp = myplots.Figpref()\n",
    "plt.rcParams['font.size'] = '15'\n",
    "\n",
    "def along_fault_at_transition(save_dir,outputs,dep,target_var,ls='-',col='k',lab='',print_on=True,save_on=True):\n",
    "    if print_on:\n",
    "        print('At time %1.4f s'%(outputs[0,0]))\n",
    "    if target_var == 'state':\n",
    "        var = np.array(outputs[:,1])\n",
    "        ylab = 'State Variable'\n",
    "        fign = 'state'\n",
    "    elif target_var == 'slip':\n",
    "        var = np.array(outputs[:,2])\n",
    "        ylab = 'Cumulative Slip [m]'\n",
    "        fign = 'cumslip'\n",
    "    elif target_var == 'shearT':\n",
    "        var = abs(np.array(outputs[:,3]))\n",
    "        ylab = 'Absolute Shear Stress [MPa]'\n",
    "        fign = 'shearT'\n",
    "    elif target_var == 'sliprate':\n",
    "        if np.all(np.array(outputs[:,4])>0):\n",
    "            var = np.log10(np.array(outputs[:,4]))\n",
    "        else:\n",
    "            print('Negative slip rate - taking absolute')\n",
    "            var = np.log10(abs(np.array(outputs[:,4])))\n",
    "        ylab = 'log$_{10}$(Slip Rate [m/s])'\n",
    "        fign = 'sliprate'\n",
    "    elif target_var == 'normalT':\n",
    "        var = abs(np.array(outputs[:,5]))\n",
    "        ylab = 'Absolute Normal Stress [MPa]'\n",
    "        fign = 'normalT'\n",
    "\n",
    "    plt.plot(var,-dep,color=col, lw=2.5,label=lab,linestyle=ls)\n",
    "    plt.xlabel(ylab,fontsize=17)\n",
    "    plt.ylabel('Depth [km]',fontsize=17)\n",
    "    plt.ylim(min(abs(dep)),max(abs(dep)))    \n",
    "    plt.tight_layout()\n",
    "    if save_on:\n",
    "        plt.savefig('%s/%s_at_transition.png'%(save_dir,fign))\n",
    "\n",
    "def get_lag(base_t,var_ref,t_ref,var_pert,t_pert,print_on=False):\n",
    "    dat_ref = interpolate.interp1d(t_ref,var_ref)(base_t) # reference model \n",
    "    if base_t.max()>t_pert.max() or base_t.min()<t_pert.max():\n",
    "        dat_pert = interpolate.interp1d(t_pert,var_pert)(base_t[np.logical_and(base_t<=t_pert.max(),base_t>=t_pert.min())])\n",
    "    else:\n",
    "        dat_pert = interpolate.interp1d(t_pert,var_pert)(base_t)\n",
    "    dat_ref -= np.mean(dat_ref)\n",
    "    dat_pert -= np.mean(dat_pert)\n",
    "    corr = signal.correlate(dat_ref,dat_pert)\n",
    "    lags = signal.correlation_lags(len(dat_ref),len(dat_pert))\n",
    "    dat_corr = corr/max(abs(corr))\n",
    "    dt = np.diff(base_t)[0]\n",
    "    lag = lags[np.argmax(dat_corr)]*dt\n",
    "    if print_on:\n",
    "        if lag > 0:\n",
    "            print('Time advance of %1.4f s'%lag)\n",
    "        elif lag == 0:\n",
    "            print('No change in event time')\n",
    "        else:\n",
    "            print('Time delay of %1.4f s'%lag)\n",
    "    return lag\n",
    "\n",
    "def stress_pert_at_depth(save_dir,ref_outputs,dep,delVar,depth_range,target_depth,target_var,plot_in_sec,dt=0.01,ls='-',col='k',lab='',abs_on=False,print_on=True,save_on=True):\n",
    "    indx = np.argmin(abs(abs(dep) - abs(target_depth)))\n",
    "    print('Depth = %1.1f [km]'%abs(dep[indx]))\n",
    "    t0 = ref_outputs[0,0,0]\n",
    "    time = np.linspace(t0,t0+delVar.shape[0]*dt,delVar.shape[0])\n",
    "    di = np.argmin(abs(depth_range+target_depth))\n",
    "    if target_var == 'shearT':\n",
    "        if abs_on:\n",
    "            var = abs(np.array(ref_outputs[indx])[:,3])\n",
    "            ylab = 'Absolute Shear Stress [MPa]'\n",
    "        else:\n",
    "            var = np.array(ref_outputs[indx])[:,3]\n",
    "            ylab = 'Shear Stress [MPa]'\n",
    "        fign = 'shearT'\n",
    "    elif target_var == 'normalT':\n",
    "        if abs_on:\n",
    "            var = abs(np.array(ref_outputs[indx])[:,5])\n",
    "            ylab = 'Absolute Normal Stress [MPa]'\n",
    "        else:\n",
    "            var = np.array(ref_outputs[indx])[:,5]\n",
    "            ylab = 'Normal Stress [MPa]'\n",
    "        fign = 'normalT'\n",
    "    if plot_in_sec:        # --- Plot in seconds\n",
    "        plt.plot(time,delVar[:,di]+var[0],color=col,lw=2.5,label=lab,linestyle=ls)\n",
    "        # plt.plot(time,delVar[:,di]+var[1],color=col,lw=2.5,label=lab,linestyle=ls)\n",
    "        plt.xlabel('Time [s]',fontsize=17)\n",
    "        otime = time\n",
    "    else:        # --- Plot in years\n",
    "        plt.plot(time/sc.yr2sec,delVar[:,di]+var[0],color=col, lw=2.5,label=lab,linestyle=ls)\n",
    "        # plt.plot(time/sc.yr2sec,delVar[:,di]+var[1],color=col, lw=2.5,label=lab,linestyle=ls)\n",
    "        plt.xlabel('Time [yrs]',fontsize=17)\n",
    "        otime = time/sc.yr2sec\n",
    "    plt.ylabel(ylab,fontsize=17)\n",
    "    plt.tight_layout()\n",
    "    if save_on:\n",
    "        plt.savefig('%s/%s.png'%(save_dir,fign))\n",
    "    return otime,delVar[:,di]+var[1]"
   ]
  },
  {
   "cell_type": "markdown",
   "metadata": {},
   "source": [
    "# Peak value along the whole fault"
   ]
  },
  {
   "cell_type": "code",
   "execution_count": null,
   "metadata": {},
   "outputs": [],
   "source": [
    "plt.rcParams['font.size'] = '15'\n",
    "plt.figure(figsize=(15,6))\n",
    "tvar = 'sliprate'\n",
    "fout_time_max(save_dir2,outputs2[:,1:,:],tvar,lab='During perturbation',plot_in_sec=True,col=mp.mypink,save_on=False)\n",
    "fout_time_max(save_dir3,outputs3[:,1:,:],tvar,lab='After perturbation',plot_in_sec=True,col=mp.myblue,save_on=False)\n",
    "yl = plt.gca().get_ylim()\n",
    "plt.vlines(x=tstart[idx],ymin=yl[0],ymax=yl[1],color=mp.mynavy,linestyles='--')\n",
    "plt.ylim(yl)\n",
    "plt.legend(fontsize=15,loc='upper left')\n",
    "plt.show()"
   ]
  },
  {
   "cell_type": "code",
   "execution_count": null,
   "metadata": {},
   "outputs": [],
   "source": [
    "plt.rcParams['font.size'] = '15'\n",
    "plt.figure(figsize=(15,6))\n",
    "tvar = 'sliprate'\n",
    "inc = 1e3\n",
    "if 'save_dir3' not in locals(): \n",
    "    i1 = np.where(np.logical_and(outputs1[0,:,0]>=outputs2[0,0,0]-inc,outputs1[0,:,0]<=outputs2[0,-1,0]+inc))[0]\n",
    "else:\n",
    "    i1 = np.where(np.logical_and(outputs1[0,:,0]>=outputs2[0,0,0]-inc,outputs1[0,:,0]<=outputs3[0,-1,0]+inc))[0]\n",
    "# fout_time_max(save_dir1,outputs1[:,i1,:],tvar,lab='Reference (hf = 25 m)',plot_in_sec=False,save_on=False)\n",
    "fout_time_max(save_dir2,outputs2,tvar,lab='Reference (hf = 10 m)',plot_in_sec=False,col=mp.mypink,save_on=False)\n",
    "add = (outputs2[0,-1,0]-outputs2[0,0,0])*0.2\n",
    "yl = plt.gca().get_ylim()\n",
    "plt.ylim(yl)\n",
    "plt.legend(fontsize=15,loc='upper left')\n",
    "plt.show()"
   ]
  },
  {
   "cell_type": "markdown",
   "metadata": {},
   "source": [
    "# Value at certain depth, within specific time range"
   ]
  },
  {
   "cell_type": "code",
   "execution_count": null,
   "metadata": {},
   "outputs": [],
   "source": [
    "plt.rcParams['font.size'] = '15'\n",
    "fig,ax=plt.subplots(figsize=(10,6))\n",
    "if not 'idx' in dir(model1):\n",
    "    model1.load_related_ref()\n",
    "tdep,tvar = model1.evdep[model1.idx],'slip'\n",
    "fout_time(ax,model1.outputs[:,1:,:],model1.dep,tdep,tvar,col='k',plot_in_sec=True,lab='Stress-dependent aging law')\n",
    "# plt.legend(fontsize=15,loc='lower right')\n",
    "plt.show()\n"
   ]
  },
  {
   "cell_type": "code",
   "execution_count": null,
   "metadata": {},
   "outputs": [],
   "source": [
    "np.all(np.diff(cumslip) == np.zeros(len(np.diff(cumslip))))"
   ]
  },
  {
   "cell_type": "code",
   "execution_count": null,
   "metadata": {},
   "outputs": [],
   "source": [
    "fig,ax=plt.subplots(figsize=(10,6))\n",
    "di = np.argmin(abs(abs(model1.dep) - abs(tdep)))\n",
    "time = model1.variables['time'].data\n",
    "# cumslip = model1.variables['slip'].data[di,:]\n",
    "slip = cumslip - cumslip[0]\n",
    "# plt.plot(time,cumslip,'k')\n",
    "ds = np.diff(cumslip)\n",
    "dt = np.diff(time)\n",
    "plt.plot(time[1:],ds/dt,'k')\n",
    "# plt.plot(time,slip,'k')\n",
    "plt.xlabel('Time [s]',fontsize=17)\n",
    "# plt.xlabel('Time [s]',fontsize=17)\n",
    "plt.show()"
   ]
  },
  {
   "cell_type": "code",
   "execution_count": null,
   "metadata": {},
   "outputs": [],
   "source": [
    "plt.rcParams['font.size'] = '15'\n",
    "plt.figure(figsize=(10,6))\n",
    "# plt.figure(figsize=(15,6))\n",
    "tdep,tvar = evdep[idx],'state'\n",
    "# i3 = np.where(outputs3[0,:,0]<=outputs3[0,0,0]+100)[0]\n",
    "i1 = np.where(np.logical_and(outputs1[0,:,0]<=outputs2[0,-1,0]+1e4,outputs1[0,:,0]>=outputs2[0,0,0]-1e4))[0]\n",
    "# fout_time(save_dir2,outputs2,dep2,tdep,tvar,col=mp.mypink,plot_in_sec=True,lab='During perturbation',save_on=False)\n",
    "# fout_time(save_dir3,outputs3[:,i3,:],dep3,tdep,tvar,col=mp.myblue,plot_in_sec=True,lab='After perturbation',save_on=False)\n",
    "fout_time(save_dir2,outputs2[:,1:,:],dep2,tdep,tvar,col=mp.mypink,plot_in_sec=True,lab='Stress-dependent aging law',save_on=False)\n",
    "# fout_time(save_dir4,outputs4[:,1:,:],dep4,tdep,tvar,col='k',plot_in_sec=True,lab='Basic aging law',save_on=False,ls='--')\n",
    "fout_time(save_dir1,outputs1[:,i1,:],dep1,tdep,tvar,col='k',plot_in_sec=True,lab='Basic aging law',save_on=False,ls='--')\n",
    "plt.legend(fontsize=15,loc='lower right')\n",
    "# plt.legend(fontsize=15,loc='upper right')\n",
    "plt.xlim(outputs2[0,0,0]-.5,outputs2[0,-1,0]+.5)\n",
    "# plt.xlim(outputs2[0,0,0]-.5,outputs3[0,0,0]+5)\n",
    "# plt.xlim(outputs2[0,-1,0]-1.5,outputs3[0,0,0]+1.5)\n",
    "plt.show()\n"
   ]
  },
  {
   "cell_type": "code",
   "execution_count": null,
   "metadata": {},
   "outputs": [],
   "source": [
    "def compute_RHS(outputs,dep,tdep):\n",
    "    indx = np.argmin(abs(abs(dep) - abs(tdep)))\n",
    "    print('Depth = %1.2f [km]'%abs(dep[indx]))\n",
    "    V0 = 1e-6\n",
    "    time = outputs[indx,1:,0]-outputs[indx,1,0]\n",
    "    psi = outputs[indx,1:,1]\n",
    "    V = outputs[indx,1:,4]\n",
    "    sn = outputs[indx,1:,5]\n",
    "    mesh_y,het_var = np.loadtxt('/home/jyun/Tandem/perturb_stress/fractal_ab_02',unpack=True)\n",
    "    from scipy import interpolate\n",
    "    f_var = interpolate.interp1d(mesh_y,het_var,bounds_error=False,fill_value=het_var[0])\n",
    "    a = f_var(dep)[indx] + 0.019\n",
    "    f = a*np.arcsinh((abs(V)/2/V0) * np.exp(psi/a))\n",
    "    tau = -sn*f\n",
    "    return time,psi,tau,V,sn,a"
   ]
  },
  {
   "cell_type": "code",
   "execution_count": null,
   "metadata": {},
   "outputs": [],
   "source": [
    "plt.rcParams['font.size'] = '15'\n",
    "plt.figure(figsize=(15,6))\n",
    "tdep,tvar = evdep[idx],'state'\n",
    "inc = 1e4\n",
    "i1 = np.where(np.logical_and(outputs1[0,:,0]>=tstart[idx]-58320,outputs1[0,:,0]<=tstart[idx]))[0]\n",
    "i3 = np.where(np.logical_and(outputs3[0,:,0]>=tstart[idx]-58320,outputs3[0,:,0]<=tstart[idx]))[0]\n",
    "fout_time(save_dir1,outputs1[:,i1,:],dep1,tdep,tvar,plot_in_sec=True,lab='Unperturbed',save_on=False)\n",
    "fout_time(save_dir2,outputs2,dep2,tdep,tvar,col=mp.mypink,plot_in_sec=True,lab='During perturbation',save_on=False)\n",
    "fout_time(save_dir3,outputs3[:,i3,:],dep3,tdep,tvar,col=mp.myblue,plot_in_sec=True,lab='After perturbation',save_on=False)\n",
    "plt.legend(fontsize=15,loc='lower right')\n",
    "# plt.legend(fontsize=15,loc='upper right')\n",
    "# plt.xlim(outputs2[0,0,0]-1.5,outputs3[0,0,0]+50)\n",
    "plt.show()\n"
   ]
  },
  {
   "cell_type": "code",
   "execution_count": null,
   "metadata": {},
   "outputs": [],
   "source": [
    "plt.rcParams['font.size'] = '15'\n",
    "plt.figure(figsize=(10,6))\n",
    "tdep,tvar = 22,'sliprate'\n",
    "fout_time(save_dir2,outputs2[:,1:,:],dep2,tdep,tvar,col=mp.mypink,plot_in_sec=True,lab=r'$V_{pl}=3.2\\times10^{-11}$ m/s',save_on=False)\n",
    "fout_time(save_dir1,outputs1,dep1,tdep,tvar,col='k',plot_in_sec=True,lab='$V_{pl} = 10^{-9}$ m/s',save_on=False,ls='--')\n",
    "plt.xlim(0,sc.yr2sec*2000)\n",
    "plt.legend(fontsize=15)\n",
    "plt.show()"
   ]
  },
  {
   "cell_type": "markdown",
   "metadata": {},
   "source": [
    "# Compare slip/sliprate during perturbation"
   ]
  },
  {
   "cell_type": "code",
   "execution_count": null,
   "metadata": {},
   "outputs": [],
   "source": [
    "target_var = 'slip'\n",
    "fig,ax=plt.subplots(figsize=(6,8))\n",
    "var1 = model1.variables[target_var].data\n",
    "var2 = model2.variables[target_var].data\n",
    "print(model1.variables['time'].data[0,-1]-model1.variables['time'].data[0,0])\n",
    "ax.plot(var1[:,-1]-var1[:,0],-model1.dep,lw=2.5,label=model1.branch_name)\n",
    "ax.plot(var2[:,-1]-var2[:,0],-model2.dep,lw=2.5,label=model2.branch_name)\n",
    "ax.legend(fontsize=14)\n",
    "ax.set_xlabel(model1.variables[target_var].label,fontsize=17)\n",
    "ax.set_ylabel('Depth [km]',fontsize=17)\n",
    "ax.grid(True,alpha=0.5)\n",
    "ax.set_ylim(0,15)\n",
    "ax.invert_yaxis()"
   ]
  },
  {
   "cell_type": "markdown",
   "metadata": {},
   "source": [
    "# Check the last written output"
   ]
  },
  {
   "cell_type": "code",
   "execution_count": null,
   "metadata": {},
   "outputs": [],
   "source": [
    "fig,ax=plt.subplots(ncols=2,figsize=(15,10))\n",
    "ivar = 3\n",
    "# ax[0].plot(outputs2[:,-1,ivar],-dep2,c='k',lw=2.5,label='Last output during perturbation')\n",
    "# ax[0].plot(outputs3[:,1,ivar],-dep3,c=mp.myburgundy,lw=2.5,linestyle='--',label='First output after perturbation')\n",
    "# ax[0].legend(fontsize=14)\n",
    "ax[0].plot(outputs3[:,1,ivar]-outputs2[:,-1,ivar],-dep2,c='k',lw=2.5,label='Last output during perturbation')\n",
    "ax[0].set_xlabel('Shear Stress [MPa]',fontsize=17)\n",
    "ax[0].set_ylabel('Depth [km]',fontsize=17)\n",
    "ax[0].grid(True,alpha=0.5)\n",
    "ax[0].set_ylim(0,24)\n",
    "ax[0].invert_yaxis()\n",
    "\n",
    "ivar = 5\n",
    "# ax[1].plot(outputs2[:,-1,ivar],-dep2,c='k',lw=2.5,label='Last output during perturbation')\n",
    "# ax[1].plot(outputs3[:,1,ivar],-dep3,c=mp.myburgundy,lw=2.5,linestyle='--',label='First output after perturbation')\n",
    "# ax[1].legend(fontsize=14)\n",
    "ax[1].plot(outputs3[:,1,ivar]-outputs2[:,-1,ivar],-dep2,c='k',lw=2.5,label='Last output during perturbation')\n",
    "ax[1].set_xlabel('Normal Stress [MPa]',fontsize=17)\n",
    "ax[1].set_ylabel('Depth [km]',fontsize=17)\n",
    "ax[1].grid(True,alpha=0.5)\n",
    "ax[1].set_ylim(0,24)\n",
    "ax[1].invert_yaxis()\n",
    "plt.show()"
   ]
  },
  {
   "cell_type": "code",
   "execution_count": null,
   "metadata": {},
   "outputs": [],
   "source": [
    "plt.rcParams['font.size'] = '15'\n",
    "plt.figure(figsize=(6,8))\n",
    "target_var = 'state'\n",
    "along_fault_at_transition(save_dir1,outputs1[:, outputs1.shape[1]-1,:],dep1,target_var,col='0.5',lab='output1; End',save_on=False)\n",
    "along_fault_at_transition(save_dir2,outputs2[:,0,:],dep2,target_var,col=mp.mypink,lab='output2; Start',save_on=False)\n",
    "along_fault_at_transition(save_dir2,outputs2[:, outputs2.shape[1]-1,:],dep2,target_var,col='0.62',lab='output2; End',save_on=False)\n",
    "along_fault_at_transition(save_dir3,outputs3[:,0,:],dep3,target_var,col=mp.myblue,lab='output3; Start',save_on=False)\n",
    "plt.legend(fontsize=15,loc='lower left')\n",
    "plt.gca().invert_yaxis()"
   ]
  },
  {
   "cell_type": "code",
   "execution_count": null,
   "metadata": {},
   "outputs": [],
   "source": [
    "plt.rcParams['font.size'] = '15'\n",
    "plt.figure(figsize=(6,8))\n",
    "target_var = 'state'\n",
    "indx1,indx2 = outputs1.shape[1]-1, 0\n",
    "along_fault_at_transition(save_dir2,outputs2[:,0,:]-outputs1[:,outputs1.shape[1]-1,:],dep2,target_var,lab='output2 - output1',col=mp.myburgundy,save_on=False)\n",
    "along_fault_at_transition(save_dir3,outputs3[:,0,:]-outputs2[:,outputs2.shape[1]-1,:],dep3,target_var,lab='output3 - output2',col=mp.mynavy,save_on=False)\n",
    "plt.legend(fontsize=15,loc='lower left')\n",
    "plt.gca().invert_yaxis()"
   ]
  },
  {
   "cell_type": "code",
   "execution_count": null,
   "metadata": {},
   "outputs": [],
   "source": [
    "print('Outputs1: from %1.18e to %1.18e s'%(outputs1[0,0,0],outputs1[0,-1,0]))\n",
    "print('Time at checkpoint 1: %1.18e s'%(ckp_dat1[-1][-1]))\n",
    "print('Outputs2: from %1.18e to %1.18e s'%(outputs2[0,0,0],outputs2[0,-1,0]))\n",
    "print('Time at checkpoint 2: %1.18e s'%(ckp_dat2[-1][-1]))\n",
    "print('Outputs3: from %1.18e to %1.18e s'%(outputs3[0,0,0],outputs3[0,-1,0]))"
   ]
  },
  {
   "cell_type": "markdown",
   "metadata": {},
   "source": [
    "# Plot τ/σ"
   ]
  },
  {
   "cell_type": "code",
   "execution_count": null,
   "metadata": {},
   "outputs": [],
   "source": [
    "target_depth = evdep[idx]\n",
    "indx = np.argmin(abs(abs(dep2) - abs(target_depth)))\n",
    "print('Depth: %1.2f km'%(-dep2[indx]))\n",
    "pure_Ts = np.array(outputs2[indx])[:,3]\n",
    "pure_Pn = np.array(outputs2[indx])[:,5]\n",
    "rel_time = np.array(outputs2[indx])[:,0] - np.array(outputs2[indx])[0,0]"
   ]
  },
  {
   "cell_type": "code",
   "execution_count": null,
   "metadata": {},
   "outputs": [],
   "source": [
    "plt.figure(figsize=(10,6))\n",
    "plt.plot(rel_time,-pure_Ts/pure_Pn,'k',lw=2.5)\n",
    "plt.xlabel('Time [s]',fontsize=17)\n",
    "plt.ylabel(r'$\\tau/\\sigma$',fontsize=17)\n",
    "plt.grid(True,alpha=0.5)\n",
    "plt.ylim(0.3,0.8)\n",
    "plt.show()"
   ]
  },
  {
   "cell_type": "markdown",
   "metadata": {},
   "source": [
    "# Work"
   ]
  },
  {
   "cell_type": "code",
   "execution_count": null,
   "metadata": {},
   "outputs": [],
   "source": [
    "from scipy import integrate\n",
    "shearT = abs(model1.variables['shearT'].data)\n",
    "cumslip = model1.variables['slip'].data[:,1:]\n",
    "\n",
    "G,Dev = [],[]\n",
    "for di in range(len(model1.dep)):\n",
    "    target_depth = model1.dep[di]\n",
    "    slip = cumslip[di,:] - cumslip[di,0]\n",
    "    ts = -model1.get_output_dCFS(target_depth,print_on=False)[-1]\n",
    "\n",
    "    x = slip[:400]\n",
    "    y = ts[:400]*1e6\n",
    "    area = integrate.simpson(y,x)\n",
    "    G.append(area)\n",
    "    Dev.append(x[-1]-x[0])\n",
    "\n",
    "work = integrate.simpson(G,-model1.dep*1e3)\n",
    "# print(work)"
   ]
  },
  {
   "cell_type": "code",
   "execution_count": null,
   "metadata": {},
   "outputs": [],
   "source": [
    "if not 'idx' in dir(model1):\n",
    "    model1.load_related_ref()\n",
    "    hypo_depth = model1.evdep[model1.idx]\n",
    "slip = cumslip[:,-1] - cumslip[:,0]\n",
    "fig,ax=plt.subplots(ncols=2,figsize=(10,6))\n",
    "ax[0].plot(slip,-model1.dep,'k')\n",
    "xl = ax[0].get_xlim()\n",
    "ax[0].hlines(y=hypo_depth,xmin=xl[0],xmax=xl[1],linestyle='--',color=mp.myburgundy)\n",
    "ax[0].set_xlim(xl)\n",
    "ax[0].set_xlabel('Slip [m]')\n",
    "ax[0].set_ylabel('Depth [km]')\n",
    "ax[0].set_ylim(0,12)\n",
    "ax[0].invert_yaxis()\n",
    "\n",
    "ax[1].plot(G,-model1.dep,'k')\n",
    "xl = ax[1].get_xlim()\n",
    "ax[1].hlines(y=hypo_depth,xmin=xl[0],xmax=xl[1],linestyle='--',color=mp.myburgundy)\n",
    "ax[1].set_xlim(xl)\n",
    "ax[1].set_xlabel('Work per distance [J/m]')\n",
    "ax[1].set_ylim(0,12)\n",
    "ax[1].invert_yaxis()\n",
    "plt.show()"
   ]
  },
  {
   "cell_type": "code",
   "execution_count": null,
   "metadata": {},
   "outputs": [],
   "source": [
    "fig,ax=plt.subplots(figsize=(5,6))\n",
    "# ax[0].plot(shearT[:,0],-model1.dep,'k')\n",
    "# ax[0].plot(shearT[:,-1],-model1.dep,'r')\n",
    "# ax.plot(shearT[:,-1]-shearT[:,0],-model1.dep,'k')\n",
    "ax.plot(shearT[:,400]-shearT[:,0],-model1.dep,'k')\n",
    "xl = ax.get_xlim()\n",
    "ax.hlines(y=hypo_depth,xmin=xl[0],xmax=xl[1],linestyle='--',color=mp.myburgundy)\n",
    "ax.set_xlim(xl)\n",
    "ax.set_xlabel('Shear Traction [MPa]')\n",
    "ax.set_ylabel('Depth [km]')\n",
    "ax.set_ylim(0,24)\n",
    "ax.invert_yaxis()\n",
    "plt.show()"
   ]
  },
  {
   "cell_type": "markdown",
   "metadata": {},
   "source": [
    "# Compare with the input stress perturbation"
   ]
  },
  {
   "cell_type": "code",
   "execution_count": null,
   "metadata": {},
   "outputs": [],
   "source": [
    "delPn = np.loadtxt('%s/ssaf_%s_Pn_pert_mu%02d_%d.dat'%(pert.stress_models_dir,pert.seissol_model_n,int(pert.mu*10),pert.receivef_strike))\n",
    "delTs = np.loadtxt('%s/ssaf_%s_Ts_pert_mu%02d_%d.dat'%(pert.stress_models_dir,pert.seissol_model_n,int(pert.mu*10),pert.receivef_strike))\n",
    "depth_range = np.loadtxt('%s/ssaf_%s_dep_stress_pert_mu%02d_%d.dat'%(pert.stress_models_dir,pert.seissol_model_n,int(pert.mu*10),pert.receivef_strike))"
   ]
  },
  {
   "cell_type": "code",
   "execution_count": null,
   "metadata": {},
   "outputs": [],
   "source": [
    "if not 'idx' in dir(model1):\n",
    "    model1.load_related_ref()\n",
    "    target_depth = model1.evdep[model1.idx]"
   ]
  },
  {
   "cell_type": "markdown",
   "metadata": {},
   "source": [
    "## Compare with input normal stress/shear stress "
   ]
  },
  {
   "cell_type": "markdown",
   "metadata": {},
   "source": [
    "### Stress change"
   ]
  },
  {
   "cell_type": "code",
   "execution_count": null,
   "metadata": {},
   "outputs": [],
   "source": [
    "from scipy import interpolate\n",
    "# target_depth = 6.9\n",
    "# target_depth = -model1.dep[np.argmax(cumslip[:,-1]-cumslip[:,0])]\n",
    "if not 'idx' in dir(model1):\n",
    "    model1.load_related_ref()\n",
    "target_depth = model1.evdep[model1.idx]\n",
    "_,time_seissol,delPn,delTs,depth_range = model1.get_input_dCFS(target_depth,dt=0.01)\n",
    "_,time_tandem,pn,ts = model1.get_output_dCFS(target_depth)\n",
    "delPn_at_D = np.array([interpolate.interp1d(depth_range,delPn[ti])(-target_depth) for ti in range(delPn.shape[0])])\n",
    "delTs_at_D = [interpolate.interp1d(depth_range,delTs[ti])(-target_depth) for ti in range(delTs.shape[0])]\n",
    "# t = np.linspace(0,delTs.shape[0]*0.01,delTs.shape[0])\n",
    "aa=1\n",
    "plt.rcParams['font.size'] = '15'\n",
    "plt.figure(figsize=(10,6))\n",
    "plt.plot(time_seissol,delTs_at_D,'k',lw=2.5,label='Input Shear Stress')\n",
    "plt.plot(time_tandem,-ts,'0.62',lw=2.5,linestyle='--',label='Output Shear Stress')\n",
    "# plt.plot(time_seissol,-delPn_at_D,c=mp.myburgundy,lw=2.5,label='Input Normal Stress')\n",
    "# plt.plot(time_tandem,pn,c=mp.mypalepink,lw=2.5,linestyle='--',label='Output Normal Stress')\n",
    "plt.legend(fontsize=15,loc='lower right')\n",
    "plt.title('%s; Depth = %1.2f km; Strike = %d˚'%(model1.seissol_model_n,target_depth,model1.receivef_strike),fontsize=21,fontweight='bold')\n",
    "plt.xlabel('Time [s]',fontsize=17)\n",
    "plt.ylabel('Stress Change [MPa]',fontsize=17)\n",
    "plt.grid(True,alpha=0.5)\n",
    "# plt.xlim(0,6)\n",
    "plt.show()"
   ]
  },
  {
   "cell_type": "markdown",
   "metadata": {},
   "source": [
    "### Absolute stress level"
   ]
  },
  {
   "cell_type": "code",
   "execution_count": null,
   "metadata": {},
   "outputs": [],
   "source": [
    "plt.rcParams['font.size'] = '15'\n",
    "plt.figure(figsize=(15,6))\n",
    "# tdep,tvar = evdep[idx],'normalT'\n",
    "tdep,tvar = evdep[idx],'shearT'\n",
    "if tvar == 'normalT':\n",
    "    delVar = delPn\n",
    "elif tvar == 'shearT':\n",
    "    delVar = delTs\n",
    "# abs_on = False\n",
    "abs_on = True\n",
    "inc = 1e4\n",
    "i1 = np.where(np.logical_and(outputs1[0,:,0]>=outputs2[0,0,0]-inc,outputs1[0,:,0]<=outputs2[0,-1,0]+inc))[0]\n",
    "fout_time(save_dir1,outputs1[:,i1,:],dep1,tdep,tvar,plot_in_sec=True,col='0.62',lab='Unperturbed',abs_on=abs_on,save_on=False)\n",
    "otime,_ = stress_pert_at_depth(save_dir2,outputs2,dep2,delVar,depth_range,tdep,tvar,plot_in_sec=True,col='k',lab='Input perturbation',abs_on=abs_on,print_on=True,save_on=False)\n",
    "fout_time(save_dir2,outputs2,dep2,tdep,tvar,col=mp.mypink,plot_in_sec=True,lab='Perturbed',abs_on=abs_on,save_on=False)\n",
    "plt.legend(fontsize=15,loc='lower right')\n",
    "plt.xlim(otime[0]-5,otime[-1]+5)\n",
    "# plt.xlim(outputs2[0,0,0]-2.5,outputs2[0,-1,0]+2.5)\n",
    "# plt.ylim(-36.9,-35)\n",
    "# plt.ylim(35.25,36.5)\n",
    "plt.show()\n"
   ]
  },
  {
   "cell_type": "markdown",
   "metadata": {},
   "source": [
    "## Compute dCFS from the output to validate the behvaior"
   ]
  },
  {
   "cell_type": "markdown",
   "metadata": {},
   "source": [
    "### During perturbation vs. input"
   ]
  },
  {
   "cell_type": "code",
   "execution_count": null,
   "metadata": {},
   "outputs": [],
   "source": [
    "from perturb_plots import compare_dCFS_at_depth\n",
    "plt.rcParams['font.size'] = '15'\n",
    "fig,ax=plt.subplots(figsize=(15,6))\n",
    "if not 'idx' in dir(model1):\n",
    "    model1.load_related_ref()\n",
    "    target_depth = model1.evdep[model1.idx]\n",
    "dCFSt_seissol,time_seissol = model1.get_input_dCFS(target_depth,dt=0.01)[:2]\n",
    "dCFSt_tandem,time_tandem = model1.get_output_dCFS(target_depth)[:2]\n",
    "ax = compare_dCFS_at_depth(ax,dCFSt_seissol,time_seissol,dCFSt_tandem,time_tandem)\n",
    "ax.legend(fontsize=15,loc='lower right')\n",
    "plt.show()"
   ]
  },
  {
   "cell_type": "markdown",
   "metadata": {},
   "source": [
    "### After perturbation vs. During perturbation"
   ]
  },
  {
   "cell_type": "code",
   "execution_count": null,
   "metadata": {},
   "outputs": [],
   "source": [
    "from scipy import interpolate\n",
    "tdep = evdep[idx]\n",
    "mu = 0.4\n",
    "inc = 1e4\n",
    "\n",
    "indx = np.argmin(abs(abs(dep2) - abs(tdep)))\n",
    "print('Depth = %1.2f [km]'%abs(dep2[indx]))\n",
    "pn2 = np.array(outputs2[indx])[1:,5]-np.array(outputs2[indx])[1,5]\n",
    "ts2 = np.array(outputs2[indx])[1:,3]-np.array(outputs2[indx])[1,3]\n",
    "dCFSt2 = -ts2 - mu*pn2\n",
    "t2 = np.array(outputs2[indx])[1:,0] # -np.array(outputs2[indx])[0,0]\n",
    "\n",
    "pn3 = np.array(outputs3[indx])[1:,5]-np.array(outputs2[indx])[1,5]\n",
    "ts3 = np.array(outputs3[indx])[1:,3]-np.array(outputs2[indx])[1,3]\n",
    "dCFSt3 = -ts3 - mu*pn3\n",
    "t3 = np.array(outputs3[indx])[1:,0] # -np.array(outputs3[indx])[0,0]\n",
    "\n",
    "plt.rcParams['font.size'] = '15'\n",
    "plt.figure(figsize=(15,6))\n",
    "\n",
    "plt.plot(t2,dCFSt2,color='k',lw=2.5,label='DuringPerturbation',linestyle='-')\n",
    "plt.plot(t3,dCFSt3,color=mp.myburgundy,lw=2.5,label='After Perturbation',linestyle='--')\n",
    "plt.xlabel('Time [s]',fontsize=17)\n",
    "plt.ylabel('dCFS [Mpa]',fontsize=17)\n",
    "plt.grid(True,alpha=0.5)\n",
    "plt.tight_layout()\n",
    "\n",
    "plt.legend(fontsize=15,loc='lower right')\n",
    "plt.xlim(outputs2[0,0,0]-.5,outputs3[0,0,0]+5)\n",
    "plt.ylim(-1.5,1.5)\n",
    "plt.show()\n"
   ]
  },
  {
   "cell_type": "markdown",
   "metadata": {},
   "source": [
    "# Compare event distribution"
   ]
  },
  {
   "cell_type": "code",
   "execution_count": null,
   "metadata": {},
   "outputs": [],
   "source": [
    "def plot_system_events(tstart,evdep,system_wide,col,lab=''):\n",
    "    # plt.scatter(np.arange(len(system_wide)),evdep[system_wide],150,ec='k',fc=col,lw=1,marker='*',zorder=3,label=lab)\n",
    "    plt.scatter(tstart[system_wide],evdep[system_wide],150,ec='k',fc=col,lw=1,marker='*',zorder=3,label=lab)\n",
    "    xl = ax.get_xlim()\n",
    "    plt.hlines(y=2,xmin=xl[0],xmax=xl[1],linestyles='--',color='0.62',lw=1.5)\n",
    "    plt.hlines(y=12,xmin=xl[0],xmax=xl[1],linestyles='--',color='0.62',lw=1.5)\n",
    "    plt.ylim(0,24)\n",
    "    ax.invert_yaxis()\n",
    "    plt.xticks(np.arange(len(system_wide)), minor=True)\n",
    "    # plt.xlabel('System-size event index',fontsize=17)\n",
    "    plt.xlabel('Event Time [s]',fontsize=17)\n",
    "    plt.ylabel('Depth [km]',fontsize=17)\n",
    "    plt.xlim(xl[0],xl[1])\n",
    "    plt.grid(True,alpha=0.5,which='both')\n",
    "\n",
    "def plot_all_events(tstart,evdep,system_wide,partial_rupture,lead_fs):\n",
    "    plt.scatter(tstart[partial_rupture],evdep[partial_rupture],70,ec='k',fc=mp.mylightblue,lw=1,marker='d',zorder=3,label='Partial rupture events')\n",
    "    plt.scatter(tstart[lead_fs],evdep[lead_fs],70,ec='k',fc=mp.mydarkviolet,lw=1,marker='d',zorder=3,label='Leading foreshocks')\n",
    "    plt.scatter(tstart[system_wide],evdep[system_wide],150,ec='k',fc=mp.mydarkviolet,lw=1,marker='*',zorder=3,label='System-size events')\n",
    "    # for k in range(len(tstart)):\n",
    "    #     plt.text(tstart[k],evdep[k]-0.2,'%d'%(k),color='k',fontsize=13,ha='right',va='bottom')\n",
    "    xl = ax.get_xlim()\n",
    "    plt.hlines(y=2,xmin=0,xmax=xl[1],linestyles='--',color='0.62',lw=1.5)\n",
    "    plt.hlines(y=12,xmin=0,xmax=xl[1],linestyles='--',color='0.62',lw=1.5)\n",
    "    plt.ylim(0,24)\n",
    "    ax.invert_yaxis()\n",
    "    plt.xlabel('Event Time [s]',fontsize=17)\n",
    "    plt.ylabel('Depth [km]',fontsize=17)\n",
    "    plt.xlim(0,xl[1])\n",
    "    # plt.xlim(xl)\n",
    "    plt.grid(True,alpha=0.5,which='both')"
   ]
  },
  {
   "cell_type": "code",
   "execution_count": null,
   "metadata": {},
   "outputs": [],
   "source": [
    "# System-size events only\n",
    "ii = np.where(tstart[system_wide] <= max(tstart2))[0]\n",
    "plot_system_events(tstart,evdep,system_wide[ii],mp.mydarkviolet)\n",
    "plot_system_events(tstart2,evdep2,system_wide2,mp.myyellow,lab='$V_{pl} = 1$ mm/yr')\n",
    "print('Vpl = 31 mm/yr: last event: %g s, total %d events'%(np.max(tstart[system_wide[ii]]),len(system_wide[ii])))\n",
    "print('Vpl = 1 mm/yr: last event: %g s, total %d events'%(np.max(tstart2[system_wide2[ii]]),len(system_wide2)))\n",
    "plt.legend(fontsize=13,loc='lower right')\n",
    "plt.tight_layout()\n",
    "plt.show()"
   ]
  },
  {
   "cell_type": "code",
   "execution_count": null,
   "metadata": {},
   "outputs": [],
   "source": [
    "# ref.load_events()\n",
    "# model1.load_events(compute_on=True,save_on=False)\n",
    "fig,ax=plt.subplots(figsize=(18,6))\n",
    "plot_all_events(ref.tstart,ref.evdep,ref.system_wide,ref.partial_rupture,ref.lead_fs)\n",
    "plt.vlines(x=model1.tstart[model1.system_wide],ymin=0,ymax=24,color=mp.myburgundy,linestyles='--',lw=2)\n",
    "plt.legend(fontsize=13,loc='lower right')\n",
    "plt.tight_layout()\n",
    "plt.show()"
   ]
  },
  {
   "cell_type": "code",
   "execution_count": 2,
   "metadata": {},
   "outputs": [
    {
     "name": "stdout",
     "output_type": "stream",
     "text": [
      "Load saved data: /export/dump/jyun/perturb_stress/lowres_spinup_aginglaw_reference/cumslip_outputs_Vths_2e-01_srvar_010_rths_10_tcreep_2_tseis_05.npy\n",
      "Load saved data: /export/dump/jyun/perturb_stress/lowres_spinup_aginglaw_reference/spin_up_idx_Vths_2e-01_srvar_010_rths_10_tcreep_2_tseis_05.npy\n",
      "Compute event details\n",
      "Compute cumulative slip vs. depth >>> No cutting\n",
      "Slip rate > 2e-01\n",
      "All safe from the SR variation criterion\n",
      "Remove single-depth activated event: []\n",
      "Too short to spin-up - skip\n"
     ]
    }
   ],
   "source": [
    "ref.load_events()\n",
    "model1.load_events(compute_on=True,save_on=False)\n",
    "ref.get_idx(model1.target_eventid)\n",
    "# fig,ax=plt.subplots(figsize=(8,6))\n",
    "# plot_all_events(ref.tstart,ref.evdep,ref.system_wide,ref.partial_rupture,ref.lead_fs)\n",
    "# plt.vlines(x=ref.tstart[ref.idx]-16.2*3600,ymin=0,ymax=24,color=mp.mypink,linestyles='--',lw=2)\n",
    "# plt.text(ref.tstart[ref.idx]-16.2*3600-1e4,15,'Perturbation Start',color=mp.mypink,fontsize=13,ha='right',va='bottom',fontweight='bold')\n",
    "# plt.vlines(x=model1.tstart[model1.system_wide],ymin=0,ymax=24,color=mp.mynavy,linestyles='--',lw=2)\n",
    "# plt.text(model1.tstart[model1.system_wide]-1e4,13.5,'Perturbed Event Time',color=mp.mynavy,fontsize=13,ha='right',va='bottom',fontweight='bold')\n",
    "# # xmin,xmax = ref.tstart[12]-1e5,model1.tend[model1.system_wide[-1]]+1e5\n",
    "# closest_leadfs = ref.lead_fs[np.argmin(ref.tstart[ref.lead_fs]-ref.tstart[ref.idx]-16.2*3600)]\n",
    "# print(closest_leadfs)\n",
    "# xmin,xmax = ref.tstart[closest_leadfs]-1e5,model.tend[model.system_wide[-1]]+1e5\n",
    "# for k in range(len(ref.tstart)):\n",
    "#     if ref.tstart[k] >= xmin and ref.tstart[k] <= xmax:\n",
    "#         plt.text(ref.tstart[k],ref.evdep[k]-0.2,'%d'%(k),color='k',fontsize=13,ha='right',va='bottom')\n",
    "# plt.legend(fontsize=13,loc='lower right')\n",
    "# plt.xlim(xmin,xmax)\n",
    "# plt.tight_layout()\n",
    "# plt.show()"
   ]
  },
  {
   "cell_type": "code",
   "execution_count": 4,
   "metadata": {},
   "outputs": [
    {
     "data": {
      "text/plain": [
       "116.20299906571707"
      ]
     },
     "execution_count": 4,
     "metadata": {},
     "output_type": "execute_result"
    }
   ],
   "source": [
    "(ref.tstart[18]-ref.tstart[12])/3600"
   ]
  },
  {
   "cell_type": "code",
   "execution_count": null,
   "metadata": {},
   "outputs": [],
   "source": [
    "ref.lead_fs[np.argmin(abs(ref.tstart[ref.lead_fs]-ref.tstart[ref.idx]-16.2*3600))]\n",
    "# np.argmin(abs(ref.tstart[ref.lead_fs]-ref.tstart[ref.idx]-16.2*3600))"
   ]
  },
  {
   "cell_type": "markdown",
   "metadata": {},
   "source": [
    "# Quick summary chart"
   ]
  },
  {
   "cell_type": "markdown",
   "metadata": {},
   "source": [
    "## Fixed event"
   ]
  },
  {
   "cell_type": "code",
   "execution_count": null,
   "metadata": {},
   "outputs": [],
   "source": []
  },
  {
   "cell_type": "markdown",
   "metadata": {},
   "source": [
    "## Fixed stress perturbation model"
   ]
  },
  {
   "cell_type": "code",
   "execution_count": null,
   "metadata": {},
   "outputs": [],
   "source": [
    "from perturb_tools import PERTURB\n",
    "import setup_shortcut\n",
    "sc = setup_shortcut.setups()\n",
    "import numpy as np\n",
    "\n",
    "print('####### Fixed stress perturbation model #######')\n",
    "model_n = 'vert_slow'\n",
    "receivef_strike = 340\n",
    "time_diff_in_h = 30\n",
    "if time_diff_in_h == 16.2:\n",
    "    full_model_name = '%s%d'%(sc.model_code(model_n),receivef_strike)\n",
    "else:\n",
    "    full_model_name = '%s%d_%dh'%(sc.model_code(model_n),receivef_strike,time_diff_in_h)\n",
    "print('Model: %s'%(full_model_name))\n",
    "\n",
    "event_list = [8,12,20,31,45,56]\n",
    "\n",
    "evidx,org_evdep,new_evdep,trigg_response,peak_dyn,static = [],[],[],[],[],[]\n",
    "for target_eventid in event_list:\n",
    "    pert = PERTURB(target_eventid,model_n,receivef_strike,print_on=False)\n",
    "    pert.events_without_pert(print_on=False)\n",
    "    pert.events_with_pert(print_on=False)\n",
    "    pert.load_stress_info(print_on=False)\n",
    "    org_evdep.append(pert.ref_evdep[pert.ref_idx])\n",
    "    evidx.append(pert.ref_idx)\n",
    "    if len(pert.system_wide) == 1:\n",
    "        new_evdep.append(pert.evdep[pert.system_wide][0])\n",
    "        trigg_response.append((pert.tstart[pert.system_wide]-pert.ref_tstart[pert.ref_idx])/3600)\n",
    "        peak_dyn.append(pert.peak_dynamic)\n",
    "        static.append(pert.static)\n",
    "    elif len(pert.system_wide) > 1:\n",
    "        print('Event %d: More than one system-size events'%(target_eventid))\n",
    "    elif len(pert.system_wide) == 0:\n",
    "        print('Event %d: No system-size events'%(target_eventid))\n",
    "\n",
    "print(' Event # | ID | Hyp. Depth | Peak dCFS | Static dCFS | Time diff. | New Hyp. Depth')\n",
    "for i in range(len(org_evdep)):\n",
    "    print('  %d  |  %d  |   %1.2f   |   %1.4f   |   %1.4f   |   %1.4f  |   %1.2f  '%(evidx[i],event_list[i],org_evdep[i],peak_dyn[i],static[i],trigg_response[i],new_evdep[i]))"
   ]
  },
  {
   "cell_type": "code",
   "execution_count": null,
   "metadata": {},
   "outputs": [],
   "source": [
    "from perturb_tools import PERTURB\n",
    "import setup_shortcut\n",
    "sc = setup_shortcut.setups()\n",
    "import numpy as np\n",
    "\n",
    "print('####### Fixed stress perturbation model #######')\n",
    "model_n = 'vert_slow'\n",
    "receivef_strike = 340\n",
    "time_diff_in_h = 30\n",
    "if time_diff_in_h == 16.2:\n",
    "    full_model_name = '%s%d'%(sc.model_code(model_n),receivef_strike)\n",
    "else:\n",
    "    full_model_name = '%s%d_%dh'%(sc.model_code(model_n),receivef_strike,time_diff_in_h)\n",
    "print('Model: %s'%(full_model_name))\n",
    "\n",
    "pert = PERTURB(8,model_n,receivef_strike,print_on=False)\n",
    "pert.events_without_pert(print_on=False)\n",
    "pert.load_stress_info(print_on=False)\n",
    "print(pert.peak_dynamic,pert.static)"
   ]
  },
  {
   "cell_type": "code",
   "execution_count": null,
   "metadata": {},
   "outputs": [],
   "source": [
    "float('vert_slow_X10'.split('_X')[-1])"
   ]
  },
  {
   "cell_type": "code",
   "execution_count": null,
   "metadata": {},
   "outputs": [],
   "source": []
  }
 ],
 "metadata": {
  "kernelspec": {
   "display_name": "ridgecrest",
   "language": "python",
   "name": "python3"
  },
  "language_info": {
   "codemirror_mode": {
    "name": "ipython",
    "version": 3
   },
   "file_extension": ".py",
   "mimetype": "text/x-python",
   "name": "python",
   "nbconvert_exporter": "python",
   "pygments_lexer": "ipython3",
   "version": "3.10.8"
  }
 },
 "nbformat": 4,
 "nbformat_minor": 2
}
