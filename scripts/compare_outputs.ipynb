{
 "cells": [
  {
   "cell_type": "markdown",
   "metadata": {},
   "source": [
    "# Tools to compare outputs among models\n",
    "Last modification: 2023.11.08.</br>\n",
    "Update note: Added comparing transition"
   ]
  },
  {
   "cell_type": "markdown",
   "metadata": {},
   "source": [
    "# Initiate"
   ]
  },
  {
   "cell_type": "code",
   "execution_count": 2,
   "metadata": {},
   "outputs": [
    {
     "name": "stdout",
     "output_type": "stream",
     "text": [
      "Load saved data: /export/dump/jyun/perturb_stress/after_pert8_vsX10_340/outputs.npy\n"
     ]
    },
    {
     "name": "stdout",
     "output_type": "stream",
     "text": [
      "Load saved data: /export/dump/jyun/perturb_stress/after_pert8_vsX10_340/outputs_depthinfo.npy\n",
      "Load saved data: /export/dump/jyun/perturb_stress/after_pert8_vsX10_340/const_params.npy\n",
      "Load saved data: /export/dump/jyun/perturb_stress/continue_after_pert8_vsX10_340/outputs.npy\n",
      "Load saved data: /export/dump/jyun/perturb_stress/continue_after_pert8_vsX10_340/outputs_depthinfo.npy\n",
      "Load saved data: /export/dump/jyun/perturb_stress/continue_after_pert8_vsX10_340/const_params.npy\n",
      "Load saved data: /export/dump/jyun/perturb_stress/reference/short_outputs_0\n",
      "Load saved data: /export/dump/jyun/perturb_stress/reference/outputs_depthinfo\n",
      "Load saved data: /export/dump/jyun/perturb_stress/reference/const_params.npy\n",
      "Load checkpoint info from  /export/dump/jyun/perturb_stress/after_pert8_vsX10_340/checkpoint_info.csv\n"
     ]
    }
   ],
   "source": [
    "import numpy as np\n",
    "import setup_shortcut\n",
    "import change_params\n",
    "from read_outputs import *\n",
    "sc = setup_shortcut.setups()\n",
    "ch = change_params.variate()\n",
    "\n",
    "target_eventid = 8\n",
    "save_dir = 'perturb_stress/seissol_outputs'\n",
    "# model_n = 'vert_fast'\n",
    "model_n = 'vert_slow_X10'\n",
    "# model_n = 'vert_slow'\n",
    "# model_n = 'dipping_fast'\n",
    "# model_n = 'dipping_slow'\n",
    "mu = 0.4\n",
    "# receivef_strike = 330\n",
    "receivef_strike = 340\n",
    "# receivef_strike = 350\n",
    "\n",
    "save_dir1 = '/export/dump/jyun/'+'perturb_stress/reference'\n",
    "# save_dir2 = '/export/dump/jyun/'+'perturb_stress/hf10_reference'\n",
    "# save_dir2 = '/export/dump/jyun/'+'perturb_stress/reference_1'\n",
    "# save_dir3 = '/export/dump/jyun/'+'perturb_stress/reference_2'\n",
    "# save_dir4 = '/export/dump/jyun/'+'perturb_stress/reference_3'\n",
    "# save_dir2 = '/export/dump/jyun/'+'perturb_stress/match%d'%(target_eventid)\n",
    "# save_dir2 = '/export/dump/jyun/'+'perturb_stress/pert%d_%s%d'%(target_eventid,sc.model_code(model_n),receivef_strike)\n",
    "# save_dir3 = '/export/dump/jyun/'+'perturb_stress/after_pert%d_%s%d'%(target_eventid,sc.model_code(model_n),receivef_strike)\n",
    "# save_dir2 = '/export/dump/jyun/'+'perturb_stress/pert%d_%s%d_20h'%(target_eventid,sc.model_code(model_n),receivef_strike)\n",
    "# save_dir3 = '/export/dump/jyun/'+'perturb_stress/after_pert%d_%s%d_20h'%(target_eventid,sc.model_code(model_n),receivef_strike)\n",
    "save_dir2 = '/export/dump/jyun/'+'perturb_stress/after_pert%d_%s%d'%(target_eventid,sc.model_code(model_n),receivef_strike)\n",
    "save_dir3 = '/export/dump/jyun/'+'perturb_stress/continue_after_pert%d_%s%d'%(target_eventid,sc.model_code(model_n),receivef_strike)\n",
    "\n",
    "# outputs1,dep1,params1 = load_short_fault_probe_outputs(save_dir1,0)\n",
    "if 'save_dir2' in locals(): outputs2,dep2,params2 = load_fault_probe_outputs(save_dir2)\n",
    "if 'save_dir3' in locals(): outputs3,dep3,params3 = load_fault_probe_outputs(save_dir3)\n",
    "if 'save_dir4' in locals(): outputs4,dep4,params4 = load_fault_probe_outputs(save_dir4)\n",
    "\n",
    "if 'save_dir1' in locals():\n",
    "    start_time = np.load('%s/short_outputs_start_time.npy'%(save_dir1))\n",
    "    if 'outputs3' in locals():\n",
    "        soidx = np.where(start_time<=np.min([outputs2[0,0,0],outputs3[0,0,0]]))[0][-1]\n",
    "        if soidx < len(start_time)-1 and outputs3[0,-1,0] >= start_time[soidx+1]:\n",
    "            print('WARNING: Output 2 and 3 are in the middle of short outputs %d and %d - loading both'%(soidx,soidx+1))\n",
    "            outputs1_1,dep1_1,params1_1 = load_short_fault_probe_outputs(save_dir1,soidx)\n",
    "            outputs1_2,dep1_2,params1_2 = load_short_fault_probe_outputs(save_dir1,soidx+1)\n",
    "        else:\n",
    "            outputs1,dep1,params1 = load_short_fault_probe_outputs(save_dir1,soidx)\n",
    "    else:\n",
    "        if len(np.where(start_time<=np.min(outputs2[0,0,0]))[0]) > 0:\n",
    "            soidx = np.where(start_time<=np.min(outputs2[0,0,0]))[0][-1]\n",
    "            outputs1,dep1,params1 = load_short_fault_probe_outputs(save_dir1,soidx)\n",
    "        else:\n",
    "            outputs1,dep1,params1 = load_short_fault_probe_outputs(save_dir1,0)\n",
    "\n",
    "if os.path.exists(save_dir2+'/checkpoint_info.csv'):\n",
    "    print('Load checkpoint info from ',save_dir2+'/checkpoint_info.csv')\n",
    "    ckp_dat2 = load_checkpoint_info(save_dir2)\n",
    "# ckp_dat2 = load_checkpoint_info(save_dir2)\n",
    "# ckp_dat3 = load_checkpoint_info(save_dir3)\n",
    "# ckp_dat4 = load_checkpoint_info(save_dir4)"
   ]
  },
  {
   "cell_type": "code",
   "execution_count": 3,
   "metadata": {},
   "outputs": [
    {
     "data": {
      "text/plain": [
       "array([], dtype=int64)"
      ]
     },
     "execution_count": 3,
     "metadata": {},
     "output_type": "execute_result"
    }
   ],
   "source": [
    "np.where(start_time<=np.min(outputs2[0,0,0]))[0]"
   ]
  },
  {
   "cell_type": "code",
   "execution_count": 3,
   "metadata": {},
   "outputs": [
    {
     "name": "stdout",
     "output_type": "stream",
     "text": [
      "Loaded pre-saved cumslip outputs\n",
      "======== Event details without perturbation ========\n",
      "Event 88\n",
      "Event depth without perturbation: 4.38\n",
      "Cumulative slip vs. Depth plot >>> No cutting\n",
      "Slip rate > 2e-01\n",
      "All safe from the SR variation criterion\n",
      "Remove single-depth activated event: []\n",
      "Cumulative slip vs. Depth plot >>> No cutting\n",
      "Slip rate > 2e-01\n",
      "All safe from the SR variation criterion\n",
      "Remove single-depth activated event: []\n",
      "======== Event details with perturbation ========\n",
      "evdep3: [ 3.8  12.44  8.74  6.54  5.9 ]\n",
      "system_wide3: [0 1 2]\n",
      "Event depth with perturbation: [ 3.8  12.44  8.74]\n"
     ]
    }
   ],
   "source": [
    "from cumslip_compute import analyze_events,compute_cumslip\n",
    "cumslip_dir = '/export/dump/jyun/'+'perturb_stress/reference'\n",
    "if 'v6_ab2_Dc2' in cumslip_dir:\n",
    "    Vths = 1e-1\n",
    "    intv = 0.15\n",
    "elif 'perturb_stress' in cumslip_dir:\n",
    "    Vths = 2e-1\n",
    "    intv = 0.15\n",
    "else:\n",
    "    Vths = 1e-2\n",
    "    intv = 0.\n",
    "Vlb = 0\n",
    "dt_interm = 0\n",
    "cuttime = 0\n",
    "rths = 10\n",
    "dt_creep = 2*ch.yr2sec\n",
    "dt_coseismic = 0.5\n",
    "\n",
    "if os.path.exists('%s/cumslip_outputs_Vths_%1.0e_srvar_%03d_rths_%d_tcreep_%d_tseis_%02d.npy'%(cumslip_dir,Vths,intv*100,rths,dt_creep/ch.yr2sec,dt_coseismic*10)):\n",
    "    cumslip_outputs = np.load('%s/cumslip_outputs_Vths_%1.0e_srvar_%03d_rths_%d_tcreep_%d_tseis_%02d.npy'%(cumslip_dir,Vths,intv*100,rths,dt_creep/ch.yr2sec,dt_coseismic*10),allow_pickle=True)\n",
    "    spin_up_idx = np.load('%s/spin_up_idx_Vths_%1.0e_srvar_%03d_rths_%d_tcreep_%d_tseis_%02d.npy'%(cumslip_dir,Vths,intv*100,rths,dt_creep/ch.yr2sec,dt_coseismic*10))\n",
    "    tstart,tend,evdep = cumslip_outputs[0][0],cumslip_outputs[0][1],cumslip_outputs[1][1]\n",
    "    # system_wide = analyze_events(cumslip_outputs,rths)[2]\n",
    "    rupture_length,av_slip,system_wide,partial_rupture,event_cluster,lead_fs,major_pr,minor_pr = analyze_events(cumslip_outputs,rths)\n",
    "    idx = system_wide[system_wide>=spin_up_idx][target_eventid]\n",
    "    print('Loaded pre-saved cumslip outputs')\n",
    "else:\n",
    "    print('No pre-saved cumslip outputs')\n",
    "print('======== Event details without perturbation ========')\n",
    "print('Event %d'%(idx))\n",
    "print('Event depth without perturbation: %1.2f'%(evdep[idx]))\n",
    "\n",
    "if 'save_dir2' in locals(): \n",
    "    cumslip_outputs2 = compute_cumslip(outputs2,dep2,cuttime,Vlb,Vths,dt_creep,dt_coseismic,dt_interm,intv)\n",
    "    tstart2,tend2,evdep2 = cumslip_outputs2[0][0],cumslip_outputs2[0][1],cumslip_outputs2[1][1]\n",
    "    system_wide2 = analyze_events(cumslip_outputs2,rths)[2]\n",
    "    if not 'save_dir3' in locals(): \n",
    "        print('======== Event details with perturbation ========')\n",
    "        print('evdep2:',evdep2)\n",
    "        print('system_wide2:',system_wide2)\n",
    "        print('Event depth with perturbation:',evdep2[system_wide2])\n",
    "\n",
    "if 'save_dir3' in locals(): \n",
    "    cumslip_outputs3 = compute_cumslip(outputs3,dep3,cuttime,Vlb,Vths,dt_creep,dt_coseismic,dt_interm,intv)\n",
    "    tstart3,tend3,evdep3 = cumslip_outputs3[0][0],cumslip_outputs3[0][1],cumslip_outputs3[1][1]\n",
    "    system_wide3 = analyze_events(cumslip_outputs3,rths)[2]\n",
    "    print('======== Event details with perturbation ========')\n",
    "    print('evdep3:',evdep3)\n",
    "    print('system_wide3:',system_wide3)\n",
    "    print('Event depth with perturbation:',evdep3[system_wide3])"
   ]
  },
  {
   "cell_type": "code",
   "execution_count": null,
   "metadata": {},
   "outputs": [],
   "source": [
    "try:\n",
    "    print(outputs1[0,0,0],'to',outputs1[0,-1,0])\n",
    "except:\n",
    "    print(outputs1_1[0,0,0],'to',outputs1_2[0,-1,0])\n",
    "print(np.sort(ckp_dat2,axis=0)[-1][-1])\n",
    "# print(outputs3[0,0,0])\n",
    "# print(np.sort(ckp_dat4,axis=0)[-1][-1])\n",
    "# print(outputs5[0,0,0])"
   ]
  },
  {
   "cell_type": "code",
   "execution_count": null,
   "metadata": {},
   "outputs": [],
   "source": [
    "plt.figure(figsize=(10,6))\n",
    "plt.scatter(tstart[partial_rupture],evdep[partial_rupture],marker='d',s=30,ec='k',zorder=3,fc=mp.mylightblue)\n",
    "plt.scatter(tstart[system_wide],evdep[system_wide],marker='*',s=100,ec='k',zorder=3,fc=mp.mydarkviolet)\n",
    "plt.vlines(x=tstart,ymin=0,ymax=24,color='0.62',lw=3)\n",
    "plt.vlines(x=outputs2[0,0,0],ymin=0,ymax=24,color=mp.mypink,lw=3)\n",
    "plt.vlines(x=tstart3,ymin=0,ymax=24,color=mp.myblue,lw=3)\n",
    "# plt.xlim(outputs2[0,0,0]-1000,tstart[idx]+10000000)\n",
    "# plt.xlim(tstart[idx]-3600*30,tstart[idx]+1000)\n",
    "# plt.xlim(tstart[idx]-8e4,tstart[idx]+1000)\n",
    "# plt.xlim(tstart[idx]-58320,tstart[idx]+1000)\n",
    "# plt.xlim(outputs2[0,0,0]-1000,tstart[idx]+1000)\n",
    "# plt.xlim(outputs2[0,0,0]-1000,tstart3[-2]+1000)\n",
    "plt.xlim(tstart[idx]-5e5,tstart3[-1]+1e5)\n",
    "plt.xlabel('Time [s]',fontsize=17)\n",
    "plt.ylabel('Depth [km]',fontsize=17)\n",
    "plt.ylim(0,24)\n",
    "plt.gca().invert_yaxis()\n",
    "plt.show()"
   ]
  },
  {
   "cell_type": "markdown",
   "metadata": {},
   "source": [
    "# Define plotting tools"
   ]
  },
  {
   "cell_type": "code",
   "execution_count": 4,
   "metadata": {},
   "outputs": [],
   "source": [
    "import matplotlib.pylab as plt\n",
    "from scipy import signal,interpolate\n",
    "import myplots\n",
    "mp = myplots.Figpref()\n",
    "plt.rcParams['font.size'] = '15'\n",
    "\n",
    "def along_fault_at_transition(save_dir,outputs,dep,target_var,ls='-',col='k',lab='',print_on=True,save_on=True):\n",
    "    if print_on:\n",
    "        print('At time %1.4f s'%(outputs[0,0]))\n",
    "    if target_var == 'state':\n",
    "        var = np.array(outputs[:,1])\n",
    "        ylab = 'State Variable'\n",
    "        fign = 'state'\n",
    "    elif target_var == 'slip':\n",
    "        var = np.array(outputs[:,2])\n",
    "        ylab = 'Cumulative Slip [m]'\n",
    "        fign = 'cumslip'\n",
    "    elif target_var == 'shearT':\n",
    "        var = abs(np.array(outputs[:,3]))\n",
    "        ylab = 'Absolute Shear Stress [MPa]'\n",
    "        fign = 'shearT'\n",
    "    elif target_var == 'sliprate':\n",
    "        if np.all(np.array(outputs[:,4])>0):\n",
    "            var = np.log10(np.array(outputs[:,4]))\n",
    "        else:\n",
    "            print('Negative slip rate - taking absolute')\n",
    "            var = np.log10(abs(np.array(outputs[:,4])))\n",
    "        ylab = 'log$_{10}$(Slip Rate [m/s])'\n",
    "        fign = 'sliprate'\n",
    "    elif target_var == 'normalT':\n",
    "        var = abs(np.array(outputs[:,5]))\n",
    "        ylab = 'Absolute Normal Stress [MPa]'\n",
    "        fign = 'normalT'\n",
    "\n",
    "    plt.plot(var,-dep,color=col, lw=2.5,label=lab,linestyle=ls)\n",
    "    plt.xlabel(ylab,fontsize=17)\n",
    "    plt.ylabel('Depth [km]',fontsize=17)\n",
    "    plt.ylim(min(abs(dep)),max(abs(dep)))    \n",
    "    plt.tight_layout()\n",
    "    if save_on:\n",
    "        plt.savefig('%s/%s_at_transition.png'%(save_dir,fign))\n",
    "\n",
    "def get_var(outputs,dep,target_depth,target_var,plot_in_sec,abs_on):\n",
    "    if target_depth == None:\n",
    "        print('Mode: Maximum along fault')\n",
    "        indx = None\n",
    "    else:\n",
    "        indx = np.argmin(abs(abs(dep) - abs(target_depth)))\n",
    "        print('Depth = %1.2f [km]'%abs(dep[indx]))\n",
    "\n",
    "    if target_var == 'state':\n",
    "        var_idx,ylab,fign = 1,'State Variable','state'\n",
    "    elif target_var == 'slip':\n",
    "        var_idx,ylab,fign = 2,'Cumulative Slip [m]','cumslip'\n",
    "    elif target_var == 'shearT':\n",
    "        var_idx,ylab,fign = 3,'Shear Stress [MPa]','shearT'\n",
    "    elif target_var == 'sliprate':\n",
    "        var_idx,ylab,fign = 4,'log$_{10}$(Slip Rate [m/s])','sliprate'\n",
    "    elif target_var == 'normalT':\n",
    "        var_idx,ylab,fign = 5,'Normal Stress [MPa]','normalT'\n",
    "\n",
    "    if target_depth == None:\n",
    "        if var_idx == 4:\n",
    "            var = np.log10(np.max(np.array(outputs[:,:,var_idx]),axis=0))\n",
    "            # var = np.max(np.log10(np.array(outputs[:,:,var_idx])),axis=0)\n",
    "        else:\n",
    "            var = np.max(np.array(outputs[:,:,var_idx]),axis=0)\n",
    "        ylab = 'Peak ' + ylab\n",
    "    else:\n",
    "        if var_idx == 4:\n",
    "            if np.all(np.array(outputs[indx])[:,var_idx]>0):\n",
    "                var = np.log10(np.array(outputs[indx])[:,var_idx])\n",
    "            else:\n",
    "                print('Negative slip rate - taking absolute')\n",
    "                var = np.log10(abs(np.array(outputs[indx])[:,var_idx]))\n",
    "        else:\n",
    "            var = np.array(outputs[indx])[:,var_idx]\n",
    "    if abs_on:\n",
    "        var = abs(var)\n",
    "        ylab = 'Absolute ' + ylab\n",
    "    if plot_in_sec:\n",
    "        time = np.array(outputs[0])[:,0]\n",
    "        xlab = 'Time [s]'\n",
    "    else:\n",
    "        time = np.array(outputs[0])[:,0]/sc.yr2sec\n",
    "        xlab = 'Time [yrs]'\n",
    "    return time,var,xlab,ylab,fign,indx\n",
    "\n",
    "def get_lag(base_t,var_ref,t_ref,var_pert,t_pert,print_on=False):\n",
    "    dat_ref = interpolate.interp1d(t_ref,var_ref)(base_t) # reference model \n",
    "    if base_t.max()>t_pert.max() or base_t.min()<t_pert.max():\n",
    "        dat_pert = interpolate.interp1d(t_pert,var_pert)(base_t[np.logical_and(base_t<=t_pert.max(),base_t>=t_pert.min())])\n",
    "    else:\n",
    "        dat_pert = interpolate.interp1d(t_pert,var_pert)(base_t)\n",
    "    dat_ref -= np.mean(dat_ref)\n",
    "    dat_pert -= np.mean(dat_pert)\n",
    "    corr = signal.correlate(dat_ref,dat_pert)\n",
    "    lags = signal.correlation_lags(len(dat_ref),len(dat_pert))\n",
    "    dat_corr = corr/max(abs(corr))\n",
    "    dt = np.diff(base_t)[0]\n",
    "    lag = lags[np.argmax(dat_corr)]*dt\n",
    "    if print_on:\n",
    "        if lag > 0:\n",
    "            print('Time advance of %1.4f s'%lag)\n",
    "        elif lag == 0:\n",
    "            print('No change in event time')\n",
    "        else:\n",
    "            print('Time delay of %1.4f s'%lag)\n",
    "    return lag\n",
    "\n",
    "def fout_time(save_dir,outputs,dep,target_depth,target_var,plot_in_sec,ls='-',col='k',lab='',abs_on=False,save_on=True):\n",
    "    time,var,xlab,ylab,fign,indx = get_var(outputs,dep,target_depth,target_var,plot_in_sec,abs_on)\n",
    "    plt.plot(time,var,color=col, lw=2.5,label=lab,linestyle=ls)\n",
    "    plt.xlabel(xlab,fontsize=17)\n",
    "    plt.ylabel(ylab,fontsize=17)\n",
    "    if target_depth < 1e-1:\n",
    "        plt.title('Depth = surface',fontsize=20,fontweight = 'bold')\n",
    "    else:\n",
    "        plt.title('Depth = %1.2f [km]'%abs(dep[indx]),fontsize=20,fontweight = 'bold')\n",
    "    plt.tight_layout()\n",
    "    if save_on:\n",
    "        plt.savefig('%s/%s.png'%(save_dir,fign))\n",
    "\n",
    "def fout_time_max(save_dir,outputs,target_var,plot_in_sec,toff=0,ls='-',col='k',lab='',abs_on=False,save_on=True):\n",
    "    time,var,xlab,ylab,fign,_ = get_var(outputs,None,None,target_var,plot_in_sec,abs_on)\n",
    "    if abs(toff) > 0: time += toff\n",
    "    plt.plot(time,var,color=col, lw=2.5,label=lab,linestyle=ls)\n",
    "    plt.xlabel(xlab,fontsize=17)\n",
    "    plt.ylabel(ylab,fontsize=17)\n",
    "    plt.tight_layout()\n",
    "    if save_on:\n",
    "        plt.savefig('%s/%s.png'%(save_dir,fign))\n",
    "\n",
    "def fout_time_max_diff(save_dir,outputs,outputs2,target_var,plot_in_sec,ls='-',col='k',lab='',abs_on=False,save_on=True):\n",
    "    time1,var1,xlab,ylab,fign,_ = get_var(outputs,None,None,target_var,plot_in_sec,abs_on)\n",
    "    time2,var2,_,_,_,_ = get_var(outputs2,None,None,target_var,plot_in_sec,abs_on)\n",
    "    plt.plot(time,var2-var1,color=col, lw=2,label=lab,linestyle=ls)\n",
    "    plt.xlabel(xlab,fontsize=17)\n",
    "    plt.ylabel(ylab,fontsize=17)\n",
    "    plt.tight_layout()\n",
    "    if save_on:\n",
    "        plt.savefig('%s/%s.png'%(save_dir,fign))\n",
    "\n",
    "def stress_pert_at_depth(save_dir,ref_outputs,dep,delVar,depth_range,target_depth,target_var,plot_in_sec,dt=0.01,ls='-',col='k',lab='',abs_on=False,print_on=True,save_on=True):\n",
    "    indx = np.argmin(abs(abs(dep) - abs(target_depth)))\n",
    "    print('Depth = %1.1f [km]'%abs(dep[indx]))\n",
    "    t0 = ref_outputs[0,0,0]\n",
    "    time = np.linspace(t0,t0+delVar.shape[0]*dt,delVar.shape[0])\n",
    "    di = np.argmin(abs(depth_range+target_depth))\n",
    "    if target_var == 'shearT':\n",
    "        if abs_on:\n",
    "            var = abs(np.array(ref_outputs[indx])[:,3])\n",
    "            ylab = 'Absolute Shear Stress [MPa]'\n",
    "        else:\n",
    "            var = np.array(ref_outputs[indx])[:,3]\n",
    "            ylab = 'Shear Stress [MPa]'\n",
    "        fign = 'shearT'\n",
    "    elif target_var == 'normalT':\n",
    "        if abs_on:\n",
    "            var = abs(np.array(ref_outputs[indx])[:,5])\n",
    "            ylab = 'Absolute Normal Stress [MPa]'\n",
    "        else:\n",
    "            var = np.array(ref_outputs[indx])[:,5]\n",
    "            ylab = 'Normal Stress [MPa]'\n",
    "        fign = 'normalT'\n",
    "    if plot_in_sec:        # --- Plot in seconds\n",
    "        plt.plot(time,delVar[:,di]+var[0],color=col,lw=2.5,label=lab,linestyle=ls)\n",
    "        # plt.plot(time,delVar[:,di]+var[1],color=col,lw=2.5,label=lab,linestyle=ls)\n",
    "        plt.xlabel('Time [s]',fontsize=17)\n",
    "        otime = time\n",
    "    else:        # --- Plot in years\n",
    "        plt.plot(time/sc.yr2sec,delVar[:,di]+var[0],color=col, lw=2.5,label=lab,linestyle=ls)\n",
    "        # plt.plot(time/sc.yr2sec,delVar[:,di]+var[1],color=col, lw=2.5,label=lab,linestyle=ls)\n",
    "        plt.xlabel('Time [yrs]',fontsize=17)\n",
    "        otime = time/sc.yr2sec\n",
    "    plt.ylabel(ylab,fontsize=17)\n",
    "    plt.tight_layout()\n",
    "    if save_on:\n",
    "        plt.savefig('%s/%s.png'%(save_dir,fign))\n",
    "    return otime,delVar[:,di]+var[1]\n",
    "\n",
    "def dCFS_at_depth(save_dir,outputs,dep,dCFSt_seissol,depth_range,target_depth,mu,dt=0.01,ls1='-',ls2='-',col1='k',col2=mp.myburgundy,lab1='',lab2='',save_on=True):\n",
    "    from scipy import interpolate\n",
    "    indx = np.argmin(abs(abs(dep) - abs(target_depth)))\n",
    "    print('Depth = %1.2f [km]'%abs(dep[indx]))\n",
    "    pn = np.array(outputs[indx])[:,5]-np.array(outputs[indx])[0,5]\n",
    "    ts = np.array(outputs[indx])[:,3]-np.array(outputs[indx])[0,3]\n",
    "    dCFSt_in = [interpolate.interp1d(depth_range,dCFSt_seissol[ti])(-target_depth) for ti in range(dCFSt_seissol.shape[0])]\n",
    "    dCFSt_out = -ts - mu*pn\n",
    "    # dCFSt_out = -ts + mu*pn\n",
    "    time_in = np.linspace(0,dCFSt_seissol.shape[0]*dt,dCFSt_seissol.shape[0])\n",
    "    time_out = np.array(outputs[indx])[:,0]-np.array(outputs[indx])[0,0]\n",
    "    plt.plot(time_in,dCFSt_in,color=col1,lw=2,label='Input Perturbation'+lab1,linestyle=ls1)\n",
    "    plt.plot(time_out,dCFSt_out,color=col2,lw=2,label='Output Perturbation'+lab2,linestyle=ls2)\n",
    "    plt.xlabel('Time [s]',fontsize=17)\n",
    "    plt.ylabel('dCFS [Mpa]',fontsize=17)\n",
    "    plt.grid(True,alpha=0.5)\n",
    "    plt.tight_layout()\n",
    "    if save_on:\n",
    "        plt.savefig('%s/dCFS_model.png'%(save_dir))"
   ]
  },
  {
   "cell_type": "markdown",
   "metadata": {},
   "source": [
    "# Estimate perturbation response"
   ]
  },
  {
   "cell_type": "code",
   "execution_count": 5,
   "metadata": {},
   "outputs": [
    {
     "name": "stdout",
     "output_type": "stream",
     "text": [
      "Mode: Maximum along fault\n",
      "Mode: Maximum along fault\n",
      "Mode: Maximum along fault\n",
      "Mode: Maximum along fault\n"
     ]
    },
    {
     "name": "stderr",
     "output_type": "stream",
     "text": [
      "/tmp/ipykernel_2861831/3335506404.py:26: UserWarning: No system_size event detected - check back the sequence\n",
      "  warnings.warn('No system_size event detected - check back the sequence')\n",
      "/tmp/ipykernel_2861831/1518304135.py:99: RuntimeWarning: invalid value encountered in divide\n",
      "  dat_corr = corr/max(abs(corr))\n"
     ]
    },
    {
     "name": "stdout",
     "output_type": "stream",
     "text": [
      "No change in event time\n",
      "Not shifted\n",
      "Mode: Maximum along fault\n"
     ]
    },
    {
     "data": {
      "image/png": "[encoded data removed]",
      "text/plain": [
       "<Figure size 1500x600 with 1 Axes>"
      ]
     },
     "metadata": {},
     "output_type": "display_data"
    }
   ],
   "source": [
    "plt.figure(figsize=(15,6))\n",
    "# cut_init = False\n",
    "cut_init = True\n",
    "shift_figure = False\n",
    "# shift_figure = True\n",
    "tvar = 'sliprate'\n",
    "inc1 = 1e3\n",
    "inc2 = 5e4\n",
    "if 'save_dir3' not in locals(): \n",
    "    i1 = np.where(np.logical_and(outputs1[0,:,0]>=outputs2[0,0,0]-inc,outputs1[0,:,0]<=outputs2[0,-1,0]+inc))[0]\n",
    "else:\n",
    "    i1 = np.where(np.logical_and(outputs1[0,:,0]>=outputs2[0,0,0]-inc1,outputs1[0,:,0]<=outputs3[0,-1,0]+inc2))[0]\n",
    "fout_time_max(save_dir1,outputs1[:,i1,:],tvar,lab='Unperturbed',plot_in_sec=True,col='k',save_on=False)\n",
    "maxvar1 = get_var(outputs1[:,i1,:],None,None,tvar,plot_in_sec=True,abs_on=False)[1]\n",
    "if cut_init:\n",
    "    # fout_time_max(save_dir2,outputs2,tvar,lab='During perturbation',plot_in_sec=True,col=mp.mypink,save_on=False)\n",
    "    fout_time_max(save_dir2,outputs2[:,1:,:],tvar,lab='During perturbation',plot_in_sec=True,col=mp.mypink,save_on=False)\n",
    "    maxvar3 = get_var(outputs3[:,1:,:],None,None,tvar,plot_in_sec=True,abs_on=False)[1]\n",
    "    # base_t = np.linspace(np.min([outputs3[0,int(outputs3.shape[1]*0.05),0],tstart[idx]-100])\\\n",
    "                        #  ,np.max([outputs3[0,-1,0],tend[idx]+80])\\\n",
    "    base_t = np.linspace(outputs3[0,int(outputs3.shape[1]*0.02),0]\\\n",
    "                         ,tend[idx]+5000\\\n",
    "                            ,10000)-outputs3[0,1,0]\n",
    "    if len(system_wide3) == 0 | len(system_wide3) > 1:\n",
    "        import warnings\n",
    "        warnings.warn('No system_size event detected - check back the sequence')\n",
    "        lag = get_lag(base_t,maxvar1,outputs1[0,i1,0]-outputs3[0,1,0],maxvar3,outputs3[0,1:,0]-outputs3[0,1,0],print_on=True)\n",
    "        # lag = 3600*6.0184\n",
    "    else:\n",
    "        lag = tstart[idx]-tstart3[system_wide3]\n",
    "    time_tag = \"advance\" if lag > 0 else \"delay\"\n",
    "    if not shift_figure:\n",
    "        print('Not shifted')\n",
    "        fout_time_max(save_dir3,outputs3[:,1:,:],tvar,lab='After perturbation',plot_in_sec=True,col=mp.myblue,save_on=False)\n",
    "    else:\n",
    "        fout_time_max(save_dir3,outputs3[:,1:,:],tvar,toff=lag,lab='After perturbation',plot_in_sec=True,col=mp.myblue,save_on=False)\n",
    "    # plt.xlim(np.min([outputs3[0,int(outputs3.shape[1]*0.05),0],tstart[idx]-100])-100,np.max([outputs3[0,-1,0],tend[idx]+100])+100)\n",
    "    # plt.xlim(np.min([outputs3[0,int(outputs3.shape[1]*0.05),0],tstart[idx]-100])-10000,tend[idx]+10000)\n",
    "    plt.xlim(np.min([outputs3[0,int(outputs3.shape[1]*0.05),0],tstart[idx]-100])+10000,tend[idx]+20000)\n",
    "    yl = plt.gca().get_ylim()\n",
    "    plt.vlines(x=tstart[idx],ymin=yl[0],ymax=yl[1],lw=2.5,colors='0.62',linestyles='--',zorder=0)\n",
    "    xl = plt.gca().get_xlim()\n",
    "    plt.text(tstart[idx]+(xl[1]-xl[0])*0.01,-yl[1]*3.8,'Event %d'%(idx),fontsize=13,color='0.62',fontweight='bold')\n",
    "    if lag < 3600:\n",
    "        plt.text(xl[1]-(xl[1]-xl[0])*0.025,yl[1]*0.75,'Time %s of %1.4f s'%(time_tag,lag),fontsize=20,color='k',fontweight='bold',ha='right',va='top')\n",
    "    else:\n",
    "        plt.text(xl[1]-(xl[1]-xl[0])*0.025,yl[1]*0.75,'Time %s of %1.4f hr'%(time_tag,lag/3600),fontsize=20,color='k',fontweight='bold',ha='right',va='top')\n",
    "    # plt.ylim(-yl[1]*3.8,yl[1])\n",
    "    plt.ylim(-yl[1]*6.5,yl[1])\n",
    "else:\n",
    "    fout_time_max(save_dir2,outputs2,tvar,lab='During perturbation',plot_in_sec=True,col=mp.mypink,save_on=False)\n",
    "    fout_time_max(save_dir3,outputs3,tvar,lab='After perturbation',plot_in_sec=True,col=mp.myblue,save_on=False)\n",
    "plt.legend(fontsize=15,loc='upper left')\n",
    "plt.show()"
   ]
  },
  {
   "cell_type": "code",
   "execution_count": null,
   "metadata": {},
   "outputs": [],
   "source": [
    "plt.figure(figsize=(15,6))\n",
    "inc = 1e3\n",
    "# i1 = np.where(np.logical_and(outputs1[0,:,0]>=outputs2[0,0,0]-inc,outputs1[0,:,0]<=tend[idx]+100))[0]\n",
    "i1 = np.where(np.logical_and(outputs1[0,:,0]>=outputs2[0,0,0]-inc,outputs1[0,:,0]<=outputs2[0,-1,0]+inc))[0]\n",
    "fout_time_max(save_dir1,outputs1[:,i1,:],tvar,lab='Unperturbed',plot_in_sec=True,col='k',save_on=False)\n",
    "fout_time_max(save_dir2,outputs2,tvar,lab='During perturbation',plot_in_sec=True,col=mp.mypink,save_on=False)\n",
    "plt.xlim(outputs2[0,0,0]-10,outputs2[0,-1,0]+10)\n",
    "plt.legend(fontsize=15,loc='upper left')\n",
    "plt.show()"
   ]
  },
  {
   "cell_type": "code",
   "execution_count": null,
   "metadata": {},
   "outputs": [],
   "source": [
    "plt.figure(figsize=(15,6))\n",
    "tvar = 'sliprate'\n",
    "inc1 = 1e3\n",
    "inc2 = 5e4\n",
    "fout_time_max(save_dir2,outputs2[:,1:,:],tvar,lab='During perturbation',plot_in_sec=True,col=mp.mypink,save_on=False)\n",
    "fout_time_max(save_dir3,outputs3[:,1:,:],tvar,lab='After perturbation',plot_in_sec=True,col=mp.myblue,save_on=False)\n",
    "# plt.xlim(outputs2[0,1,0]-100,outputs3[0,1,0]+6000)\n",
    "plt.xlim(outputs2[0,1,0]-100,outputs3[0,1,0]+2000)\n",
    "# plt.xlim(outputs2[0,1,0]-10,outputs2[0,-1,0]+20)\n",
    "yl = plt.gca().get_ylim()\n",
    "xl = plt.gca().get_xlim()\n",
    "plt.vlines(x=tstart3[0],ymin=yl[0],ymax=yl[1],lw=2.5,colors='0.62',linestyles='--',zorder=0)\n",
    "plt.vlines(x=tstart3[1],ymin=yl[0],ymax=yl[1],lw=2.5,colors='0.62',linestyles='--',zorder=0)\n",
    "plt.vlines(x=tstart3[2],ymin=yl[0],ymax=yl[1],lw=2.5,colors='0.62',linestyles='--',zorder=0)\n",
    "plt.ylim(-yl[1]*6.5,yl[1])\n",
    "plt.legend(fontsize=15,loc='upper left')\n",
    "plt.show()"
   ]
  },
  {
   "cell_type": "code",
   "execution_count": null,
   "metadata": {},
   "outputs": [],
   "source": [
    "(tstart3[0]-outputs2[0,0,0])/60"
   ]
  },
  {
   "cell_type": "code",
   "execution_count": null,
   "metadata": {},
   "outputs": [],
   "source": [
    "if 'done' not in locals(): \n",
    "    outputs1[:,:,0] = outputs1[:,:,0] - tstart[idx]\n",
    "    outputs2[:,:,0] = outputs2[:,:,0] - tstart[idx]\n",
    "    outputs3[:,:,0] = outputs3[:,:,0] - tstart[idx]\n",
    "    if 'save_dir4' in locals(): outputs4[:,:,0] = outputs4[:,:,0] - tstart[idx]\n",
    "    done = True\n",
    "\n",
    "plt.figure(figsize=(15,6))\n",
    "shift_figure = False\n",
    "# shift_figure = True\n",
    "tvar = 'sliprate'\n",
    "# inc = 1e3\n",
    "inc1 = 1e3\n",
    "inc2 = 5e4\n",
    "if 'save_dir3' not in locals(): \n",
    "    i1 = np.where(np.logical_and(outputs1[0,:,0]>=outputs2[0,0,0]-inc,outputs1[0,:,0]<=outputs2[0,-1,0]+inc))[0]\n",
    "else:\n",
    "    # i1 = np.where(np.logical_and(outputs1[0,:,0]>=outputs2[0,0,0]-inc,outputs1[0,:,0]<=outputs3[0,-1,0]+inc))[0]\n",
    "    i1 = np.where(np.logical_and(outputs1[0,:,0]>=outputs2[0,0,0]-inc1,outputs1[0,:,0]<=outputs3[0,-1,0]+inc2))[0]\n",
    "fout_time_max(save_dir1,outputs1[:,i1,:],tvar,lab='Unperturbed',plot_in_sec=True,col='k',save_on=False)\n",
    "# maxvar1 = get_var(outputs1[:,i1,:],None,None,tvar,plot_in_sec=True,abs_on=False)[1]\n",
    "# maxvar3 = get_var(outputs3[:,1:,:],None,None,tvar,plot_in_sec=True,abs_on=False)[1]\n",
    "# base_t = np.linspace(outputs3[0,int(outputs3.shape[1]*0.05),0]\\\n",
    "#                         ,tend[idx]+100\\\n",
    "#                         ,10000)-outputs3[0,1,0]\n",
    "# lag = get_lag(base_t,maxvar1,outputs1[0,i1,0]-outputs3[0,1,0],maxvar3,outputs3[0,1:,0]-outputs3[0,1,0],print_on=True)\n",
    "# time_tag = \"advance\" if lag > 0 else \"delay\"\n",
    "if not shift_figure:\n",
    "    print('Not shifted')\n",
    "    fout_time_max(save_dir3,outputs3[:,1:,:],tvar,lab='Perturbed',plot_in_sec=True,col=mp.myblue,save_on=False)\n",
    "    if 'save_dir4' in locals(): fout_time_max(save_dir4,outputs4[:,1:,:],tvar,plot_in_sec=True,col=mp.myblue,save_on=False)\n",
    "else:\n",
    "    fout_time_max(save_dir3,outputs3[:,1:,:],tvar,toff=lag,lab='Perturbed',plot_in_sec=True,col=mp.myblue,save_on=False)\n",
    "    if 'save_dir4' in locals(): fout_time_max(save_dir4,outputs4[:,1:,:],tvar,toff=lag,plot_in_sec=True,col=mp.myblue,save_on=False)\n",
    "# plt.xlim(np.min([outputs3[0,int(outputs3.shape[1]*0.05),0],-100])+350,tend[idx]-tstart[idx]+50)\n",
    "# plt.xlim(np.min([outputs3[0,int(outputs3.shape[1]*0.05),0],-100])-10000,tend[idx]+10000)\n",
    "# xl = plt.gca().get_xlim()\n",
    "xl = [-33000,15000]\n",
    "yl = plt.gca().get_ylim()\n",
    "plt.vlines(x=0,ymin=yl[0],ymax=yl[1],lw=2.5,colors='0.62',linestyles='--',zorder=0)\n",
    "plt.text((xl[1]-xl[0])*0.01,-yl[1]*3.5,'Unperturbed event time',fontsize=13,color='0.62',fontweight='bold')\n",
    "plt.vlines(x=(tstart3[4]-tstart[idx]),ymin=yl[0],ymax=yl[1],lw=2.5,colors=mp.mynavy,linestyles='--',zorder=0)\n",
    "plt.text((tstart3[4]-tstart[idx])+(xl[1]-xl[0])*0.01,-yl[1]*3.5,'Perturbed event time',fontsize=13,color=mp.mynavy,fontweight='bold')\n",
    "if lag < 3600:\n",
    "    plt.text(xl[1]-(xl[1]-xl[0])*0.025,yl[1]*0.75,'Time %s of %d s'%(time_tag,np.round(lag)),fontsize=20,color='k',fontweight='bold',ha='right',va='top')\n",
    "    plt.xlabel('Time relative to the unperturbed event [s]',fontsize=17)\n",
    "else:\n",
    "    plt.text(xl[1]-(xl[1]-xl[0])*0.025,yl[1]*0.75,'Time %s of %d hr'%(time_tag,np.round(lag/3600)),fontsize=20,color='k',fontweight='bold',ha='right',va='top')\n",
    "    xt = np.linspace(-3600*10,3600*4,8)\n",
    "    xtl = ['%d'%(ixt/3600) for ixt in xt]\n",
    "    plt.xticks(ticks=xt,labels=xtl)\n",
    "    plt.xlabel('Time relative to the unperturbed event [hr]',fontsize=17)\n",
    "plt.ylim(-yl[1]*6.5,yl[1])\n",
    "plt.xlim(xl)\n",
    "plt.legend(fontsize=15,loc='upper left')\n",
    "plt.ylabel('log$_{10}$(Peak Slip Rate [m/s])',fontsize=17)\n",
    "plt.grid(True,alpha=0.5)\n",
    "plt.savefig('%s/pub_trigger_response.png'%(save_dir3),dpi=300)\n",
    "plt.show()"
   ]
  },
  {
   "cell_type": "code",
   "execution_count": null,
   "metadata": {},
   "outputs": [],
   "source": [
    "(tstart[idx]-tstart3[4])/3600"
   ]
  },
  {
   "cell_type": "markdown",
   "metadata": {},
   "source": [
    "# Compare fault (probe) outputs"
   ]
  },
  {
   "cell_type": "markdown",
   "metadata": {},
   "source": [
    "## Peak value along the whole fault"
   ]
  },
  {
   "cell_type": "code",
   "execution_count": 13,
   "metadata": {},
   "outputs": [
    {
     "name": "stdout",
     "output_type": "stream",
     "text": [
      "Mode: Maximum along fault\n",
      "Mode: Maximum along fault\n"
     ]
    },
    {
     "data": {
      "image/png": "[encoded data removed]",
      "text/plain": [
       "<Figure size 1500x600 with 1 Axes>"
      ]
     },
     "metadata": {},
     "output_type": "display_data"
    }
   ],
   "source": [
    "plt.rcParams['font.size'] = '15'\n",
    "plt.figure(figsize=(15,6))\n",
    "tvar = 'sliprate'\n",
    "inc = 1e3\n",
    "if 'save_dir3' not in locals(): \n",
    "    i1 = np.where(np.logical_and(outputs1[0,:,0]>=outputs2[0,0,0]-inc,outputs1[0,:,0]<=outputs2[0,-1,0]+inc))[0]\n",
    "else:\n",
    "    i1 = np.where(np.logical_and(outputs1[0,:,0]>=outputs2[0,0,0]-inc,outputs1[0,:,0]<=outputs3[0,-1,0]+inc))[0]\n",
    "fout_time_max(save_dir1,outputs1[:,i1,:],tvar,lab='Reference (hf = 25 m)',plot_in_sec=False,save_on=False)\n",
    "fout_time_max(save_dir2,outputs2,tvar,lab='Reference (hf = 10 m)',plot_in_sec=False,col=mp.mypink,save_on=False)\n",
    "# fout_time_max(save_dir1,outputs1[:,i1,:],tvar,lab='Reference',plot_in_sec=True,save_on=False)\n",
    "# fout_time_max(save_dir2,outputs2,tvar,lab='During perturbation',plot_in_sec=True,col=mp.mypink,save_on=False)\n",
    "add = (outputs2[0,-1,0]-outputs2[0,0,0])*0.2\n",
    "yl = plt.gca().get_ylim()\n",
    "# plt.hlines(y=np.log10(2e-1),xmin=outputs2[0,0,0]-add,xmax=outputs2[0,-1,0]+add,color='0.62',linestyles='--')\n",
    "# plt.vlines(x=tstart2[0],ymin=yl[0],ymax=yl[1],color=mp.mynavy,linestyles='--')\n",
    "# plt.vlines(x=tend2[0],ymin=yl[0],ymax=yl[1],color=mp.myyellow,linestyles='--')\n",
    "# plt.vlines(x=tstart2[1],ymin=yl[0],ymax=yl[1],color=mp.mynavy,linestyles='--')\n",
    "# plt.vlines(x=tend2[1],ymin=yl[0],ymax=yl[1],color=mp.myyellow,linestyles='--')\n",
    "# plt.vlines(x=tstart2[2],ymin=yl[0],ymax=yl[1],color=mp.mynavy,linestyles='--')\n",
    "# plt.vlines(x=tend2[2],ymin=yl[0],ymax=yl[1],color=mp.myyellow,linestyles='--')\n",
    "# plt.xlim(outputs2[0,0,0]-add,outputs2[0,-1,0]+add)\n",
    "\n",
    "plt.ylim(yl)\n",
    "plt.legend(fontsize=15,loc='upper left')\n",
    "plt.show()"
   ]
  },
  {
   "cell_type": "code",
   "execution_count": 16,
   "metadata": {},
   "outputs": [
    {
     "data": {
      "text/plain": [
       "508.36758330376614"
      ]
     },
     "execution_count": 16,
     "metadata": {},
     "output_type": "execute_result"
    }
   ],
   "source": [
    "outputs2[0,-1,0]/sc.yr2sec"
   ]
  },
  {
   "cell_type": "code",
   "execution_count": null,
   "metadata": {},
   "outputs": [],
   "source": [
    "plt.rcParams['font.size'] = '15'\n",
    "plt.figure(figsize=(15,6))\n",
    "tvar = 'sliprate'\n",
    "inc1,inc2 = 1e3,1e6\n",
    "i1 = np.where(np.logical_and(outputs1[0,:,0]>=outputs2[0,0,0]-inc1,outputs1[0,:,0]<=outputs3[0,-1,0]+inc2))[0]\n",
    "i4 = np.where(outputs4[0,:,0]<=outputs3[0,-1,0]+inc2)[0]\n",
    "fout_time_max(save_dir1,outputs1[:,i1,:],tvar,lab='Previous',plot_in_sec=True,col='k',save_on=False)\n",
    "fout_time_max(save_dir2,outputs2,tvar,lab='Reference 1',plot_in_sec=True,col=mp.mypink,save_on=False)\n",
    "fout_time_max(save_dir3,outputs3,tvar,lab='Reference 2',plot_in_sec=True,col=mp.myblue,save_on=False)\n",
    "fout_time_max(save_dir4,outputs4[:,i4,:],tvar,lab='Reference 3',plot_in_sec=True,col=mp.mygreen,save_on=False)\n",
    "plt.legend(fontsize=15,loc='upper left')\n",
    "plt.show()"
   ]
  },
  {
   "cell_type": "code",
   "execution_count": null,
   "metadata": {},
   "outputs": [],
   "source": [
    "plt.rcParams['font.size'] = '15'\n",
    "plt.figure(figsize=(15,6))\n",
    "tvar = 'sliprate'\n",
    "inc1 = 100\n",
    "inc2 = inc1\n",
    "# i1 = np.where(np.logical_and(outputs1[0,:,0]>=outputs2[0,0,0]-inc1,outputs1[0,:,0]<=outputs4[0,0,0]+inc2))[0]\n",
    "# i3 = np.where(outputs3[0,:,0]>=outputs4[0,0,0]-inc1)[0]\n",
    "# i4 = np.where(outputs4[0,:,0]<=outputs4[0,0,0]+inc2)[0]\n",
    "# i1 = np.where(np.logical_and(outputs1[0,:,0]>=outputs3[0,0,0]-inc1,outputs1[0,:,0]<=outputs3[0,0,0]+inc2))[0]\n",
    "# i3 = np.where(outputs3[0,:,0]<=outputs3[0,0,0]+inc2)[0]\n",
    "i1 = np.where(outputs1[0,:,0]<=outputs2[0,-1,0]+inc2)[0]\n",
    "# i1 = np.where(np.logical_and(outputs1[0,:,0]>=outputs2[0,0,0]-inc1,outputs1[0,:,0]<=outputs2[0,-1,0]+inc2))[0]\n",
    "# i1 = np.where(np.logical_and(outputs1[0,:,0]>=outputs3[0,0,0]-inc1,outputs1[0,:,0]<=outputs3[0,-1,0]+inc2))[0]\n",
    "# print(len(i1))\n",
    "# i2 = np.where(outputs2[0,:,0]>=outputs3[0,0,0]-inc1)[0]\n",
    "# fout_time_max(save_dir1,outputs1,tvar,lab='Previous',plot_in_sec=True,col='k',abs_on=False,save_on=False)\n",
    "fout_time_max(save_dir1,outputs1[:,i1,:],tvar,lab='Previous',plot_in_sec=True,col='k',abs_on=False,save_on=False)\n",
    "fout_time_max(save_dir2,outputs2,tvar,lab='Reference 1',plot_in_sec=True,col=mp.mypink,abs_on=False,save_on=False,ls='--')\n",
    "# fout_time_max(save_dir4,outputs4,tvar,lab='Reference 3',plot_in_sec=True,col=mp.mygreen,abs_on=False,save_on=False)\n",
    "# fout_time_max(save_dir2,outputs2[:,i2,:],tvar,lab='Reference 1',plot_in_sec=True,col=mp.mypink,abs_on=False,save_on=False)\n",
    "# fout_time_max(save_dir3,outputs3[:,i3,:],tvar,lab='Reference 2',plot_in_sec=True,col=mp.myblue,abs_on=False,save_on=False)\n",
    "fout_time_max(save_dir3,outputs3,tvar,lab='ckp4650',plot_in_sec=True,col=mp.myblue,abs_on=False,save_on=False)\n",
    "# fout_time_max(save_dir3,outputs3,tvar,lab='Reference 2',plot_in_sec=True,col=mp.myblue,abs_on=False,save_on=False)\n",
    "# fout_time_max(save_dir4,outputs4[:,i4,:],tvar,lab='Reference 3',plot_in_sec=True,col=mp.mygreen,abs_on=False,save_on=False)\n",
    "# plt.xlim(outputs2[0,0,0]-inc1,outputs2[0,-1,0]+inc2)\n",
    "# plt.ylim(-0.5,0.2)\n",
    "plt.xlim(1.1905e6,1.190625e6)\n",
    "# plt.xlim(1.0278e6,1.032e6)\n",
    "# plt.xlim(1.3588e6,1.36e6)\n",
    "# plt.xlim(1.388585e6,1.3888e6)\n",
    "plt.ylim(-5.5,1)\n",
    "plt.legend(fontsize=15,loc='lower left')\n",
    "plt.show()"
   ]
  },
  {
   "cell_type": "markdown",
   "metadata": {},
   "source": [
    "## Value at certain depth, within specific time range"
   ]
  },
  {
   "cell_type": "code",
   "execution_count": null,
   "metadata": {},
   "outputs": [],
   "source": [
    "plt.rcParams['font.size'] = '15'\n",
    "plt.figure(figsize=(15,6))\n",
    "tdep,tvar = evdep[idx],'normalT'\n",
    "inc = 1e4\n",
    "# i1 = np.where(np.logical_and(outputs1[0,:,0]>=outputs2[0,0,0]-inc,outputs1[0,:,0]<=outputs2[0,-1,0]+inc))[0]\n",
    "# fout_time(save_dir1,outputs1[:,i1,:],dep1,tdep,tvar,plot_in_sec=True,lab='Unperturbed',save_on=False)\n",
    "# fout_time(save_dir2,outputs2[:,1:,:],dep2,tdep,tvar,col=mp.mypink,plot_in_sec=True,lab='Perturbed',save_on=False)\n",
    "# outputs22 = outputs2.copy()\n",
    "# outputs22[:,:,3] = outputs22[:,:,3] - 0.5\n",
    "# fout_time(save_dir2,outputs22,dep2,tdep,tvar,col=mp.mypink,plot_in_sec=True,lab='During perturbation',save_on=False)\n",
    "fout_time(save_dir2,outputs2,dep2,tdep,tvar,col=mp.mypink,plot_in_sec=True,lab='During perturbation',save_on=False)\n",
    "fout_time(save_dir3,outputs3,dep3,tdep,tvar,col=mp.myblue,plot_in_sec=True,lab='After perturbation',save_on=False)\n",
    "plt.legend(fontsize=15,loc='lower right')\n",
    "# plt.legend(fontsize=15,loc='upper right')\n",
    "# plt.xlim(outputs2[0,0,0]-1.5,outputs3[0,0,0]+50)\n",
    "plt.xlim(outputs2[0,-1,0]-1.5,outputs3[0,0,0]+1.5)\n",
    "# plt.xlim(outputs2[0,0,0]-1.5,outputs2[0,-1,0]+50)\n",
    "# plt.xlim(outputs2[0,0,0]-1.5,outputs2[0,-1,0]+5)\n",
    "# plt.xlim(outputs3[0,0,0]-1.5,outputs3[0,-1,0]+0.5)\n",
    "plt.show()\n"
   ]
  },
  {
   "cell_type": "code",
   "execution_count": null,
   "metadata": {},
   "outputs": [],
   "source": [
    "outputs2[219,-1,5]-outputs3[219,0,5]"
   ]
  },
  {
   "cell_type": "code",
   "execution_count": null,
   "metadata": {},
   "outputs": [],
   "source": [
    "plt.rcParams['font.size'] = '15'\n",
    "plt.figure(figsize=(15,6))\n",
    "tdep,tvar = evdep[idx],'shearT'\n",
    "inc = 1e4\n",
    "i1 = np.where(np.logical_and(outputs1[0,:,0]>=tstart[idx]-58320,outputs1[0,:,0]<=tstart[idx]))[0]\n",
    "i3 = np.where(np.logical_and(outputs3[0,:,0]>=tstart[idx]-58320,outputs3[0,:,0]<=tstart[idx]))[0]\n",
    "fout_time(save_dir1,outputs1[:,i1,:],dep1,tdep,tvar,plot_in_sec=True,lab='Unperturbed',save_on=False)\n",
    "fout_time(save_dir2,outputs2,dep2,tdep,tvar,col=mp.mypink,plot_in_sec=True,lab='During perturbation',save_on=False)\n",
    "fout_time(save_dir3,outputs3[:,i3,:],dep3,tdep,tvar,col=mp.myblue,plot_in_sec=True,lab='After perturbation',save_on=False)\n",
    "plt.legend(fontsize=15,loc='lower right')\n",
    "# plt.legend(fontsize=15,loc='upper right')\n",
    "# plt.xlim(outputs2[0,0,0]-1.5,outputs3[0,0,0]+50)\n",
    "plt.show()\n"
   ]
  },
  {
   "cell_type": "code",
   "execution_count": null,
   "metadata": {},
   "outputs": [],
   "source": [
    "np.argmin(abs(dep1+tdep))"
   ]
  },
  {
   "cell_type": "code",
   "execution_count": null,
   "metadata": {},
   "outputs": [],
   "source": [
    "outputs1[np.argmin(abs(dep1+tdep)),i1,3]"
   ]
  },
  {
   "cell_type": "code",
   "execution_count": null,
   "metadata": {},
   "outputs": [],
   "source": [
    "indx = np.argmin(abs(abs(dep2)-abs(4.38)))"
   ]
  },
  {
   "cell_type": "code",
   "execution_count": null,
   "metadata": {},
   "outputs": [],
   "source": [
    "print(outputs2[indx,-1,5],outputs3[indx,0,5])\n",
    "print(outputs2[indx,-1,3],outputs3[indx,1,3])"
   ]
  },
  {
   "cell_type": "code",
   "execution_count": null,
   "metadata": {},
   "outputs": [],
   "source": [
    "print(outputs2[indx,-1,5],outputs1[indx,0,5])\n",
    "print(outputs2[indx,-1,3],outputs1[indx,0,3])"
   ]
  },
  {
   "cell_type": "code",
   "execution_count": null,
   "metadata": {},
   "outputs": [],
   "source": [
    "plt.rcParams['font.size'] = '15'\n",
    "plt.figure(figsize=(15,6))\n",
    "tdep,tvar = 7.72,'shearT'\n",
    "inc = 1e4\n",
    "fout_time(save_dir2,outputs2[:,1:,:],dep2,tdep,tvar,col=mp.mypink,plot_in_sec=True,lab='During perturbation',save_on=False)\n",
    "plt.legend(fontsize=15,loc='lower right')\n",
    "plt.xlim(outputs2[0,0,0]-.5,outputs2[0,0,0]+1.5)\n",
    "plt.show()\n"
   ]
  },
  {
   "cell_type": "markdown",
   "metadata": {},
   "source": [
    "# Check the last written output"
   ]
  },
  {
   "cell_type": "code",
   "execution_count": null,
   "metadata": {},
   "outputs": [],
   "source": [
    "fig,ax=plt.subplots(ncols=2,figsize=(15,10))\n",
    "ivar = 3\n",
    "# ax[0].plot(outputs2[:,-1,ivar],-dep2,c='k',lw=2.5,label='Last output during perturbation')\n",
    "# ax[0].plot(outputs3[:,1,ivar],-dep3,c=mp.myburgundy,lw=2.5,linestyle='--',label='First output after perturbation')\n",
    "# ax[0].legend(fontsize=14)\n",
    "ax[0].plot(outputs3[:,1,ivar]-outputs2[:,-1,ivar],-dep2,c='k',lw=2.5,label='Last output during perturbation')\n",
    "ax[0].set_xlabel('Shear Stress [MPa]',fontsize=17)\n",
    "ax[0].set_ylabel('Depth [km]',fontsize=17)\n",
    "ax[0].grid(True,alpha=0.5)\n",
    "ax[0].set_ylim(0,24)\n",
    "ax[0].invert_yaxis()\n",
    "\n",
    "ivar = 5\n",
    "# ax[1].plot(outputs2[:,-1,ivar],-dep2,c='k',lw=2.5,label='Last output during perturbation')\n",
    "# ax[1].plot(outputs3[:,1,ivar],-dep3,c=mp.myburgundy,lw=2.5,linestyle='--',label='First output after perturbation')\n",
    "# ax[1].legend(fontsize=14)\n",
    "ax[1].plot(outputs3[:,1,ivar]-outputs2[:,-1,ivar],-dep2,c='k',lw=2.5,label='Last output during perturbation')\n",
    "ax[1].set_xlabel('Normal Stress [MPa]',fontsize=17)\n",
    "ax[1].set_ylabel('Depth [km]',fontsize=17)\n",
    "ax[1].grid(True,alpha=0.5)\n",
    "ax[1].set_ylim(0,24)\n",
    "ax[1].invert_yaxis()\n",
    "plt.show()"
   ]
  },
  {
   "cell_type": "code",
   "execution_count": null,
   "metadata": {},
   "outputs": [],
   "source": [
    "plt.rcParams['font.size'] = '15'\n",
    "plt.figure(figsize=(6,8))\n",
    "target_var = 'state'\n",
    "along_fault_at_transition(save_dir1,outputs1[:, outputs1.shape[1]-1,:],dep1,target_var,col='0.5',lab='output1; End',save_on=False)\n",
    "along_fault_at_transition(save_dir2,outputs2[:,0,:],dep2,target_var,col=mp.mypink,lab='output2; Start',save_on=False)\n",
    "along_fault_at_transition(save_dir2,outputs2[:, outputs2.shape[1]-1,:],dep2,target_var,col='0.62',lab='output2; End',save_on=False)\n",
    "along_fault_at_transition(save_dir3,outputs3[:,0,:],dep3,target_var,col=mp.myblue,lab='output3; Start',save_on=False)\n",
    "plt.legend(fontsize=15,loc='lower left')\n",
    "plt.gca().invert_yaxis()"
   ]
  },
  {
   "cell_type": "code",
   "execution_count": null,
   "metadata": {},
   "outputs": [],
   "source": [
    "plt.rcParams['font.size'] = '15'\n",
    "plt.figure(figsize=(6,8))\n",
    "target_var = 'state'\n",
    "indx1,indx2 = outputs1.shape[1]-1, 0\n",
    "along_fault_at_transition(save_dir2,outputs2[:,0,:]-outputs1[:,outputs1.shape[1]-1,:],dep2,target_var,lab='output2 - output1',col=mp.myburgundy,save_on=False)\n",
    "along_fault_at_transition(save_dir3,outputs3[:,0,:]-outputs2[:,outputs2.shape[1]-1,:],dep3,target_var,lab='output3 - output2',col=mp.mynavy,save_on=False)\n",
    "plt.legend(fontsize=15,loc='lower left')\n",
    "plt.gca().invert_yaxis()"
   ]
  },
  {
   "cell_type": "code",
   "execution_count": null,
   "metadata": {},
   "outputs": [],
   "source": [
    "print('Outputs1: from %1.18e to %1.18e s'%(outputs1[0,0,0],outputs1[0,-1,0]))\n",
    "print('Time at checkpoint 1: %1.18e s'%(ckp_dat1[-1][-1]))\n",
    "print('Outputs2: from %1.18e to %1.18e s'%(outputs2[0,0,0],outputs2[0,-1,0]))\n",
    "print('Time at checkpoint 2: %1.18e s'%(ckp_dat2[-1][-1]))\n",
    "print('Outputs3: from %1.18e to %1.18e s'%(outputs3[0,0,0],outputs3[0,-1,0]))"
   ]
  },
  {
   "cell_type": "markdown",
   "metadata": {},
   "source": [
    "# Plot τ/σ"
   ]
  },
  {
   "cell_type": "code",
   "execution_count": null,
   "metadata": {},
   "outputs": [],
   "source": [
    "target_depth = evdep[idx]\n",
    "indx = np.argmin(abs(abs(dep2) - abs(target_depth)))\n",
    "print('Depth: %1.2f km'%(-dep2[indx]))\n",
    "pure_Ts = np.array(outputs2[indx])[:,3]\n",
    "pure_Pn = np.array(outputs2[indx])[:,5]\n",
    "rel_time = np.array(outputs2[indx])[:,0] - np.array(outputs2[indx])[0,0]"
   ]
  },
  {
   "cell_type": "code",
   "execution_count": null,
   "metadata": {},
   "outputs": [],
   "source": [
    "plt.figure(figsize=(10,6))\n",
    "plt.plot(rel_time,-pure_Ts/pure_Pn,'k',lw=2.5)\n",
    "plt.xlabel('Time [s]',fontsize=17)\n",
    "plt.ylabel(r'$\\tau/\\sigma$',fontsize=17)\n",
    "plt.grid(True,alpha=0.5)\n",
    "plt.ylim(0.3,0.8)\n",
    "plt.show()"
   ]
  },
  {
   "cell_type": "markdown",
   "metadata": {},
   "source": [
    "# Compare with the input stress perturbation"
   ]
  },
  {
   "cell_type": "code",
   "execution_count": null,
   "metadata": {},
   "outputs": [],
   "source": [
    "delPn = np.loadtxt('%s/ssaf_%s_Pn_pert_mu%02d_%d.dat'%(save_dir,model_n,int(mu*10),receivef_strike))\n",
    "delTs = np.loadtxt('%s/ssaf_%s_Ts_pert_mu%02d_%d.dat'%(save_dir,model_n,int(mu*10),receivef_strike))\n",
    "depth_range = np.loadtxt('%s/ssaf_%s_dep_stress_pert_mu%02d_%d.dat'%(save_dir,model_n,int(mu*10),receivef_strike))"
   ]
  },
  {
   "cell_type": "markdown",
   "metadata": {},
   "source": [
    "## Compare with input normal stress/shear stress "
   ]
  },
  {
   "cell_type": "markdown",
   "metadata": {},
   "source": [
    "### Stress change"
   ]
  },
  {
   "cell_type": "code",
   "execution_count": null,
   "metadata": {},
   "outputs": [],
   "source": [
    "from scipy import interpolate\n",
    "target_depth = evdep[idx]\n",
    "# target_depth = 4\n",
    "outputs = outputs2[:,1:,:]\n",
    "indx = np.argmin(abs(abs(dep2) - abs(target_depth)))\n",
    "print('Depth = %1.2f [km]'%abs(dep2[indx]))\n",
    "pn = np.array(outputs[indx])[:,5]-np.array(outputs[indx])[0,5]\n",
    "ts = np.array(outputs[indx])[:,3]-np.array(outputs[indx])[0,3]\n",
    "time_out = np.array(outputs[indx])[:,0]-np.array(outputs[indx])[0,0]\n",
    "delPn_at_D = [interpolate.interp1d(depth_range,delPn[ti])(-target_depth) for ti in range(delPn.shape[0])]\n",
    "delTs_at_D = [interpolate.interp1d(depth_range,delTs[ti])(-target_depth) for ti in range(delTs.shape[0])]\n",
    "t = np.linspace(0,delTs.shape[0]*0.01,delTs.shape[0])\n",
    "\n",
    "plt.rcParams['font.size'] = '15'\n",
    "plt.figure(figsize=(10,6))\n",
    "plt.plot(t,delTs_at_D,'k',lw=2.5,label='Input Shear Stress')\n",
    "# plt.plot(time_out,-ts,'0.62',lw=2.5,linestyle='--',label='Output Shear Stress')\n",
    "plt.plot(time_out,ts,'0.62',lw=2.5,linestyle='--',label='Output Shear Stress')\n",
    "plt.plot(t,delPn_at_D,c=mp.myburgundy,lw=2.5,label='Input Normal Stress')\n",
    "plt.plot(time_out,pn,c=mp.mypalepink,lw=2.5,linestyle='--',label='Output Normal Stress')\n",
    "plt.legend(fontsize=15,loc='lower right')\n",
    "plt.title('%s; Depth = %1.2f km; Strike = %d˚'%(model_n,target_depth,receivef_strike),fontsize=21,fontweight='bold')\n",
    "plt.xlabel('Time [s]',fontsize=17)\n",
    "plt.ylabel('Stress Change [MPa]',fontsize=17)\n",
    "plt.grid(True,alpha=0.5)\n",
    "plt.xlim(0,6)\n",
    "plt.show()"
   ]
  },
  {
   "cell_type": "markdown",
   "metadata": {},
   "source": [
    "### Absolute stress level"
   ]
  },
  {
   "cell_type": "code",
   "execution_count": null,
   "metadata": {},
   "outputs": [],
   "source": [
    "plt.rcParams['font.size'] = '15'\n",
    "plt.figure(figsize=(15,6))\n",
    "# tdep,tvar = evdep[idx],'normalT'\n",
    "tdep,tvar = evdep[idx],'shearT'\n",
    "if tvar == 'normalT':\n",
    "    delVar = delPn\n",
    "elif tvar == 'shearT':\n",
    "    delVar = delTs\n",
    "# abs_on = False\n",
    "abs_on = True\n",
    "inc = 1e4\n",
    "i1 = np.where(np.logical_and(outputs1[0,:,0]>=outputs2[0,0,0]-inc,outputs1[0,:,0]<=outputs2[0,-1,0]+inc))[0]\n",
    "fout_time(save_dir1,outputs1[:,i1,:],dep1,tdep,tvar,plot_in_sec=True,col='0.62',lab='Unperturbed',abs_on=abs_on,save_on=False)\n",
    "otime,_ = stress_pert_at_depth(save_dir2,outputs2,dep2,delVar,depth_range,tdep,tvar,plot_in_sec=True,col='k',lab='Input perturbation',abs_on=abs_on,print_on=True,save_on=False)\n",
    "fout_time(save_dir2,outputs2,dep2,tdep,tvar,col=mp.mypink,plot_in_sec=True,lab='Perturbed',abs_on=abs_on,save_on=False)\n",
    "plt.legend(fontsize=15,loc='lower right')\n",
    "plt.xlim(otime[0]-5,otime[-1]+5)\n",
    "# plt.xlim(outputs2[0,0,0]-2.5,outputs2[0,-1,0]+2.5)\n",
    "# plt.ylim(-36.9,-35)\n",
    "# plt.ylim(35.25,36.5)\n",
    "plt.show()\n"
   ]
  },
  {
   "cell_type": "markdown",
   "metadata": {},
   "source": [
    "## Compute dCFS from the output to validate the behvaior"
   ]
  },
  {
   "cell_type": "markdown",
   "metadata": {},
   "source": [
    "### During perturbation vs. input"
   ]
  },
  {
   "cell_type": "code",
   "execution_count": null,
   "metadata": {},
   "outputs": [],
   "source": [
    "plt.rcParams['font.size'] = '15'\n",
    "plt.figure(figsize=(15,6))\n",
    "tdep = evdep[idx]\n",
    "print(tdep)\n",
    "inc = 1e4\n",
    "dCFSt_seissol = delTs + mu*delPn\n",
    "# dCFS_at_depth(save_dir,outputs3[:,1:,:],dep2,dCFSt_seissol,depth_range,tdep,mu,dt=0.01,save_on=False)\n",
    "# dCFS_at_depth(save_dir,outputs2,dep2,dCFSt_seissol,depth_range,tdep,mu,dt=0.01,save_on=False)\n",
    "dCFS_at_depth(save_dir,outputs2[:,1:,:],dep2,dCFSt_seissol,depth_range,tdep,mu,dt=0.01,save_on=False)\n",
    "plt.legend(fontsize=15,loc='lower right')\n",
    "# plt.xlim(-1,0.5)\n",
    "plt.show()\n"
   ]
  },
  {
   "cell_type": "markdown",
   "metadata": {},
   "source": [
    "### After perturbation vs. During perturbation"
   ]
  },
  {
   "cell_type": "code",
   "execution_count": null,
   "metadata": {},
   "outputs": [],
   "source": [
    "from scipy import interpolate\n",
    "tdep = evdep[idx]\n",
    "mu = 0.4\n",
    "inc = 1e4\n",
    "\n",
    "indx = np.argmin(abs(abs(dep2) - abs(tdep)))\n",
    "print('Depth = %1.2f [km]'%abs(dep2[indx]))\n",
    "pn2 = np.array(outputs2[indx])[1:,5]-np.array(outputs2[indx])[1,5]\n",
    "ts2 = np.array(outputs2[indx])[1:,3]-np.array(outputs2[indx])[1,3]\n",
    "dCFSt2 = -ts2 - mu*pn2\n",
    "t2 = np.array(outputs2[indx])[1:,0] # -np.array(outputs2[indx])[0,0]\n",
    "\n",
    "pn3 = np.array(outputs3[indx])[1:,5]-np.array(outputs2[indx])[1,5]\n",
    "ts3 = np.array(outputs3[indx])[1:,3]-np.array(outputs2[indx])[1,3]\n",
    "dCFSt3 = -ts3 - mu*pn3\n",
    "t3 = np.array(outputs3[indx])[1:,0] # -np.array(outputs3[indx])[0,0]\n",
    "\n",
    "plt.rcParams['font.size'] = '15'\n",
    "plt.figure(figsize=(15,6))\n",
    "\n",
    "plt.plot(t2,dCFSt2,color='k',lw=2.5,label='DuringPerturbation',linestyle='-')\n",
    "plt.plot(t3,dCFSt3,color=mp.myburgundy,lw=2.5,label='After Perturbation',linestyle='--')\n",
    "plt.xlabel('Time [s]',fontsize=17)\n",
    "plt.ylabel('dCFS [Mpa]',fontsize=17)\n",
    "plt.grid(True,alpha=0.5)\n",
    "plt.tight_layout()\n",
    "\n",
    "plt.legend(fontsize=15,loc='lower right')\n",
    "plt.xlim(outputs2[0,0,0]-.5,outputs3[0,0,0]+5)\n",
    "plt.ylim(-1.5,1.5)\n",
    "plt.show()\n"
   ]
  },
  {
   "cell_type": "code",
   "execution_count": null,
   "metadata": {},
   "outputs": [],
   "source": [
    "\n",
    "plt.rcParams['font.size'] = '15'\n",
    "plt.figure(figsize=(15,6))\n",
    "\n",
    "plt.plot(t2,-ts2,color='k',lw=2.5,label='ts',linestyle='-')\n",
    "cb = plt.scatter(t2,-ts2,s=50,c=np.arange(len(ts2)))\n",
    "# plt.plot(t2,pn2,color=mp.myburgundy,lw=2.5,label='After Perturbation',linestyle='--')\n",
    "plt.colorbar(cb)\n",
    "plt.xlabel('Time [s]',fontsize=17)\n",
    "plt.ylabel('dCFS [Mpa]',fontsize=17)\n",
    "plt.grid(True,alpha=0.5)\n",
    "plt.tight_layout()\n",
    "\n",
    "plt.legend(fontsize=15,loc='lower right')\n",
    "plt.xlim(outputs2[0,0,0]-.5,outputs3[0,0,0]+5)\n",
    "plt.ylim(-5,.5)\n",
    "plt.show()"
   ]
  },
  {
   "cell_type": "markdown",
   "metadata": {},
   "source": [
    "# Quick summary chart"
   ]
  },
  {
   "cell_type": "markdown",
   "metadata": {},
   "source": [
    "## Fixed event"
   ]
  },
  {
   "cell_type": "code",
   "execution_count": null,
   "metadata": {},
   "outputs": [],
   "source": []
  },
  {
   "cell_type": "markdown",
   "metadata": {},
   "source": [
    "## Fixed stress perturbation model"
   ]
  },
  {
   "cell_type": "code",
   "execution_count": null,
   "metadata": {},
   "outputs": [],
   "source": [
    "from perturb_tools import PERTURB\n",
    "import setup_shortcut\n",
    "sc = setup_shortcut.setups()\n",
    "import numpy as np\n",
    "\n",
    "print('####### Fixed stress perturbation model #######')\n",
    "model_n = 'vert_slow'\n",
    "receivef_strike = 340\n",
    "time_diff_in_h = 30\n",
    "if time_diff_in_h == 16.2:\n",
    "    full_model_name = '%s%d'%(sc.model_code(model_n),receivef_strike)\n",
    "else:\n",
    "    full_model_name = '%s%d_%dh'%(sc.model_code(model_n),receivef_strike,time_diff_in_h)\n",
    "print('Model: %s'%(full_model_name))\n",
    "\n",
    "event_list = [8,12,20,31,45,56]\n",
    "\n",
    "evidx,org_evdep,new_evdep,trigg_response,peak_dyn,static = [],[],[],[],[],[]\n",
    "for target_eventid in event_list:\n",
    "    pert = PERTURB(target_eventid,model_n,receivef_strike,print_on=False)\n",
    "    pert.events_without_pert(print_on=False)\n",
    "    pert.events_with_pert(print_on=False)\n",
    "    pert.load_stress_info(print_on=False)\n",
    "    org_evdep.append(pert.ref_evdep[pert.ref_idx])\n",
    "    evidx.append(pert.ref_idx)\n",
    "    if len(pert.system_wide) == 1:\n",
    "        new_evdep.append(pert.evdep[pert.system_wide][0])\n",
    "        trigg_response.append((pert.tstart[pert.system_wide]-pert.ref_tstart[pert.ref_idx])/3600)\n",
    "        peak_dyn.append(pert.peak_dynamic)\n",
    "        static.append(pert.static)\n",
    "    elif len(pert.system_wide) > 1:\n",
    "        print('Event %d: More than one system-size events'%(target_eventid))\n",
    "    elif len(pert.system_wide) == 0:\n",
    "        print('Event %d: No system-size events'%(target_eventid))\n",
    "\n",
    "print(' Event # | ID | Hyp. Depth | Peak dCFS | Static dCFS | Time diff. | New Hyp. Depth')\n",
    "for i in range(len(org_evdep)):\n",
    "    print('  %d  |  %d  |   %1.2f   |   %1.4f   |   %1.4f   |   %1.4f  |   %1.2f  '%(evidx[i],event_list[i],org_evdep[i],peak_dyn[i],static[i],trigg_response[i],new_evdep[i]))"
   ]
  },
  {
   "cell_type": "code",
   "execution_count": null,
   "metadata": {},
   "outputs": [],
   "source": [
    "from perturb_tools import PERTURB\n",
    "import setup_shortcut\n",
    "sc = setup_shortcut.setups()\n",
    "import numpy as np\n",
    "\n",
    "print('####### Fixed stress perturbation model #######')\n",
    "model_n = 'vert_slow'\n",
    "receivef_strike = 340\n",
    "time_diff_in_h = 30\n",
    "if time_diff_in_h == 16.2:\n",
    "    full_model_name = '%s%d'%(sc.model_code(model_n),receivef_strike)\n",
    "else:\n",
    "    full_model_name = '%s%d_%dh'%(sc.model_code(model_n),receivef_strike,time_diff_in_h)\n",
    "print('Model: %s'%(full_model_name))\n",
    "\n",
    "pert = PERTURB(8,model_n,receivef_strike,print_on=False)\n",
    "pert.events_without_pert(print_on=False)\n",
    "pert.load_stress_info(print_on=False)\n",
    "print(pert.peak_dynamic,pert.static)"
   ]
  },
  {
   "cell_type": "code",
   "execution_count": null,
   "metadata": {},
   "outputs": [],
   "source": [
    "float('vert_slow_X10'.split('_X')[-1])"
   ]
  },
  {
   "cell_type": "code",
   "execution_count": null,
   "metadata": {},
   "outputs": [],
   "source": []
  }
 ],
 "metadata": {
  "kernelspec": {
   "display_name": "ridgecrest",
   "language": "python",
   "name": "python3"
  },
  "language_info": {
   "codemirror_mode": {
    "name": "ipython",
    "version": 3
   },
   "file_extension": ".py",
   "mimetype": "text/x-python",
   "name": "python",
   "nbconvert_exporter": "python",
   "pygments_lexer": "ipython3",
   "version": "3.10.8"
  }
 },
 "nbformat": 4,
 "nbformat_minor": 2
}
