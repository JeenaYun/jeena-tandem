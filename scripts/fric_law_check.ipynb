{
 "cells": [
  {
   "cell_type": "markdown",
   "metadata": {},
   "source": [
    "# Tools for friction law development\n",
    "Last modification: 2024.01.30.</br>"
   ]
  },
  {
   "cell_type": "markdown",
   "metadata": {},
   "source": [
    "# Initiate"
   ]
  },
  {
   "cell_type": "code",
   "execution_count": null,
   "metadata": {},
   "outputs": [],
   "source": [
    "import numpy as np\n",
    "import setup_shortcut\n",
    "import change_params\n",
    "from read_outputs import *\n",
    "import matplotlib.pylab as plt\n",
    "from scipy import signal,interpolate\n",
    "import myplots\n",
    "mp = myplots.Figpref()\n",
    "plt.rcParams['font.size'] = '15'\n",
    "\n",
    "sc = setup_shortcut.setups()\n",
    "ch = change_params.variate()\n",
    "\n",
    "target_eventid = 8\n",
    "save_dir = 'source_test/seissol_outputs'\n",
    "model_n = 'vert_slow'\n",
    "mu = 0.4\n",
    "receivef_strike = 340\n",
    "\n",
    "save_dir1 = '/raid/class239/jeena/Tandem/'+'source_test/base_pert'\n",
    "save_dir2 = '/raid/class239/jeena/Tandem/'+'source_test/original_source'\n",
    "save_dir3 = '/raid/class239/jeena/Tandem/'+'source_test/custom_source'\n",
    "\n",
    "# outputs1,dep1,params1 = load_short_fault_probe_outputs(save_dir1,0)\n",
    "if 'save_dir1' in locals(): outputs,dep = load_fault_probe_outputs(save_dir1)\n",
    "if 'save_dir2' in locals(): outputs2,dep2 = load_fault_probe_outputs(save_dir2)\n",
    "if 'save_dir3' in locals(): outputs3,dep3 = load_fault_probe_outputs(save_dir3)"
   ]
  },
  {
   "cell_type": "markdown",
   "metadata": {},
   "source": [
    "# Check state evolution"
   ]
  },
  {
   "cell_type": "code",
   "execution_count": null,
   "metadata": {},
   "outputs": [],
   "source": [
    "target_depth = 7.5\n",
    "di = np.argmin(abs(abs(dep)-target_depth))\n",
    "time,psi,sigma,sliprate = outputs[di,:,0],outputs[di,:,1],outputs[di,:,5]*1e6,outputs[di,:,4]\n",
    "time2,psi2,sigma2,sliprate2 = outputs2[di,:,0],outputs2[di,:,1],outputs2[di,:,5]*1e6,outputs2[di,:,4]\n",
    "time3,psi3,sigma3,sliprate3 = outputs3[di,:,0],outputs3[di,:,1],outputs3[di,:,5]*1e6,outputs3[di,:,4]"
   ]
  },
  {
   "cell_type": "code",
   "execution_count": null,
   "metadata": {},
   "outputs": [],
   "source": [
    "plt.figure(figsize=(8,6))\n",
    "gap = 1e5\n",
    "# ii = np.where(np.logical_and(time>=min([time2[0],time3[0]])-gap,time<=max([time2[-1],time3[-1]])+gap))\n",
    "# plt.plot(time[ii],psi[ii],'k',lw=2.5,label='Base (Aging Law)')\n",
    "plt.plot(time,psi,'k',lw=2.5,label='Base (Aging Law)')\n",
    "plt.plot(time2,psi2,c=mp.myburgundy,lw=2.5,label='source(x,y,t)',linestyle='--')\n",
    "plt.plot(time3,psi3,c=mp.myyellow,lw=2.5,label='source(x,y,t,sn)',linestyle='--')\n",
    "plt.legend(fontsize=15)\n",
    "plt.xlabel('Time [s]',fontsize=17)\n",
    "plt.ylabel('$\\psi$',fontsize=17)\n",
    "plt.title('%1.1f km'%(abs(dep[di])),fontsize=17,fontweight='bold')\n",
    "gap = 0.25\n",
    "plt.xlim(min([time2[0],time3[0]])-gap,max([time2[-1],time3[-1]])+gap)\n",
    "plt.show()"
   ]
  },
  {
   "cell_type": "code",
   "execution_count": null,
   "metadata": {},
   "outputs": [],
   "source": [
    "def get_lhs_rhs(time,psi,sigma,V,alpha=0.3):\n",
    "    b = 0.019\n",
    "    V0 = 1e-6\n",
    "    L = 0.008\n",
    "    f0 = 0.6\n",
    "    dpsidt = np.gradient(psi,time,edge_order=2)\n",
    "    dsigmadt = np.gradient(sigma,time,edge_order=2)\n",
    "    # dpsidt = np.hstack((0,np.diff(psi)/np.diff(time)))\n",
    "    # dsigmadt = np.hstack((0,np.diff(sigma)/np.diff(time)))\n",
    "    first_term = (b*V0/L) * (np.exp((f0 - psi)/b) - abs(V)/V0)\n",
    "    rhs = first_term - alpha*dsigmadt/sigma\n",
    "    lhs = dpsidt\n",
    "    return lhs,rhs\n",
    "\n",
    "lhs,rhs = get_lhs_rhs(time,psi,sigma,sliprate,alpha=0)\n",
    "lhs2,rhs2 = get_lhs_rhs(time2[1:],psi2[1:],sigma2[1:],sliprate2[1:],alpha=0.3)\n",
    "lhs3,rhs3 = get_lhs_rhs(time3,psi3,sigma3,sliprate3,alpha=0.3)"
   ]
  },
  {
   "cell_type": "code",
   "execution_count": null,
   "metadata": {},
   "outputs": [],
   "source": [
    "plt.figure(figsize=(12,6))\n",
    "plt.plot(time2[1:]-time2[1],lhs2,c=mp.myburgundy,lw=2,label='LHS',linestyle='--',zorder=3)\n",
    "plt.plot(time2[1:]-time2[1],rhs2,'k',lw=2,label='RHS')\n",
    "# plt.plot(time2-time2[0],lhs2,c=mp.myburgundy,lw=2,label='LHS',linestyle='--',zorder=3)\n",
    "# plt.plot(time2-time2[0],rhs2,'k',lw=2,label='RHS')\n",
    "# plt.scatter(time2-time2[0],lhs2,fc=mp.myburgundy,label='LHS',zorder=3)\n",
    "# plt.scatter(time2-time2[0],rhs2,fc='k',label='RHS')\n",
    "plt.legend(fontsize=15)\n",
    "plt.xlabel('Time [s]',fontsize=17)\n",
    "plt.ylabel('d$\\psi$/dt',fontsize=17)\n",
    "plt.title('source(x,y,t); %1.1f km'%(abs(dep[di])),fontsize=17,fontweight='bold')\n",
    "plt.xlim(0,5)\n",
    "plt.show()"
   ]
  },
  {
   "cell_type": "code",
   "execution_count": null,
   "metadata": {},
   "outputs": [],
   "source": [
    "plt.figure(figsize=(12,6))\n",
    "plt.scatter(time2[1:]-time2[1],sliprate2[1:],fc=mp.myburgundy,zorder=3)\n",
    "# plt.scatter(time2-time2[0],rhs2,fc='k',label='RHS')\n",
    "# plt.legend(fontsize=15)\n",
    "plt.xlabel('Time [s]',fontsize=17)\n",
    "plt.ylabel('$\\sigma$',fontsize=17)\n",
    "plt.title('source(x,y,t); %1.1f km'%(abs(dep[di])),fontsize=17,fontweight='bold')\n",
    "plt.xlim(0,1)\n",
    "plt.show()"
   ]
  },
  {
   "cell_type": "markdown",
   "metadata": {},
   "source": [
    "# Check other variables"
   ]
  },
  {
   "cell_type": "code",
   "execution_count": null,
   "metadata": {},
   "outputs": [],
   "source": [
    "di = np.argmin(abs(abs(dep)-7.5))\n",
    "# vari,ylab = 1, '$\\psi$' # state\n",
    "# vari,ylab = 2, 'Slip [m]' # slip\n",
    "# vari,ylab = 3,'Shear Stress [MPa]' # shearT\n",
    "# vari,ylab = 4,'$log_{10}$(Slip Rate [m/s])' # sliprate\n",
    "vari,ylab = 5,'Normal Stress [MPa]' # normal stress\n",
    "if vari == 4:\n",
    "    time,var = outputs[di,:,0],np.log10(abs(outputs[di,:,vari]))\n",
    "    time2,var2 = outputs2[di,:,0],np.log10(outputs2[di,:,vari])\n",
    "    time3,var3 = outputs3[di,:,0],np.log10(outputs3[di,:,vari])\n",
    "else:\n",
    "    time,var = outputs[di,:,0],outputs[di,:,vari]\n",
    "    time2,var2 = outputs2[di,:,0],outputs2[di,:,vari]\n",
    "    time3,var3 = outputs3[di,:,0],outputs3[di,:,vari]"
   ]
  },
  {
   "cell_type": "code",
   "execution_count": null,
   "metadata": {},
   "outputs": [],
   "source": [
    "plt.figure(figsize=(8,6))\n",
    "gap = 1e5\n",
    "# ii = np.where(np.logical_and(time>=min([time2[0],time3[0]])-gap,time<=max([time2[-1],time3[-1]])+gap))\n",
    "# plt.plot(time[ii],var[ii],'k',lw=2.5,label='Base (Aging Law)')\n",
    "plt.plot(time,var,'k',lw=2.5,label='Base (Aging Law)')\n",
    "plt.plot(time2,var2,c=mp.myburgundy,lw=2.5,label='source(x,y,t)',linestyle='--')\n",
    "plt.plot(time3,var3,c=mp.myyellow,lw=2.5,label='source(x,y,t,sn)',linestyle='--')\n",
    "plt.legend(fontsize=15)\n",
    "plt.xlabel('Time [s]',fontsize=17)\n",
    "plt.ylabel(ylab,fontsize=17)\n",
    "plt.title('%1.1f km'%(abs(dep[di])),fontsize=17,fontweight='bold')\n",
    "gap = 2\n",
    "plt.xlim(min([time2[0],time3[0]])-gap,max([time2[-1],time3[-1]])+gap)\n",
    "plt.show()"
   ]
  },
  {
   "cell_type": "code",
   "execution_count": null,
   "metadata": {},
   "outputs": [],
   "source": []
  },
  {
   "cell_type": "code",
   "execution_count": null,
   "metadata": {},
   "outputs": [],
   "source": []
  },
  {
   "cell_type": "code",
   "execution_count": null,
   "metadata": {},
   "outputs": [],
   "source": [
    "delPn = -np.loadtxt('%s/ssaf_%s_Pn_pert_mu%02d_%d.dat'%(save_dir,model_n,int(mu*10),receivef_strike))\n",
    "depth_range = np.loadtxt('%s/ssaf_%s_dep_stress_pert_mu%02d_%d.dat'%(save_dir,model_n,int(mu*10),receivef_strike))\n",
    "dt = 0.01\n",
    "\n",
    "dri = np.argmin(abs(abs(depth_range)-7.5))\n",
    "sn = 50 + delPn[:,dri]\n",
    "dsndt = np.hstack((0,np.diff(delPn[:,dri])/dt))"
   ]
  }
 ],
 "metadata": {
  "kernelspec": {
   "display_name": "ridgecrest",
   "language": "python",
   "name": "python3"
  },
  "language_info": {
   "codemirror_mode": {
    "name": "ipython",
    "version": 3
   },
   "file_extension": ".py",
   "mimetype": "text/x-python",
   "name": "python",
   "nbconvert_exporter": "python",
   "pygments_lexer": "ipython3",
   "version": "3.8.18"
  }
 },
 "nbformat": 4,
 "nbformat_minor": 2
}
