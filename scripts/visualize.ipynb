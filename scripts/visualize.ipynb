{
 "cells": [
  {
   "attachments": {},
   "cell_type": "markdown",
   "metadata": {},
   "source": [
    "# Tandem result visualization tools\n",
    "Last modification: 2023.06.13."
   ]
  },
  {
   "cell_type": "code",
   "execution_count": 2,
   "metadata": {},
   "outputs": [
    {
     "name": "stdout",
     "output_type": "stream",
     "text": [
      "Load saved data: models/Thakur20_various_fractal_profiles/v6_ab2_Dc1_long/outputs\n",
      "Load saved data: models/Thakur20_various_fractal_profiles/v6_ab2_Dc1_long/outputs_depthinfo\n",
      "Fractal normal stress model ver.6\n",
      "Fractal a-b model ver.2\n",
      "Fractal Dc model ver.1\n",
      "Using file fractal_snpre_06\n",
      "Using file fractal_ab_02\n",
      "Using file fractal_Dc_01\n"
     ]
    }
   ],
   "source": [
    "import numpy as np\n",
    "import change_params\n",
    "import myplots\n",
    "\n",
    "mp = myplots.Figpref()\n",
    "ch = change_params.variate()\n",
    "\n",
    "prefix = 'Thakur20_various_fractal_profiles/v6_ab2_Dc1_long'\n",
    "\n",
    "# ----------\n",
    "save_dir = 'models/'+prefix\n",
    "plot_dir = 'plots/'+prefix\n",
    "\n",
    "print('Load saved data: %s/outputs'%(save_dir))\n",
    "outputs = np.load('%s/outputs.npy'%(save_dir))\n",
    "print('Load saved data: %s/outputs_depthinfo'%(save_dir))\n",
    "dep = np.load('%s/outputs_depthinfo.npy'%(save_dir))\n",
    "\n",
    "# ----------\n",
    "y,Hs,a,b,a_b,tau0,sigma0,Dc,others = ch.load_parameter(prefix)"
   ]
  },
  {
   "attachments": {},
   "cell_type": "markdown",
   "metadata": {},
   "source": [
    "# Fault output vs. Time"
   ]
  },
  {
   "cell_type": "code",
   "execution_count": null,
   "metadata": {},
   "outputs": [],
   "source": [
    "plot_in_sec = 0\n",
    "sliprate_dep,slip_dep,stress_dep,state_var_dep = 7.5,0,0,0\n",
    "save_on = 0\n",
    "\n",
    "if abs(sliprate_dep)>0:\n",
    "    from faultoutputs_vs_time import sliprate_time\n",
    "    sliprate_time(plot_dir,outputs,dep,sliprate_dep,plot_in_sec,save_on)\n",
    "    \n",
    "if abs(slip_dep)>0:\n",
    "    from faultoutputs_vs_time import slip_time\n",
    "    slip_time(plot_dir,outputs,dep,slip_dep,plot_in_sec,save_on)\n",
    "    \n",
    "if abs(stress_dep)>0:\n",
    "    from faultoutputs_vs_time import stress_time\n",
    "    stress_time(plot_dir,outputs,dep,stress_dep,plot_in_sec,save_on)\n",
    "\n",
    "if abs(state_var_dep)>0:\n",
    "    from faultoutputs_vs_time import state_time\n",
    "    state_time(plot_dir,outputs,dep,state_var_dep,plot_in_sec,save_on)"
   ]
  },
  {
   "attachments": {},
   "cell_type": "markdown",
   "metadata": {},
   "source": [
    "# Check initial inputs"
   ]
  },
  {
   "cell_type": "code",
   "execution_count": null,
   "metadata": {},
   "outputs": [],
   "source": [
    "save_on = 0\n",
    "stressprof,abprof,dcprof = 1,0,0\n",
    "if stressprof:\n",
    "    from stress_profile import plot_stress_vs_depth\n",
    "    plot_stress_vs_depth(plot_dir,prefix,outputs,dep,save_on)\n",
    "\n",
    "if abprof:\n",
    "    from ab_profile import plot_ab_vs_depth\n",
    "    plot_ab_vs_depth(plot_dir,prefix,save_on)\n",
    "\n",
    "if dcprof:\n",
    "    from Dc_profile import plot_Dc_vs_depth\n",
    "    plot_Dc_vs_depth(plot_dir,prefix,save_on)"
   ]
  },
  {
   "attachments": {},
   "cell_type": "markdown",
   "metadata": {},
   "source": [
    "## Stress histogram"
   ]
  },
  {
   "cell_type": "code",
   "execution_count": null,
   "metadata": {},
   "outputs": [],
   "source": [
    "save_on = 0\n",
    "from stress_profile import plot_hist\n",
    "plot_hist(plot_dir,outputs,dep,save_on)"
   ]
  },
  {
   "attachments": {},
   "cell_type": "markdown",
   "metadata": {},
   "source": [
    "# Faultoutput as image"
   ]
  },
  {
   "cell_type": "code",
   "execution_count": null,
   "metadata": {},
   "outputs": [],
   "source": [
    "save_on = 0\n",
    "image_sliprate,image_shearT,image_normalT,image_state_var = 1,0,0,0\n",
    "vmin,vmax = None,None\n",
    "if vmin is None and image_sliprate:\n",
    "    vmin = 1e-13\n",
    "plot_in_timestep = 1\n",
    "plot_in_sec = 0\n",
    "from faultoutputs_image import fout_image\n",
    "fout_image(image_sliprate,image_shearT,image_normalT,image_state_var,outputs,dep,plot_in_timestep,plot_dir,prefix,vmin,vmax,plot_in_sec,save_on)\n"
   ]
  },
  {
   "attachments": {},
   "cell_type": "markdown",
   "metadata": {},
   "source": [
    "# Cumslip vs. Depth"
   ]
  },
  {
   "cell_type": "code",
   "execution_count": null,
   "metadata": {},
   "outputs": [],
   "source": [
    "from cumslip_compute import *\n",
    "from cumslip_plot import *\n",
    "\n",
    "rths = 10\n",
    "save_on = 0\n",
    "spin_up = 0\n",
    "ab_inout,stress_inout,dc_inout,depth_dist = 1,0,1,0\n",
    "\n",
    "if prefix == 'BP1':\n",
    "    Vlb = 1e-2\n",
    "    dt_creep = 5*ch.yr2sec\n",
    "    dt_coseismic = 1\n",
    "    dt_interm = 1*ch.wk2sec\n",
    "    cuttime = 1200*ch.yr2sec\n",
    "else:\n",
    "    Vths = 1e-2\n",
    "    Vlb = 0\n",
    "    dt_creep = 2*ch.yr2sec\n",
    "    dt_coseismic = 0.5\n",
    "    dt_interm = 0\n",
    "    cuttime = 0\n",
    "    mingap = 60\n",
    "\n",
    "# ----------\n",
    "cumslip_outputs = compute_cumslip(outputs,dep,cuttime,Vlb,Vths,dt_creep,dt_coseismic,dt_interm,mingap)\n",
    "\n",
    "# --- Plot the result\n",
    "if spin_up > 0:\n",
    "    spup_cumslip_outputs = compute_spinup(outputs,dep,cuttime,cumslip_outputs,spin_up)\n",
    "    spup_where(plot_dir,prefix,cumslip_outputs,spup_cumslip_outputs,Vths,dt_coseismic,rths,save_on)\n",
    "else:\n",
    "    spup_cumslip_outputs = None"
   ]
  },
  {
   "cell_type": "code",
   "execution_count": null,
   "metadata": {},
   "outputs": [],
   "source": [
    "if sum([ab_inout,stress_inout,dc_inout,depth_dist]) == 0:\n",
    "    only_cumslip(save_dir,prefix,cumslip_outputs,Vths,dt_coseismic,rths,spup_cumslip_outputs)\n",
    "elif sum([ab_inout,stress_inout,dc_inout,depth_dist]) == 1:\n",
    "    two_set(save_dir,prefix,outputs,dep,cumslip_outputs,Vths,dt_coseismic,depth_dist,ab_inout,stress_inout,dc_inout,rths,spup_cumslip_outputs)\n",
    "elif sum([ab_inout,stress_inout,dc_inout,depth_dist]) == 2:\n",
    "    three_set(save_dir,prefix,outputs,dep,cumslip_outputs,Vths,dt_coseismic,depth_dist,ab_inout,stress_inout,dc_inout,rths,spup_cumslip_outputs)"
   ]
  },
  {
   "cell_type": "code",
   "execution_count": null,
   "metadata": {},
   "outputs": [],
   "source": [
    "plot_event_analyze(plot_dir,prefix,cumslip_outputs,rths,save_on)"
   ]
  },
  {
   "attachments": {},
   "cell_type": "markdown",
   "metadata": {},
   "source": [
    "# Source-time function\n",
    "After Barbot (2019)"
   ]
  },
  {
   "cell_type": "code",
   "execution_count": null,
   "metadata": {},
   "outputs": [],
   "source": [
    "from scipy import integrate\n",
    "\n",
    "time = np.array([outputs[i][:,0] for i in np.argsort(abs(dep))])\n",
    "sr = abs(np.array([outputs[i][:,4] for i in np.argsort(abs(dep))]))\n",
    "z = np.sort(abs(dep))\n",
    "\n",
    "mu = 10e9\n",
    "\n",
    "Fdot = mu * integrate.simpson(sr,z)"
   ]
  },
  {
   "attachments": {},
   "cell_type": "markdown",
   "metadata": {},
   "source": [
    "# Recurrence interval"
   ]
  },
  {
   "cell_type": "code",
   "execution_count": null,
   "metadata": {},
   "outputs": [],
   "source": [
    "from cumslip_compute import *\n",
    "from cumslip_plot import *\n",
    "\n",
    "rths = 10\n",
    "save_on = 0\n",
    "spin_up = 1\n",
    "ab_inout,stress_inout,dc_inout,depth_dist = 1,0,1,0\n",
    "\n",
    "if prefix == 'BP1':\n",
    "    Vlb = 1e-2\n",
    "    dt_creep = 5*ch.yr2sec\n",
    "    dt_coseismic = 1\n",
    "    dt_interm = 1*ch.wk2sec\n",
    "    cuttime = 1200*ch.yr2sec\n",
    "else:\n",
    "    Vths = 1e-2\n",
    "    Vlb = 0\n",
    "    dt_creep = 2*ch.yr2sec\n",
    "    dt_coseismic = 0.5\n",
    "    dt_interm = 0\n",
    "    cuttime = 0\n",
    "    mingap = 60\n",
    "\n",
    "# ----------\n",
    "from cumslip_compute import *\n",
    "from cumslip_plot import *\n",
    "\n",
    "cumslip_outputs = compute_cumslip(outputs,dep,cuttime,Vlb,Vths,dt_creep,dt_coseismic,dt_interm,mingap,print_on=False)\n",
    "\n",
    "system_wide = analyze_events(cumslip_outputs,rths)[2]\n",
    "sys_ev_t = cumslip_outputs[0][0][system_wide]\n",
    "sys_ev_t = sys_ev_t[cumslip_outputs[1][0][system_wide]>spin_up]\n",
    "\n",
    "nmodes=2\n",
    "print('Recurrence interval')\n",
    "for m in range(nmodes):\n",
    "    print('Mode %d: %2.3f yrs'%(m+1,np.mean(np.diff(sys_ev_t[m::nmodes]))/ch.yr2sec))\n"
   ]
  },
  {
   "attachments": {},
   "cell_type": "markdown",
   "metadata": {},
   "source": [
    "# Phase diagram"
   ]
  },
  {
   "cell_type": "code",
   "execution_count": null,
   "metadata": {},
   "outputs": [],
   "source": [
    "save_on = 0\n",
    "Vths = 1e-2\n",
    "\n",
    "idx = np.argsort(abs(dep))\n",
    "sorted_outputs = np.array(np.copy(outputs[idx]))\n",
    "\n",
    "sliprate = sorted_outputs[:,:,4].transpose()\n",
    "shear_s = abs(sorted_outputs[:,:,3]).transpose()\n",
    "normal_s = sorted_outputs[:,:,5].transpose()\n",
    "\n",
    "dx = np.diff(np.sort(abs(dep)))\n",
    "delx = np.tile(dx,shear_s.shape[0]).reshape(shear_s.shape[0],len(dx))\n",
    "shear_to_normal = shear_s/normal_s\n",
    "int_shear_to_normal = np.sum(0.5*delx*(shear_to_normal[:,0:-1]+shear_to_normal[:,1:]),axis=1)\n",
    "int_sliprate = np.sum(0.5*delx*(sliprate[:,0:-1]+sliprate[:,1:]),axis=1)\n",
    "\n",
    "plt.rcParams['font.size'] = '15'\n",
    "plt.figure(figsize=(8,6))\n",
    "# stp = int(1e4)\n",
    "stp = int(1.5e4)\n",
    "c =0\n",
    "# startp = 0\n",
    "startp = int(3e4)\n",
    "# if startp == 0:\n",
    "#     plt.title('From %d, step = %1.1e'%(startp,stp),fontsize=20,fontweight = 'bold')\n",
    "# else:\n",
    "#     plt.title('From %1.1e, step = %1.1e'%(startp,stp),fontsize=20,fontweight = 'bold')\n",
    "# while startp <= len(int_sliprate):\n",
    "#     if startp + stp <= len(int_sliprate):\n",
    "#         plt.plot(int_sliprate[startp:startp+stp],int_shear_to_normal[startp:startp+stp],lw=3,label='%d'%(c))\n",
    "#     else:\n",
    "#         plt.plot(int_sliprate[startp:],int_shear_to_normal[startp:],lw=3,label='%d'%(c))\n",
    "#     startp += stp\n",
    "#     c += 1\n",
    "\n",
    "i1 = 10\n",
    "i2 = 40\n",
    "plt.plot(int_sliprate[startp:],int_shear_to_normal[startp:],lw=3,color='0.62',label='All')\n",
    "evidx = np.zeros(len(int_sliprate[startp:]))\n",
    "evidx[np.where(np.sum(sliprate[startp:,:]>Vths,axis=1)>0)[0]] = np.ones(len(np.where(np.sum(sliprate[startp:,:]>Vths,axis=1)>0)[0]))\n",
    "evidx = np.array(evidx,dtype=bool)\n",
    "plt.plot(int_sliprate[startp:][evidx],int_shear_to_normal[startp:][evidx],lw=3,color=mp.mynavy,label='Partial rupture')\n",
    "plt.plot(int_sliprate[startp:][sliprate[startp:,i1]>Vths],int_shear_to_normal[startp:][sliprate[startp:,i1]>Vths],lw=3,color=mp.myburgundy,label='Whole system rupture')\n",
    "\n",
    "plt.xlabel('Integrated slip-rate [m/s km]',fontsize=17)\n",
    "plt.ylabel('Integrated shear stress/normal stress [km]',fontsize=17)\n",
    "plt.xscale('log')\n",
    "plt.legend(fontsize=13,loc='lower left')\n",
    "xl = plt.gca().get_xlim()\n",
    "yl = plt.gca().get_ylim()\n",
    "\n",
    "plt.tight_layout()\n",
    "if save_on:\n",
    "    plt.savefig('plots/%s/phase_diagram.png'%(prefix),dpi=300)\n",
    "plt.show()\n",
    "\n"
   ]
  },
  {
   "cell_type": "code",
   "execution_count": null,
   "metadata": {},
   "outputs": [],
   "source": [
    "import matplotlib.animation as animation \n",
    "\n",
    "save_on = 1\n",
    "Vths = 1e-2\n",
    "\n",
    "idx = np.argsort(abs(dep))\n",
    "sorted_outputs = np.array(np.copy(outputs[idx]))\n",
    "\n",
    "sliprate = sorted_outputs[:,:,4].transpose()\n",
    "shear_s = abs(sorted_outputs[:,:,3]).transpose()\n",
    "normal_s = sorted_outputs[:,:,5].transpose()\n",
    "\n",
    "dx = np.diff(np.sort(abs(dep)))\n",
    "delx = np.tile(dx,shear_s.shape[0]).reshape(shear_s.shape[0],len(dx))\n",
    "shear_to_normal = shear_s/normal_s\n",
    "int_shear_to_normal = np.sum(0.5*delx*(shear_to_normal[:,0:-1]+shear_to_normal[:,1:]),axis=1)\n",
    "int_sliprate = np.sum(0.5*delx*(sliprate[:,0:-1]+sliprate[:,1:]),axis=1)\n",
    "\n",
    "plt.rcParams['font.size'] = '15'\n",
    "fig = plt.figure(figsize=(8,6))\n",
    "\n",
    "xdata = []   \n",
    "ydata = []\n",
    "\n",
    "startp = int(3e4)\n",
    "def animate(i,int_sliprate,int_shear_to_normal,startp):\n",
    "    xdata.append(int_sliprate[startp+100*i])\n",
    "    ydata.append(int_shear_to_normal[startp+i])\n",
    "    plt.gca().clear()\n",
    "    plt.plot(xdata,ydata,color='k',lw=3)\n",
    "    plt.xlabel('Integrated slip-rate [m/s km]',fontsize=17)\n",
    "    plt.ylabel('Integrated shear stress/normal stress [km]',fontsize=17)\n",
    "    plt.xlim(2.798309627942856e-09, 10.194717872257138)\n",
    "    plt.ylim(13.05,13.6)\n",
    "    plt.xscale('log')\n",
    "   \n",
    "anim = animation.FuncAnimation(fig,animate,frames=500,fargs=(int_sliprate,int_shear_to_normal,startp),interval=5,repeat=False) \n",
    "if save_on:\n",
    "    anim.save('plots/%s/phase_diagram.mp4'%(prefix))"
   ]
  },
  {
   "cell_type": "code",
   "execution_count": null,
   "metadata": {},
   "outputs": [],
   "source": [
    "i = 10\n",
    "print(int_sliprate[startp+i])"
   ]
  },
  {
   "cell_type": "code",
   "execution_count": null,
   "metadata": {},
   "outputs": [],
   "source": []
  },
  {
   "attachments": {},
   "cell_type": "markdown",
   "metadata": {},
   "source": [
    "## Inidividual"
   ]
  },
  {
   "cell_type": "code",
   "execution_count": null,
   "metadata": {},
   "outputs": [],
   "source": [
    "save_on = 1\n",
    "target_depth = 12 # in km\n",
    "indx = np.argmin(abs(abs(dep) - abs(target_depth)))\n",
    "print('Depth = %1.1f [km]'%abs(dep[indx]))\n",
    "\n",
    "# mode = 0\n",
    "# if mode == 1:\n",
    "#     print('Mode 1: Odd events only')\n",
    "# elif mode == 2:\n",
    "#     print('Mode 2: Even events only')\n",
    "# else:\n",
    "#     print('Mode 0: All events')\n",
    "\n",
    "sliprate = outputs[indx,:,4].transpose()\n",
    "shear_s = abs(outputs[indx,:,3]).transpose()\n",
    "normal_s = outputs[indx,:,5].transpose()\n",
    "\n",
    "plt.rcParams['font.size'] = '15'\n",
    "plt.figure(figsize=(8,7))\n",
    "# stp = int(1e4)\n",
    "stp = int(1.5e4)\n",
    "c =0\n",
    "startp = 0\n",
    "# startp = int(3e4)\n",
    "if startp == 0:\n",
    "    plt.title('From %d, step = %1.1e'%(startp,stp),fontsize=20,fontweight = 'bold')\n",
    "else:\n",
    "    plt.title('From %1.1e, step = %1.1e'%(startp,stp),fontsize=20,fontweight = 'bold')\n",
    "while startp <= len(sliprate):\n",
    "    if startp + stp <= len(sliprate):\n",
    "        plt.plot(abs(sliprate[startp:startp+stp]),shear_s[startp:startp+stp]/normal_s[startp:startp+stp],lw=3,label='%d'%(c))\n",
    "    else:\n",
    "        plt.plot(abs(sliprate[startp:]),shear_s[startp:]/normal_s[startp:],lw=3,label='%d'%(c))\n",
    "    startp += stp\n",
    "    c += 1\n",
    "\n",
    "# plt.plot(abs(sliprate),shear_s/normal_s,lw=3)\n",
    "plt.xlabel('Slip-rate [m/s]',fontsize=17)\n",
    "plt.ylabel('Shear stress/normal stress',fontsize=17)\n",
    "# plt.title('Depth = %1.1f [km]'%abs(dep[indx]),fontsize=20,fontweight = 'bold')\n",
    "plt.xscale('log')\n",
    "xl = plt.gca().get_xlim()\n",
    "yl = plt.gca().get_ylim()\n",
    "plt.text(xl[0]*2,yl[1]-0.025*(yl[1]-yl[0]),'z = %1.1f [km]'%abs(dep[indx]),fontsize=17,fontweight = 'bold',ha='left',va='top',bbox=mp.tboxprop)\n",
    "plt.legend(fontsize=15,loc='lower left')\n",
    "\n",
    "plt.tight_layout()\n",
    "if save_on:\n",
    "    plt.savefig('plots/%s/indiviaul_phase_diagram_%d.png'%(prefix,abs(dep[indx])*10),dpi=300)\n",
    "plt.show()\n",
    "\n"
   ]
  },
  {
   "attachments": {},
   "cell_type": "markdown",
   "metadata": {},
   "source": [
    "## Several depths together"
   ]
  },
  {
   "cell_type": "code",
   "execution_count": null,
   "metadata": {},
   "outputs": [],
   "source": [
    "def plot_individual(outputs,dep,target_depth,startp,col):\n",
    "    indx = np.argmin(abs(abs(dep) - abs(target_depth)))\n",
    "    print('Depth = %1.1f [km]'%abs(dep[indx]))\n",
    "\n",
    "    sliprate = outputs[indx,:,4].transpose()\n",
    "    shear_s = abs(outputs[indx,:,3]).transpose()\n",
    "    normal_s = outputs[indx,:,5].transpose()\n",
    "    plt.plot(abs(sliprate[startp:]),shear_s[startp:]/normal_s[startp:],lw=2.5,color=col,label='z = %1.1f km'%(abs(dep[indx])))\n",
    "\n",
    "save_on = 1\n",
    "startp = int(3e4)\n",
    "\n",
    "plt.rcParams['font.size'] = '15'\n",
    "plt.figure(figsize=(8,7))\n",
    "plot_individual(outputs,dep,2.5,startp,mp.myburgundy)\n",
    "plot_individual(outputs,dep,8,startp,mp.mygreen)\n",
    "plot_individual(outputs,dep,12,startp,mp.mynavy)\n",
    "plt.title('Spun up (From %1.0e)'%(startp),fontsize=20,fontweight = 'bold')\n",
    "plt.xlabel('Slip-rate [m/s]',fontsize=17)\n",
    "plt.ylabel('Shear stress/normal stress',fontsize=17)\n",
    "plt.xscale('log')\n",
    "xl = plt.gca().get_xlim()\n",
    "yl = plt.gca().get_ylim()\n",
    "plt.legend(fontsize=14,loc='upper left')\n",
    "\n",
    "plt.tight_layout()\n",
    "if save_on:\n",
    "    plt.savefig('plots/%s/together_indiviaul_phase_diagram.png'%(prefix),dpi=300)\n",
    "plt.show()\n",
    "\n"
   ]
  },
  {
   "attachments": {},
   "cell_type": "markdown",
   "metadata": {},
   "source": [
    "# Appendix 1. Range of events along the whole depth"
   ]
  },
  {
   "cell_type": "code",
   "execution_count": null,
   "metadata": {},
   "outputs": [],
   "source": [
    "save_on = 1\n",
    "plot_in_sec = 0\n",
    "\n",
    "evtimes = []\n",
    "deps = []\n",
    "\n",
    "plt.rcParams['font.size'] = '15'\n",
    "plt.figure(figsize=(12,9))\n",
    "\n",
    "c = 0\n",
    "for i in np.argsort(abs(dep)):\n",
    "    z = abs(dep[i])\n",
    "    time = np.array(outputs[i])[:,0]\n",
    "    sliprate = np.array(outputs[i])[:,4]\n",
    "    cumslip = np.array(outputs[i])[:,2]\n",
    "\n",
    "    if abs(cuttime) >= 1e-3:\n",
    "        if cuttime > np.max(time):\n",
    "            raise ValueError('Cuttime larger than total simulation time - check again')\n",
    "        else:\n",
    "            sliprate = sliprate[time <= cuttime]\n",
    "            cumslip = cumslip[time <= cuttime]\n",
    "            time = time[time <= cuttime]\n",
    "\n",
    "    # Define events by sliprate rager than certain threshold\n",
    "    if Vlb > 0:\n",
    "        events = np.where(np.logical_and(sliprate < Vths,sliprate > Vlb))[0]\n",
    "    else:\n",
    "        events = np.where(sliprate > Vths)[0]\n",
    "\n",
    "    if len(events) > 0:\n",
    "        plt.scatter(time[events],z*np.ones(events.shape),s=5,c='k',zorder=3)\n",
    "        plt.xlabel('Time [s]',fontsize=17)\n",
    "    elif len(events) == 0:\n",
    "        print('Depth',z,' - no events')\n",
    "\n",
    "    c += 1\n",
    "\n",
    "plt.ylabel('Depth [km]',fontsize=17)\n",
    "evindx = 25\n",
    "inc = 0.25\n",
    "plt.vlines(x=tstart_coseis,ymin=0,ymax=15,colors=mp.myburgundy,lw=3)\n",
    "plt.vlines(x=tend_coseis,ymin=0,ymax=15,colors=mp.mygreen,lw=3)\n",
    "# plt.xlim(tstart[evindx]-5,tend[evindx]+5)\n",
    "# plt.text(tstart[evindx]-4,-0.25,'tstart = %2.1f km'%evdep[evindx],fontsize=15,fontweight='bold',ha='left',va='top',bbox=mp.tboxprop)\n",
    "plt.xlim(tstart_coseis[evindx]-inc,tend_coseis[evindx]+inc)\n",
    "plt.text(tstart_coseis[evindx]-(inc-1),-0.25,'tstart = %2.1f km'%evdep[evindx],fontsize=15,fontweight='bold',ha='left',va='top',bbox=mp.tboxprop)\n",
    "plt.gca().invert_yaxis()\n",
    "plt.tight_layout()\n",
    "if save_on:\n",
    "    plt.savefig('plots/%s/event_range.png'%(prefix),dpi=300)    \n",
    "plt.show()"
   ]
  }
 ],
 "metadata": {
  "kernelspec": {
   "display_name": "Python 3.10.5 ('nucleation')",
   "language": "python",
   "name": "python3"
  },
  "language_info": {
   "codemirror_mode": {
    "name": "ipython",
    "version": 3
   },
   "file_extension": ".py",
   "mimetype": "text/x-python",
   "name": "python",
   "nbconvert_exporter": "python",
   "pygments_lexer": "ipython3",
   "version": "3.10.11"
  },
  "orig_nbformat": 4,
  "vscode": {
   "interpreter": {
    "hash": "f5872b474b53f6accda9e24859de21968245ccd4c130b245bc65b2b0c0cb1275"
   }
  }
 },
 "nbformat": 4,
 "nbformat_minor": 2
}
