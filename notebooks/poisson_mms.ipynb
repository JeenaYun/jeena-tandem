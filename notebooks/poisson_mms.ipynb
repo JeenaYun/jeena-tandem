{
 "cells": [
  {
   "cell_type": "code",
   "execution_count": 1,
   "metadata": {},
   "outputs": [],
   "source": [
    "from sympy import *\n",
    "from util import *\n",
    "init_printing()"
   ]
  },
  {
   "cell_type": "code",
   "execution_count": 2,
   "metadata": {},
   "outputs": [],
   "source": [
    "x, y = symbols('x y')\n",
    "K = Function('K')(x,y)"
   ]
  },
  {
   "cell_type": "code",
   "execution_count": 3,
   "metadata": {},
   "outputs": [],
   "source": [
    "u = exp(-x - y**2)"
   ]
  },
  {
   "cell_type": "code",
   "execution_count": 4,
   "metadata": {},
   "outputs": [
    {
     "data": {
      "image/png": "[encoded data removed]",
      "text/latex": [
       "$\\displaystyle - 4 y^{2} K{\\left(x,y \\right)} e^{- x - y^{2}} + 2 y e^{- x - y^{2}} \\frac{\\partial}{\\partial y} K{\\left(x,y \\right)} + K{\\left(x,y \\right)} e^{- x - y^{2}} + e^{- x - y^{2}} \\frac{\\partial}{\\partial x} K{\\left(x,y \\right)}$"
      ],
      "text/plain": [
       "                      2              2                              2         \n",
       "     2          -x - y         -x - y  ∂                      -x - y     -x - \n",
       "- 4⋅y ⋅K(x, y)⋅ℯ        + 2⋅y⋅ℯ       ⋅──(K(x, y)) + K(x, y)⋅ℯ        + ℯ     \n",
       "                                       ∂y                                     \n",
       "\n",
       " 2            \n",
       "y  ∂          \n",
       "  ⋅──(K(x, y))\n",
       "   ∂x         "
      ]
     },
     "execution_count": 4,
     "metadata": {},
     "output_type": "execute_result"
    }
   ],
   "source": [
    "f = - (K*u.diff(x)).diff(x) - (K*u.diff(y)).diff(y)\n",
    "f"
   ]
  },
  {
   "cell_type": "code",
   "execution_count": 5,
   "metadata": {},
   "outputs": [
    {
     "data": {
      "image/png": "[encoded data removed]",
      "text/latex": [
       "$\\displaystyle \\left(- 4 y^{2} \\left(x + y\\right)^{5} + 10 y \\left(x + y\\right)^{4} + \\left(x + y\\right)^{5} + 5 \\left(x + y\\right)^{4}\\right) e^{- x - y^{2}}$"
      ],
      "text/plain": [
       "                                                                 2\n",
       "⎛     2        5               4          5            4⎞  -x - y \n",
       "⎝- 4⋅y ⋅(x + y)  + 10⋅y⋅(x + y)  + (x + y)  + 5⋅(x + y) ⎠⋅ℯ       "
      ]
     },
     "execution_count": 5,
     "metadata": {},
     "output_type": "execute_result"
    }
   ],
   "source": [
    "f1 = f.subs(K, (x+y)**5).simplify()\n",
    "f1"
   ]
  },
  {
   "cell_type": "code",
   "execution_count": 6,
   "metadata": {},
   "outputs": [
    {
     "data": {
      "text/plain": [
       "'(-4*y^2*(x + y)^5 + 10*y*(x + y)^4 + (x + y)^5 + 5*(x + y)^4)*math.exp(-x - y^2)'"
      ]
     },
     "execution_count": 6,
     "metadata": {},
     "output_type": "execute_result"
    }
   ],
   "source": [
    "lua_code(f1)"
   ]
  },
  {
   "cell_type": "code",
   "execution_count": null,
   "metadata": {},
   "outputs": [],
   "source": []
  }
 ],
 "metadata": {
  "kernelspec": {
   "display_name": "Python 3",
   "language": "python",
   "name": "python3"
  },
  "language_info": {
   "codemirror_mode": {
    "name": "ipython",
    "version": 3
   },
   "file_extension": ".py",
   "mimetype": "text/x-python",
   "name": "python",
   "nbconvert_exporter": "python",
   "pygments_lexer": "ipython3",
   "version": "3.7.3"
  }
 },
 "nbformat": 4,
 "nbformat_minor": 2
}
