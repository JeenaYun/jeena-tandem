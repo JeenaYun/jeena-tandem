{
 "cells": [
  {
   "cell_type": "markdown",
   "metadata": {},
   "source": [
    "# Spherical hole problem\n",
    "\n",
    "The spherial hole problem is considered in 24.1.2 in\n",
    "\n",
    "[1] J.R. Barber, Elasticity, 2002, 2nd ed."
   ]
  },
  {
   "cell_type": "markdown",
   "metadata": {},
   "source": [
    "The domain defined as\n",
    "$$\n",
    "    \\Omega = \\{ x \\in \\mathbb{R^3} : 0 < a < |x| < A\\}\n",
    "$$\n",
    "Let\n",
    "$$\n",
    "    \\Gamma^r = \\{ x \\in \\mathbb{R^3} : |x| = r\\},\n",
    "$$\n",
    "then $\\partial\\Omega = \\Gamma^a \\cup \\Gamma^A$."
   ]
  },
  {
   "cell_type": "markdown",
   "metadata": {},
   "source": [
    "Spherical coordinates are given by\n",
    "\n",
    "$$\n",
    "\\begin{aligned}\n",
    "    x &= R \\cos(\\theta) \\sin(\\beta), \\\\\n",
    "    y &= R \\sin(\\theta) \\sin(\\beta), \\\\\n",
    "    z &= R \\cos(\\beta),\n",
    "\\end{aligned}\n",
    "$$\n",
    "where $\\theta \\in [0,2\\pi)$ and $\\beta\\in[0,\\pi)$."
   ]
  },
  {
   "cell_type": "markdown",
   "metadata": {},
   "source": [
    "Sought is the solution to the problem\n",
    "$$\n",
    "\\begin{aligned}\n",
    "    \\sigma_{RR} = 0, & \\quad x \\in \\Gamma^a, \\\\\n",
    "    \\sigma_{R\\theta} = 0, & \\quad x \\in \\Gamma^a, \\\\\n",
    "    \\sigma_{R\\beta} = 0, & \\quad x \\in \\Gamma^a, \\\\\n",
    "    u_r = g_r, & \\quad x \\in \\Gamma^A, \\\\\n",
    "    u_\\theta = g_\\theta, & \\quad x \\in \\Gamma^A, \\\\\n",
    "    u_\\beta = g_\\beta, & \\quad x \\in \\Gamma^A,\n",
    "\\end{aligned}\n",
    "$$\n",
    "such that the equations of elasticity are satisfied."
   ]
  },
  {
   "cell_type": "markdown",
   "metadata": {},
   "source": [
    "Define necessary symbols"
   ]
  },
  {
   "cell_type": "code",
   "execution_count": 1,
   "metadata": {},
   "outputs": [],
   "source": [
    "from sympy import *\n",
    "from util import lua_code, lua_code_cse\n",
    "init_printing()"
   ]
  },
  {
   "cell_type": "code",
   "execution_count": 2,
   "metadata": {
    "scrolled": true
   },
   "outputs": [],
   "source": [
    "R, t, b = symbols('R theta beta')\n",
    "a, S, mu, nu = symbols('a S mu0 nu')"
   ]
  },
  {
   "cell_type": "markdown",
   "metadata": {},
   "source": [
    "Solution ansatz [1]:"
   ]
  },
  {
   "cell_type": "code",
   "execution_count": 3,
   "metadata": {},
   "outputs": [
    {
     "data": {
      "image/png": "[encoded data removed]",
      "text/latex": [
       "$\\displaystyle \\left( A_{1} R^{2} \\left(\\frac{3 \\cos{\\left(2 \\beta \\right)}}{4} + \\frac{1}{4}\\right) + \\frac{A_{2} \\left(\\frac{3 \\cos{\\left(2 \\beta \\right)}}{4} + \\frac{1}{4}\\right)}{R^{3}} + \\frac{A_{3}}{R}, \\  B_{1} R \\cos{\\left(\\beta \\right)} + \\frac{B_{2} \\cos{\\left(\\beta \\right)}}{R^{2}}\\right)$"
      ],
      "text/plain": [
       "⎛                            ⎛3⋅cos(2⋅β)   1⎞                              ⎞\n",
       "⎜                         A₂⋅⎜────────── + ─⎟                              ⎟\n",
       "⎜    2 ⎛3⋅cos(2⋅β)   1⎞      ⎝    4        4⎠   A₃                B₂⋅cos(β)⎟\n",
       "⎜A₁⋅R ⋅⎜────────── + ─⎟ + ─────────────────── + ──, B₁⋅R⋅cos(β) + ─────────⎟\n",
       "⎜      ⎝    4        4⎠             3           R                      2   ⎟\n",
       "⎝                                  R                                  R    ⎠"
      ]
     },
     "execution_count": 3,
     "metadata": {},
     "output_type": "execute_result"
    }
   ],
   "source": [
    "A1, A2, A3, B1, B2 = symbols('A_1 A_2 A_3 B_1 B_2')\n",
    "P2 = (3*cos(2*b) + 1) / 4\n",
    "P1 = cos(b)\n",
    "P0 = 1\n",
    "phi = A1*R**2*P2 + A2*R**(-3)*P2 + A3*R**(-1)*P0\n",
    "w = B1*R*P1 + B2*R**(-2)*P1\n",
    "(phi, w)"
   ]
  },
  {
   "cell_type": "markdown",
   "metadata": {},
   "source": [
    "Compute stresses (Table 19.2, Solutions A and B [1]):"
   ]
  },
  {
   "cell_type": "code",
   "execution_count": 4,
   "metadata": {
    "scrolled": true
   },
   "outputs": [],
   "source": [
    "sRR = phi.diff(R,2) + R*cos(b)*w.diff(R, 2) - 2*(1-nu)*w.diff(R)*cos(b) + 2*nu/R * w.diff(b) * sin(b)\n",
    "sRb = phi.diff(R).diff(b) / R - phi.diff(b) / R**2 + (1-2*nu)*w.diff(R)*sin(b) + cos(b)*w.diff(b).diff(R) - 2*(1-nu)*cos(b)/R * w.diff(b)"
   ]
  },
  {
   "cell_type": "markdown",
   "metadata": {},
   "source": [
    "The solution is given by coefficients"
   ]
  },
  {
   "cell_type": "code",
   "execution_count": 5,
   "metadata": {},
   "outputs": [],
   "source": [
    "sol = [(A1, S*nu / (1+nu)),\n",
    "        (A2, S*a**5 / (7-5*nu)),\n",
    "        (A3, S*a**3 * (6-5*nu) / (2*(7-5*nu))),\n",
    "        (B1, -S / (2*(1+nu))),\n",
    "        (B2, -5*S*a**3 / (2*(7-5*nu)))]"
   ]
  },
  {
   "cell_type": "markdown",
   "metadata": {},
   "source": [
    "Check boundary condition on inner sphere."
   ]
  },
  {
   "cell_type": "code",
   "execution_count": 6,
   "metadata": {},
   "outputs": [
    {
     "data": {
      "image/png": "[encoded data removed]",
      "text/latex": [
       "$\\displaystyle \\left( 0, \\  0\\right)$"
      ],
      "text/plain": [
       "(0, 0)"
      ]
     },
     "execution_count": 6,
     "metadata": {},
     "output_type": "execute_result"
    }
   ],
   "source": [
    "(simplify(sRR.subs(sol).subs(R, a)),\n",
    " simplify(sRb.subs(sol).subs(R, a)))"
   ]
  },
  {
   "cell_type": "markdown",
   "metadata": {},
   "source": [
    "Compute displacements (Table 19.2, Solutions A and B [1]):"
   ]
  },
  {
   "cell_type": "code",
   "execution_count": 7,
   "metadata": {},
   "outputs": [],
   "source": [
    "uR = (phi.diff(R) + R*cos(b)*w.diff(R) - (3-4*nu)*w*cos(b))/(2*mu)\n",
    "ub = (phi.diff(b) / R + cos(b)*w.diff(b) + (3-4*nu)*w*sin(b))/(2*mu)"
   ]
  },
  {
   "cell_type": "code",
   "execution_count": 8,
   "metadata": {},
   "outputs": [
    {
     "data": {
      "image/png": "[encoded data removed]",
      "text/latex": [
       "$\\displaystyle \\frac{2 R S \\nu \\left(\\frac{3 \\cos{\\left(2 \\beta \\right)}}{4} + \\frac{1}{4}\\right)}{\\nu + 1} + R \\left(- \\frac{S \\cos{\\left(\\beta \\right)}}{2 \\nu + 2} + \\frac{10 S a^{3} \\cos{\\left(\\beta \\right)}}{R^{3} \\left(14 - 10 \\nu\\right)}\\right) \\cos{\\left(\\beta \\right)} - \\left(3 - 4 \\nu\\right) \\left(- \\frac{R S \\cos{\\left(\\beta \\right)}}{2 \\nu + 2} - \\frac{5 S a^{3} \\cos{\\left(\\beta \\right)}}{R^{2} \\left(14 - 10 \\nu\\right)}\\right) \\cos{\\left(\\beta \\right)} - \\frac{S a^{3} \\left(6 - 5 \\nu\\right)}{R^{2} \\left(14 - 10 \\nu\\right)} - \\frac{3 S a^{5} \\left(\\frac{3 \\cos{\\left(2 \\beta \\right)}}{4} + \\frac{1}{4}\\right)}{R^{4} \\left(7 - 5 \\nu\\right)}$"
      ],
      "text/plain": [
       "        ⎛3⋅cos(2⋅β)   1⎞                                                                               \n",
       "2⋅R⋅S⋅ν⋅⎜────────── + ─⎟     ⎛                   3       ⎞                    ⎛                    3   \n",
       "        ⎝    4        4⎠     ⎜  S⋅cos(β)   10⋅S⋅a ⋅cos(β)⎟                    ⎜  R⋅S⋅cos(β)   5⋅S⋅a ⋅co\n",
       "──────────────────────── + R⋅⎜- ──────── + ──────────────⎟⋅cos(β) - (3 - 4⋅ν)⋅⎜- ────────── - ─────────\n",
       "         ν + 1               ⎜  2⋅ν + 2     3            ⎟                    ⎜   2⋅ν + 2      2       \n",
       "                             ⎝             R ⋅(14 - 10⋅ν)⎠                    ⎝               R ⋅(14 - \n",
       "\n",
       "                                      5 ⎛3⋅cos(2⋅β)   1⎞\n",
       "     ⎞             3             3⋅S⋅a ⋅⎜────────── + ─⎟\n",
       "s(β) ⎟          S⋅a ⋅(6 - 5⋅ν)          ⎝    4        4⎠\n",
       "─────⎟⋅cos(β) - ────────────── - ───────────────────────\n",
       "     ⎟           2                      4               \n",
       "10⋅ν)⎠          R ⋅(14 - 10⋅ν)         R ⋅(7 - 5⋅ν)     "
      ]
     },
     "execution_count": 8,
     "metadata": {},
     "output_type": "execute_result"
    }
   ],
   "source": [
    "uR.subs(sol)*2*mu"
   ]
  },
  {
   "cell_type": "code",
   "execution_count": 9,
   "metadata": {},
   "outputs": [
    {
     "data": {
      "image/png": "[encoded data removed]",
      "text/latex": [
       "$\\displaystyle \\left(3 - 4 \\nu\\right) \\left(- \\frac{R S \\cos{\\left(\\beta \\right)}}{2 \\nu + 2} - \\frac{5 S a^{3} \\cos{\\left(\\beta \\right)}}{R^{2} \\left(14 - 10 \\nu\\right)}\\right) \\sin{\\left(\\beta \\right)} + \\left(\\frac{R S \\sin{\\left(\\beta \\right)}}{2 \\nu + 2} + \\frac{5 S a^{3} \\sin{\\left(\\beta \\right)}}{R^{2} \\left(14 - 10 \\nu\\right)}\\right) \\cos{\\left(\\beta \\right)} + \\frac{- \\frac{3 R^{2} S \\nu \\sin{\\left(2 \\beta \\right)}}{2 \\left(\\nu + 1\\right)} - \\frac{3 S a^{5} \\sin{\\left(2 \\beta \\right)}}{2 R^{3} \\left(7 - 5 \\nu\\right)}}{R}$"
      ],
      "text/plain": [
       "                                                                                               2       \n",
       "                                                                                            3⋅R ⋅S⋅ν⋅si\n",
       "                                                                                          - ───────────\n",
       "          ⎛                    3        ⎞          ⎛                  3        ⎞                2⋅(ν + \n",
       "          ⎜  R⋅S⋅cos(β)   5⋅S⋅a ⋅cos(β) ⎟          ⎜R⋅S⋅sin(β)   5⋅S⋅a ⋅sin(β) ⎟                       \n",
       "(3 - 4⋅ν)⋅⎜- ────────── - ──────────────⎟⋅sin(β) + ⎜────────── + ──────────────⎟⋅cos(β) + ─────────────\n",
       "          ⎜   2⋅ν + 2      2            ⎟          ⎜ 2⋅ν + 2      2            ⎟                       \n",
       "          ⎝               R ⋅(14 - 10⋅ν)⎠          ⎝             R ⋅(14 - 10⋅ν)⎠                       \n",
       "\n",
       "              5         \n",
       "n(2⋅β)   3⋅S⋅a ⋅sin(2⋅β)\n",
       "────── - ───────────────\n",
       "1)           3          \n",
       "          2⋅R ⋅(7 - 5⋅ν)\n",
       "────────────────────────\n",
       "     R                  \n",
       "                        "
      ]
     },
     "execution_count": 9,
     "metadata": {},
     "output_type": "execute_result"
    }
   ],
   "source": [
    "ub.subs(sol)*2*mu"
   ]
  },
  {
   "cell_type": "markdown",
   "metadata": {},
   "source": [
    "We set $g_r=u_r, g_\\theta = 0, g_\\beta = u_\\beta$ on the outer sphere boundary."
   ]
  },
  {
   "cell_type": "markdown",
   "metadata": {},
   "source": [
    "## Manual displacement simplification"
   ]
  },
  {
   "cell_type": "code",
   "execution_count": 10,
   "metadata": {
    "scrolled": false
   },
   "outputs": [
    {
     "data": {
      "image/png": "[encoded data removed]",
      "text/latex": [
       "$\\displaystyle S \\left(\\frac{R \\left(1 - \\nu\\right)}{2 \\nu + 2} + \\left(\\frac{R}{2} + \\frac{5 a^{3} \\left(4 \\nu - 5\\right)}{4 R^{2} \\left(5 \\nu - 7\\right)} + \\frac{9 a^{5}}{4 R^{4} \\left(5 \\nu - 7\\right)}\\right) \\cos{\\left(2 \\beta \\right)} + \\frac{a^{3} \\left(10 \\nu - 13\\right)}{4 R^{2} \\left(5 \\nu - 7\\right)} + \\frac{3 a^{5}}{4 R^{4} \\left(5 \\nu - 7\\right)}\\right)$"
      ],
      "text/plain": [
       "  ⎛            ⎛       3                     5     ⎞             3                       5     ⎞\n",
       "  ⎜R⋅(1 - ν)   ⎜R   5⋅a ⋅(4⋅ν - 5)        9⋅a      ⎟            a ⋅(10⋅ν - 13)        3⋅a      ⎟\n",
       "S⋅⎜───────── + ⎜─ + ────────────── + ──────────────⎟⋅cos(2⋅β) + ────────────── + ──────────────⎟\n",
       "  ⎜ 2⋅ν + 2    ⎜2      2                4          ⎟               2                4          ⎟\n",
       "  ⎝            ⎝    4⋅R ⋅(5⋅ν - 7)   4⋅R ⋅(5⋅ν - 7)⎠            4⋅R ⋅(5⋅ν - 7)   4⋅R ⋅(5⋅ν - 7)⎠"
      ]
     },
     "execution_count": 10,
     "metadata": {},
     "output_type": "execute_result"
    }
   ],
   "source": [
    "uR_manual = S/(2*mu)*((R*(1-nu))/(2*(1+nu)) + (a**3*(10*nu - 13))/(4*R**2*(5*nu-7)) \\\n",
    "            + (3*a**5)/(4*R**4*(5*nu-7)) \\\n",
    "            + cos(2*b)*(R/2 + (5*a**3*(4*nu-5))/(4*R**2*(5*nu-7)) + 9*a**5/(4*R**4*(5*nu-7))))\n",
    "uR_manual*2*mu"
   ]
  },
  {
   "cell_type": "code",
   "execution_count": 11,
   "metadata": {},
   "outputs": [
    {
     "data": {
      "image/png": "[encoded data removed]",
      "text/latex": [
       "$\\displaystyle - \\frac{R S \\left(1 + \\frac{5 R^{2} a^{3} \\left(1 - 2 \\nu\\right) + 3 a^{5}}{R^{5} \\left(7 - 5 \\nu\\right)}\\right) \\sin{\\left(2 \\beta \\right)}}{2}$"
      ],
      "text/plain": [
       "     ⎛       2  3                5⎞          \n",
       "     ⎜    5⋅R ⋅a ⋅(1 - 2⋅ν) + 3⋅a ⎟          \n",
       "-R⋅S⋅⎜1 + ────────────────────────⎟⋅sin(2⋅β) \n",
       "     ⎜           5                ⎟          \n",
       "     ⎝          R ⋅(7 - 5⋅ν)      ⎠          \n",
       "─────────────────────────────────────────────\n",
       "                      2                      "
      ]
     },
     "execution_count": 11,
     "metadata": {},
     "output_type": "execute_result"
    }
   ],
   "source": [
    "ub_manual = -R*S/(4*mu)*sin(2*b)*((5*R**2*a**3*(1 - 2*nu) + 3*a**5)/(R**5*(7-5*nu)) + 1)\n",
    "ub_manual*2*mu"
   ]
  },
  {
   "cell_type": "markdown",
   "metadata": {},
   "source": [
    "Check."
   ]
  },
  {
   "cell_type": "code",
   "execution_count": 12,
   "metadata": {
    "scrolled": true
   },
   "outputs": [
    {
     "data": {
      "image/png": "[encoded data removed]",
      "text/latex": [
       "$\\displaystyle \\left( 0, \\  0\\right)$"
      ],
      "text/plain": [
       "(0, 0)"
      ]
     },
     "execution_count": 12,
     "metadata": {},
     "output_type": "execute_result"
    }
   ],
   "source": [
    "(simplify(uR.subs(sol) - uR_manual), simplify(ub.subs(sol) - ub_manual))"
   ]
  },
  {
   "cell_type": "markdown",
   "metadata": {},
   "source": [
    "Generate Lua code:"
   ]
  },
  {
   "cell_type": "code",
   "execution_count": 13,
   "metadata": {},
   "outputs": [
    {
     "name": "stdout",
     "output_type": "stream",
     "text": [
      "local x0 = nu + 1\n",
      "local x1 = a^5\n",
      "local x2 = R^5\n",
      "local x3 = 5*nu - 7\n",
      "local x4 = x2*x3\n",
      "local x5 = 10*nu\n",
      "local x6 = R^2*a^3\n",
      "local x7 = 2*beta\n",
      "local x8 = S/(R^4*mu0*x3)\n",
      "local uR = (1.0/8.0)*x8*(x0*x6*(x5 - 13) + x0*(9*x1 + x2*(x5 - 14) + x6*(20*nu - 25))*math.cos(x7) + x1*(3*nu + 3) + 2*x4*(1 - nu))/x0\n",
      "local ub = -1.0/4.0*x8*(-3*x1 + x4 + x6*(x5 - 5))*math.sin(x7)\n"
     ]
    }
   ],
   "source": [
    "lua_code_cse([('uR', simplify(uR_manual)), ('ub', simplify(ub_manual))])"
   ]
  },
  {
   "cell_type": "markdown",
   "metadata": {},
   "source": [
    "Compute Jacobian"
   ]
  },
  {
   "cell_type": "code",
   "execution_count": 14,
   "metadata": {},
   "outputs": [
    {
     "name": "stdout",
     "output_type": "stream",
     "text": [
      "local x0 = nu + 1\n",
      "local x1 = a^5\n",
      "local x2 = R^5\n",
      "local x3 = 5*nu\n",
      "local x4 = x3 - 7\n",
      "local x5 = x2*x4\n",
      "local x6 = 10*nu\n",
      "local x7 = R^2*a^3\n",
      "local x8 = 2*beta\n",
      "local x9 = math.cos(x8)\n",
      "local x10 = 20*nu\n",
      "local x11 = x7*(x10 - 25)\n",
      "local x12 = S/(mu0*x4)\n",
      "local x13 = (1.0/4.0)*x12\n",
      "local x14 = x13/x2\n",
      "local x15 = R^(-4)\n",
      "local x16 = math.sin(x8)\n",
      "local uR_R = -x14*(x0*x7*(x6 - 13) + x0*x9*(18*x1 + x11 - x5) + x1*(6*nu + 6) + x5*(nu - 1))/x0\n",
      "local uR_b = -x13*x15*x16*(9*x1 + x11 + x2*(x6 - 14))\n",
      "local ub_R = x14*x16*(-12*x1 + x10*x7 - x2*x3 + 7*x2 - 10*x7)\n",
      "local ub_b = -1.0/2.0*x12*x15*x9*(-3*x1 + x5 + x7*(x6 - 5))\n"
     ]
    }
   ],
   "source": [
    "J = {}\n",
    "J['uR_R'] = simplify(uR_manual.diff(R))\n",
    "J['uR_b'] = simplify(uR_manual.diff(b))\n",
    "J['ub_R'] = simplify(ub_manual.diff(R))\n",
    "J['ub_b'] = simplify(ub_manual.diff(b))\n",
    "lua_code_cse(J.items())"
   ]
  },
  {
   "cell_type": "code",
   "execution_count": null,
   "metadata": {},
   "outputs": [],
   "source": []
  }
 ],
 "metadata": {
  "kernelspec": {
   "display_name": "Python 3 (ipykernel)",
   "language": "python",
   "name": "python3"
  },
  "language_info": {
   "codemirror_mode": {
    "name": "ipython",
    "version": 3
   },
   "file_extension": ".py",
   "mimetype": "text/x-python",
   "name": "python",
   "nbconvert_exporter": "python",
   "pygments_lexer": "ipython3",
   "version": "3.9.2"
  }
 },
 "nbformat": 4,
 "nbformat_minor": 4
}
