{
 "cells": [
  {
   "cell_type": "markdown",
   "metadata": {},
   "source": [
    "# Spherical hole problem\n",
    "\n",
    "The spherial hole problem is considered in 24.1.2 in\n",
    "\n",
    "[1] J.R. Barber, Elasticity, 2002, 2nd ed."
   ]
  },
  {
   "cell_type": "markdown",
   "metadata": {},
   "source": [
    "The domain defined as\n",
    "$$\n",
    "    \\Omega = \\{ x \\in \\mathbb{R^3} : 0 < a < |x| < A\\}\n",
    "$$\n",
    "Let\n",
    "$$\n",
    "    \\Gamma^r = \\{ x \\in \\mathbb{R^3} : |x| = r\\},\n",
    "$$\n",
    "then $\\partial\\Omega = \\Gamma^a \\cup \\Gamma^A$."
   ]
  },
  {
   "cell_type": "markdown",
   "metadata": {},
   "source": [
    "Spherical coordinates are given by\n",
    "\n",
    "$$\n",
    "\\begin{aligned}\n",
    "    x &= R \\cos(\\theta) \\sin(\\beta), \\\\\n",
    "    y &= R \\sin(\\theta) \\sin(\\beta), \\\\\n",
    "    z &= R \\cos(\\beta),\n",
    "\\end{aligned}\n",
    "$$\n",
    "where $\\theta \\in [0,2\\pi)$ and $\\beta\\in[0,\\pi)$."
   ]
  },
  {
   "cell_type": "markdown",
   "metadata": {},
   "source": [
    "Sought is the solution to the problem\n",
    "$$\n",
    "\\begin{aligned}\n",
    "    \\sigma_{RR} = 0, & \\quad x \\in \\Gamma^a, \\\\\n",
    "    \\sigma_{R\\theta} = 0, & \\quad x \\in \\Gamma^a, \\\\\n",
    "    \\sigma_{R\\beta} = 0, & \\quad x \\in \\Gamma^a, \\\\\n",
    "    u_r = g_r, & \\quad x \\in \\Gamma^A, \\\\\n",
    "    u_\\theta = g_\\theta, & \\quad x \\in \\Gamma^A, \\\\\n",
    "    u_\\beta = g_\\beta, & \\quad x \\in \\Gamma^A,\n",
    "\\end{aligned}\n",
    "$$\n",
    "such that the equations of elasticity are satisfied."
   ]
  },
  {
   "cell_type": "markdown",
   "metadata": {},
   "source": [
    "Define necessary symbols"
   ]
  },
  {
   "cell_type": "code",
   "execution_count": 1,
   "metadata": {},
   "outputs": [],
   "source": [
    "from sympy import *\n",
    "from util import lua_code, lua_code_cse\n",
    "init_printing()"
   ]
  },
  {
   "cell_type": "code",
   "execution_count": 2,
   "metadata": {
    "scrolled": true
   },
   "outputs": [],
   "source": [
    "R, t, b = symbols('R theta beta')\n",
    "a, S, mu, nu = symbols('a S mu0 nu')"
   ]
  },
  {
   "cell_type": "markdown",
   "metadata": {},
   "source": [
    "Solution ansatz [1]:"
   ]
  },
  {
   "cell_type": "code",
   "execution_count": 3,
   "metadata": {},
   "outputs": [
    {
     "data": {
      "image/png": "[encoded data removed]",
      "text/latex": [
       "$\\displaystyle \\left( A_{1} R^{2} \\left(\\frac{3 \\cos{\\left(2 \\beta \\right)}}{4} + \\frac{1}{4}\\right) + \\frac{A_{2} \\left(\\frac{3 \\cos{\\left(2 \\beta \\right)}}{4} + \\frac{1}{4}\\right)}{R^{3}} + \\frac{A_{3}}{R}, \\  B_{1} R \\cos{\\left(\\beta \\right)} + \\frac{B_{2} \\cos{\\left(\\beta \\right)}}{R^{2}}\\right)$"
      ],
      "text/plain": [
       "⎛                            ⎛3⋅cos(2⋅β)   1⎞                              ⎞\n",
       "⎜                         A₂⋅⎜────────── + ─⎟                              ⎟\n",
       "⎜    2 ⎛3⋅cos(2⋅β)   1⎞      ⎝    4        4⎠   A₃                B₂⋅cos(β)⎟\n",
       "⎜A₁⋅R ⋅⎜────────── + ─⎟ + ─────────────────── + ──, B₁⋅R⋅cos(β) + ─────────⎟\n",
       "⎜      ⎝    4        4⎠             3           R                      2   ⎟\n",
       "⎝                                  R                                  R    ⎠"
      ]
     },
     "execution_count": 3,
     "metadata": {},
     "output_type": "execute_result"
    }
   ],
   "source": [
    "A1, A2, A3, B1, B2 = symbols('A_1 A_2 A_3 B_1 B_2')\n",
    "P2 = (3*cos(2*b) + 1) / 4\n",
    "P1 = cos(b)\n",
    "P0 = 1\n",
    "phi = A1*R**2*P2 + A2*R**(-3)*P2 + A3*R**(-1)*P0\n",
    "w = B1*R*P1 + B2*R**(-2)*P1\n",
    "(phi, w)"
   ]
  },
  {
   "cell_type": "markdown",
   "metadata": {},
   "source": [
    "Compute stresses (Table 19.2, Solutions A and B [1]):"
   ]
  },
  {
   "cell_type": "code",
   "execution_count": 4,
   "metadata": {
    "scrolled": true
   },
   "outputs": [],
   "source": [
    "sRR = phi.diff(R,2) + R*cos(b)*w.diff(R, 2) - 2*(1-nu)*w.diff(R)*cos(b) + 2*nu/R * w.diff(b) * sin(b)\n",
    "sRb = phi.diff(R).diff(b) / R - phi.diff(b) / R**2 + (1-2*nu)*w.diff(R)*sin(b) + cos(b)*w.diff(b).diff(R) - 2*(1-nu)*cos(b)/R * w.diff(b)"
   ]
  },
  {
   "cell_type": "markdown",
   "metadata": {},
   "source": [
    "The solution is given by coefficients"
   ]
  },
  {
   "cell_type": "code",
   "execution_count": 5,
   "metadata": {},
   "outputs": [],
   "source": [
    "sol = [(A1, S*nu / (1+nu)),\n",
    "        (A2, S*a**5 / (7-5*nu)),\n",
    "        (A3, S*a**3 * (6-5*nu) / (2*(7-5*nu))),\n",
    "        (B1, -S / (2*(1+nu))),\n",
    "        (B2, -5*S*a**3 / (2*(7-5*nu)))]"
   ]
  },
  {
   "cell_type": "markdown",
   "metadata": {},
   "source": [
    "Check boundary condition on inner sphere."
   ]
  },
  {
   "cell_type": "code",
   "execution_count": 6,
   "metadata": {},
   "outputs": [
    {
     "data": {
      "image/png": "[encoded data removed]",
      "text/latex": [
       "$\\displaystyle \\left( 0, \\  0\\right)$"
      ],
      "text/plain": [
       "(0, 0)"
      ]
     },
     "execution_count": 6,
     "metadata": {},
     "output_type": "execute_result"
    }
   ],
   "source": [
    "(simplify(sRR.subs(sol).subs(R, a)),\n",
    " simplify(sRb.subs(sol).subs(R, a)))"
   ]
  },
  {
   "cell_type": "markdown",
   "metadata": {},
   "source": [
    "Compute displacements (Table 19.2, Solutions A and B [1]):"
   ]
  },
  {
   "cell_type": "code",
   "execution_count": 7,
   "metadata": {},
   "outputs": [],
   "source": [
    "uR = (phi.diff(R) + R*cos(b)*w.diff(R) - (3-4*nu)*w*cos(b))/(2*mu)\n",
    "ub = (phi.diff(b) / R + cos(b)*w.diff(b) + (3-4*nu)*w*sin(b))/(2*mu)"
   ]
  },
  {
   "cell_type": "markdown",
   "metadata": {},
   "source": [
    "We set $g_r=u_r, g_\\theta = 0, g_\\beta = u_\\beta$ on the outer sphere boundary."
   ]
  },
  {
   "cell_type": "markdown",
   "metadata": {},
   "source": [
    "Generate Lua code:"
   ]
  },
  {
   "cell_type": "code",
   "execution_count": 8,
   "metadata": {},
   "outputs": [
    {
     "name": "stdout",
     "output_type": "stream",
     "text": [
      "local x0 = 5*nu\n",
      "local x1 = x0 - 7\n",
      "local x2 = x1^3\n",
      "local x3 = 2*beta\n",
      "local x4 = 3*math.cos(x3) + 1\n",
      "local x5 = R^5\n",
      "local x6 = 2*nu*x5\n",
      "local x7 = nu + 1\n",
      "local x8 = x1^2\n",
      "local x9 = 3*a^5\n",
      "local x10 = a^3\n",
      "local x11 = x10*x7\n",
      "local x12 = R^2\n",
      "local x13 = 2*x12*x8\n",
      "local x14 = R^3*x1\n",
      "local x15 = S/(R^4*mu0*x7)\n",
      "local x16 = x10*x12\n",
      "local x17 = nu^2\n",
      "local uR = (1.0/8.0)*x15*(-x11*x13*(x0 - 6) - x13*(10*x11 + x14 - (4*nu - 3)*(5*x11 - x14))*math.cos(beta)^2 + x2*x4*x6 + x4*x7*x8*x9)/x2\n",
      "local ub = (1.0/4.0)*x15*(nu*x9 - x0*x16 - 10*x16*x17 + 5*x16 - 5*x17*x5 + 7*x5 + x6 + x9)*math.sin(x3)/x1\n"
     ]
    }
   ],
   "source": [
    "lua_code_cse([('uR', simplify(uR.subs(sol))), ('ub', simplify(ub.subs(sol)))])"
   ]
  },
  {
   "cell_type": "markdown",
   "metadata": {},
   "source": [
    "Compute Jacobian"
   ]
  },
  {
   "cell_type": "code",
   "execution_count": 9,
   "metadata": {},
   "outputs": [
    {
     "name": "stdout",
     "output_type": "stream",
     "text": [
      "local x0 = a^5\n",
      "local x1 = nu + 1\n",
      "local x2 = 2*beta\n",
      "local x3 = math.cos(x2)\n",
      "local x4 = 3*x3 + 1\n",
      "local x5 = 5*nu\n",
      "local x6 = x5 - 7\n",
      "local x7 = R^5\n",
      "local x8 = nu*x7\n",
      "local x9 = math.cos(beta)^2\n",
      "local x10 = a^3\n",
      "local x11 = R^2\n",
      "local x12 = x10*x11\n",
      "local x13 = 2*nu\n",
      "local x14 = 10*x10\n",
      "local x15 = S/(mu0*x6)\n",
      "local x16 = (1.0/4.0)*x15\n",
      "local x17 = x16/(x1*x7)\n",
      "local x18 = R^(-4)\n",
      "local x19 = 20*x12\n",
      "local x20 = math.sin(x2)\n",
      "local x21 = 7*x7\n",
      "local x22 = 12*x0\n",
      "local x23 = x11*x14\n",
      "local x24 = nu^2\n",
      "local x25 = nu*x23\n",
      "local uR_R = x17*(-6*x0*x1*x4 + 2*x1*x12*(x5 + 15*x9 - 6) + 2*x11*x9*(1 - x13)*(R^3*x6 + x1*x14) + x4*x6*x8)\n",
      "local uR_b = x16*x18*x20*(-nu*x19 - 9*x0 + 25*x12 + 14*x7 - 10*x8)\n",
      "local ub_R = x17*x20*(-nu*x22 + x13*x7 + x19*x24 + x21 - x22 - x23 - 5*x24*x7 + x25)\n",
      "local ub_b = (1.0/2.0)*x15*x18*x3*(3*x0 + 5*x12 + x21 - x25 - x5*x7)\n"
     ]
    }
   ],
   "source": [
    "J = {}\n",
    "J['uR_R'] = simplify(uR.diff(R).subs(sol))\n",
    "J['uR_b'] = simplify(uR.diff(b).subs(sol))\n",
    "J['ub_R'] = simplify(ub.diff(R).subs(sol))\n",
    "J['ub_b'] = simplify(ub.diff(b).subs(sol))\n",
    "lua_code_cse(J.items())"
   ]
  }
 ],
 "metadata": {
  "kernelspec": {
   "display_name": "Python 3 (ipykernel)",
   "language": "python",
   "name": "python3"
  },
  "language_info": {
   "codemirror_mode": {
    "name": "ipython",
    "version": 3
   },
   "file_extension": ".py",
   "mimetype": "text/x-python",
   "name": "python",
   "nbconvert_exporter": "python",
   "pygments_lexer": "ipython3",
   "version": "3.9.2"
  }
 },
 "nbformat": 4,
 "nbformat_minor": 4
}
