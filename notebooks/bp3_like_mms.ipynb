{
 "cells": [
  {
   "cell_type": "markdown",
   "metadata": {},
   "source": [
    "# Manufactured solution for BP3-like problem\n",
    "\n",
    "\n",
    "The manufactured solution is going to exactly solve the following problem:\n",
    "\n",
    "$$\n",
    "\\begin{aligned}\n",
    "    -\\frac{\\partial\\sigma_{ij}(\\boldsymbol{u})}{\\partial x_i} &= 0 & \\text{ in } & \\Omega \\\\\n",
    "    \\sigma_{ij} &= c_{ijkl} \\frac{\\partial u_k}{\\partial x_l} & \\text{ in } & \\Omega \\\\\n",
    "    u_i &= u_i^* & \\text{ on } & \\Gamma_D \\\\\n",
    "    u_1^- - u_1^+ &= 0 & \\text{ on } & \\Gamma_F \\\\\n",
    "    u_2^- - u_2^+ &= -S & \\text{ on } & \\Gamma_F \\\\\n",
    "    -(\\tau^0 + \\tau) &= (\\sigma_n^0-\\sigma_n)f(V,\\psi) + \\eta V & \\text{ on } & \\Gamma_F \\\\\n",
    "    \\frac{d\\psi}{dt} &= g(V,\\psi) + s(\\vec x, t) & \\text{ on } & \\Gamma_F \\\\ \n",
    "    \\frac{dS}{dt} &= V & \\text{ on } & \\Gamma_F\n",
    "\\end{aligned}\n",
    "$$\n",
    "where\n",
    "$$\n",
    "\\begin{aligned}\n",
    "    f(V, \\psi) &= a \\cdot \\mathrm{asinh}\\left(\\frac{V}{2V_0} \\exp\\left(\\frac{\\psi}{a}\\right)\\right) \\\\\n",
    "    g(V, \\psi) &= \\frac{b V_0}{L} \\left(\\exp\\left(\\frac{f_0-\\psi}{b}\\right) - \\frac{|V|}{V_0}\\right) \\\\\n",
    "    s(\\vec{x}, t) &= - g(V^*, \\psi^*) + \\frac{d\\psi^*}{dt} \\\\\n",
    "    \\tau &= -\\sigma_{12} \\\\\n",
    "    \\sigma_n &= \\sigma_{11}\n",
    "\\end{aligned}\n",
    "$$"
   ]
  },
  {
   "cell_type": "code",
   "execution_count": 1,
   "metadata": {},
   "outputs": [],
   "source": [
    "from sympy import *\n",
    "init_printing()"
   ]
  },
  {
   "cell_type": "markdown",
   "metadata": {},
   "source": [
    "We first define symbols and general functions, which are going to be specified later."
   ]
  },
  {
   "cell_type": "code",
   "execution_count": 2,
   "metadata": {},
   "outputs": [],
   "source": [
    "x, y, t = symbols('x y t')\n",
    "te, tw = symbols('t_e t_w')\n",
    "V0, Vp = symbols('V_0 V_p')\n",
    "a, sn, eta = symbols('a sigma_n eta')\n",
    "K = Function('K')(t)\n",
    "V_star = Function('V^*')(y, t)\n",
    "tau_star = Function('tau^*')(y, t)\n",
    "tau_pre = Function('tau^0')(y)\n",
    "sn_star = symbols('sigma_n^*')\n",
    "sn_pre = Function('sigma_n^0')(y)\n",
    "E, nu = symbols('E nu', real=True, positive=True)\n",
    "lamda = E*nu/((1-2*nu)*(1+nu))\n",
    "mu = E/(2*(1+nu))"
   ]
  },
  {
   "cell_type": "markdown",
   "metadata": {},
   "source": [
    "$\\psi^*$ is the state variable."
   ]
  },
  {
   "cell_type": "code",
   "execution_count": 3,
   "metadata": {},
   "outputs": [
    {
     "data": {
      "image/png": "[encoded data removed]",
      "text/latex": [
       "$\\displaystyle a \\log{\\left(\\frac{2 V_{0} \\sinh{\\left(\\frac{\\eta \\operatorname{V^{*}}{\\left(y,t \\right)} + \\tau^{*}{\\left(y,t \\right)} + \\tau^{0}{\\left(y \\right)}}{a \\left(\\sigma^{*}_{n} - \\sigma^{0}_{n}{\\left(y \\right)}\\right)} \\right)}}{\\operatorname{V^{*}}{\\left(y,t \\right)}} \\right)}$"
      ],
      "text/plain": [
       "     ⎛         ⎛η⋅V__*(y, t) + τ__*(y, t) + τ⁰(y)⎞⎞\n",
       "     ⎜2⋅V₀⋅sinh⎜─────────────────────────────────⎟⎟\n",
       "     ⎜         ⎝       a⋅(σ_n__* - σ⁰ₙ(y))       ⎠⎟\n",
       "a⋅log⎜────────────────────────────────────────────⎟\n",
       "     ⎝                 V__*(y, t)                 ⎠"
      ]
     },
     "execution_count": 3,
     "metadata": {},
     "output_type": "execute_result"
    }
   ],
   "source": [
    "psi_star = a * log((2*V0/V_star) * sinh((tau_star + tau_pre + eta*V_star)/(a*(sn_star - sn_pre))))\n",
    "psi_star"
   ]
  },
  {
   "cell_type": "markdown",
   "metadata": {},
   "source": [
    "We need the time derivative $\\frac{d\\psi^*}{dt}$"
   ]
  },
  {
   "cell_type": "code",
   "execution_count": 4,
   "metadata": {
    "scrolled": true
   },
   "outputs": [
    {
     "data": {
      "image/png": "[encoded data removed]",
      "text/latex": [
       "$\\displaystyle \\frac{- a \\sigma^{*}_{n} \\frac{\\partial}{\\partial t} \\operatorname{V^{*}}{\\left(y,t \\right)} + a \\sigma^{0}_{n}{\\left(y \\right)} \\frac{\\partial}{\\partial t} \\operatorname{V^{*}}{\\left(y,t \\right)} + \\frac{\\eta \\operatorname{V^{*}}{\\left(y,t \\right)} \\frac{\\partial}{\\partial t} \\operatorname{V^{*}}{\\left(y,t \\right)}}{\\tanh{\\left(\\frac{\\eta \\operatorname{V^{*}}{\\left(y,t \\right)} + \\tau^{*}{\\left(y,t \\right)} + \\tau^{0}{\\left(y \\right)}}{a \\left(\\sigma^{*}_{n} - \\sigma^{0}_{n}{\\left(y \\right)}\\right)} \\right)}} + \\frac{\\operatorname{V^{*}}{\\left(y,t \\right)} \\frac{\\partial}{\\partial t} \\tau^{*}{\\left(y,t \\right)}}{\\tanh{\\left(\\frac{\\eta \\operatorname{V^{*}}{\\left(y,t \\right)} + \\tau^{*}{\\left(y,t \\right)} + \\tau^{0}{\\left(y \\right)}}{a \\left(\\sigma^{*}_{n} - \\sigma^{0}_{n}{\\left(y \\right)}\\right)} \\right)}}}{\\left(\\sigma^{*}_{n} - \\sigma^{0}_{n}{\\left(y \\right)}\\right) \\operatorname{V^{*}}{\\left(y,t \\right)}}$"
      ],
      "text/plain": [
       "                                                                         ∂    \n",
       "                                                            η⋅V__*(y, t)⋅──(V_\n",
       "           ∂                         ∂                                   ∂t   \n",
       "- a⋅σ_n__*⋅──(V__*(y, t)) + a⋅σ⁰ₙ(y)⋅──(V__*(y, t)) + ────────────────────────\n",
       "           ∂t                        ∂t                   ⎛η⋅V__*(y, t) + τ__*\n",
       "                                                      tanh⎜───────────────────\n",
       "                                                          ⎝       a⋅(σ_n__* - \n",
       "──────────────────────────────────────────────────────────────────────────────\n",
       "                                                      (σ_n__* - σ⁰ₙ(y))⋅V__*(y\n",
       "\n",
       "                                    ∂                    \n",
       "_*(y, t))                V__*(y, t)⋅──(τ__*(y, t))       \n",
       "                                    ∂t                   \n",
       "─────────────── + ───────────────────────────────────────\n",
       "(y, t) + τ⁰(y)⎞       ⎛η⋅V__*(y, t) + τ__*(y, t) + τ⁰(y)⎞\n",
       "──────────────⎟   tanh⎜─────────────────────────────────⎟\n",
       "σ⁰ₙ(y))       ⎠       ⎝       a⋅(σ_n__* - σ⁰ₙ(y))       ⎠\n",
       "─────────────────────────────────────────────────────────\n",
       ", t)                                                     "
      ]
     },
     "execution_count": 4,
     "metadata": {},
     "output_type": "execute_result"
    }
   ],
   "source": [
    "psi_star.diff(t).simplify()"
   ]
  },
  {
   "cell_type": "markdown",
   "metadata": {},
   "source": [
    "$u_i^*$ is solution for the displacement."
   ]
  },
  {
   "cell_type": "code",
   "execution_count": 5,
   "metadata": {},
   "outputs": [
    {
     "data": {
      "image/png": "[encoded data removed]",
      "text/latex": [
       "$\\displaystyle x K{\\left(t \\right)} e^{- k x} \\cos{\\left(k y \\right)}$"
      ],
      "text/plain": [
       "        -k⋅x         \n",
       "x⋅K(t)⋅ℯ    ⋅cos(k⋅y)"
      ]
     },
     "execution_count": 5,
     "metadata": {},
     "output_type": "execute_result"
    }
   ],
   "source": [
    "k = symbols('k', real=True, positive=True)\n",
    "f = K*x*exp(-k*x)\n",
    "phi = cos(k*y)*f\n",
    "phi"
   ]
  },
  {
   "cell_type": "code",
   "execution_count": 6,
   "metadata": {},
   "outputs": [
    {
     "data": {
      "image/png": "[encoded data removed]",
      "text/latex": [
       "$\\displaystyle \\frac{\\left(k \\nu x + k x - 2 \\nu^{2} - \\nu + 1\\right) K{\\left(t \\right)} e^{- k x} \\cos{\\left(k y \\right)}}{E}$"
      ],
      "text/plain": [
       "⎛                 2        ⎞       -k⋅x         \n",
       "⎝k⋅ν⋅x + k⋅x - 2⋅ν  - ν + 1⎠⋅K(t)⋅ℯ    ⋅cos(k⋅y)\n",
       "────────────────────────────────────────────────\n",
       "                       E                        "
      ]
     },
     "execution_count": 6,
     "metadata": {},
     "output_type": "execute_result"
    }
   ],
   "source": [
    "sxx = phi.diff(y, 2)\n",
    "syy = phi.diff(x, 2)\n",
    "sxy = -phi.diff(x).diff(y)\n",
    "exx = (sxx - nu/(1-nu)*syy)*(1-nu**2)/E\n",
    "eyy = (syy - nu/(1-nu)*sxx)*(1-nu**2)/E\n",
    "exy = sxy*(1+nu)/E\n",
    "ux_star = integrate(exx, x)\n",
    "uy_star = integrate(eyy, y)\n",
    "ux_star.simplify()"
   ]
  },
  {
   "cell_type": "code",
   "execution_count": 7,
   "metadata": {},
   "outputs": [
    {
     "data": {
      "image/png": "[encoded data removed]",
      "text/latex": [
       "$\\displaystyle \\frac{\\left(k \\nu x + k x + 2 \\nu^{2} - 2\\right) K{\\left(t \\right)} e^{- k x} \\sin{\\left(k y \\right)}}{E}$"
      ],
      "text/plain": [
       "⎛                 2    ⎞       -k⋅x         \n",
       "⎝k⋅ν⋅x + k⋅x + 2⋅ν  - 2⎠⋅K(t)⋅ℯ    ⋅sin(k⋅y)\n",
       "────────────────────────────────────────────\n",
       "                     E                      "
      ]
     },
     "execution_count": 7,
     "metadata": {},
     "output_type": "execute_result"
    }
   ],
   "source": [
    "uy_star.simplify()"
   ]
  },
  {
   "cell_type": "code",
   "execution_count": 8,
   "metadata": {},
   "outputs": [
    {
     "data": {
      "image/png": "[encoded data removed]",
      "text/latex": [
       "$\\displaystyle 0$"
      ],
      "text/plain": [
       "0"
      ]
     },
     "execution_count": 8,
     "metadata": {},
     "output_type": "execute_result"
    }
   ],
   "source": [
    "simplify(ux_star.diff(y) + uy_star.diff(x) - 2*exy)"
   ]
  },
  {
   "cell_type": "markdown",
   "metadata": {},
   "source": [
    "Let's introduce slip:"
   ]
  },
  {
   "cell_type": "code",
   "execution_count": 9,
   "metadata": {},
   "outputs": [],
   "source": [
    "uxm_star = ux_star.subs(k, -k)\n",
    "uym_star = uy_star.subs(k, -k)\n",
    "uxp_star = ux_star\n",
    "uyp_star = uy_star"
   ]
  },
  {
   "cell_type": "markdown",
   "metadata": {},
   "source": [
    "$S^*$ is the on-fault displacement."
   ]
  },
  {
   "cell_type": "code",
   "execution_count": 10,
   "metadata": {},
   "outputs": [
    {
     "data": {
      "image/png": "[encoded data removed]",
      "text/latex": [
       "$\\displaystyle - \\frac{4 \\left(1 - \\nu^{2}\\right) K{\\left(t \\right)} \\sin{\\left(k y \\right)}}{E}$"
      ],
      "text/plain": [
       "   ⎛     2⎞               \n",
       "-4⋅⎝1 - ν ⎠⋅K(t)⋅sin(k⋅y) \n",
       "──────────────────────────\n",
       "            E             "
      ]
     },
     "execution_count": 10,
     "metadata": {},
     "output_type": "execute_result"
    }
   ],
   "source": [
    "S_star_fun = -(uym_star - uyp_star).subs(x, 0).simplify()\n",
    "S_star_fun"
   ]
  },
  {
   "cell_type": "markdown",
   "metadata": {},
   "source": [
    "$\\tau^*$ is the on fault shear traction."
   ]
  },
  {
   "cell_type": "code",
   "execution_count": 11,
   "metadata": {
    "scrolled": true
   },
   "outputs": [
    {
     "data": {
      "image/png": "[encoded data removed]",
      "text/latex": [
       "$\\displaystyle - k K{\\left(t \\right)} \\sin{\\left(k y \\right)}$"
      ],
      "text/plain": [
       "-k⋅K(t)⋅sin(k⋅y)"
      ]
     },
     "execution_count": 11,
     "metadata": {},
     "output_type": "execute_result"
    }
   ],
   "source": [
    "s21 = mu * (uxm_star.diff(y) + uym_star.diff(x))\n",
    "tau_star_fun = -s21.subs(x, 0).simplify()\n",
    "tau_star_fun"
   ]
  },
  {
   "cell_type": "markdown",
   "metadata": {},
   "source": [
    "Check continuity:"
   ]
  },
  {
   "cell_type": "code",
   "execution_count": 12,
   "metadata": {},
   "outputs": [
    {
     "data": {
      "image/png": "[encoded data removed]",
      "text/latex": [
       "$\\displaystyle - k K{\\left(t \\right)} \\sin{\\left(k y \\right)}$"
      ],
      "text/plain": [
       "-k⋅K(t)⋅sin(k⋅y)"
      ]
     },
     "execution_count": 12,
     "metadata": {},
     "output_type": "execute_result"
    }
   ],
   "source": [
    "s21 = mu * (uxp_star.diff(y) + uyp_star.diff(x))\n",
    "tau_star_fun = -s21.subs(x, 0).simplify()\n",
    "tau_star_fun"
   ]
  },
  {
   "cell_type": "markdown",
   "metadata": {},
   "source": [
    "$\\sigma_n^*$ is the on fault normal stress."
   ]
  },
  {
   "cell_type": "code",
   "execution_count": 13,
   "metadata": {},
   "outputs": [
    {
     "data": {
      "image/png": "[encoded data removed]",
      "text/latex": [
       "$\\displaystyle 0$"
      ],
      "text/plain": [
       "0"
      ]
     },
     "execution_count": 13,
     "metadata": {},
     "output_type": "execute_result"
    }
   ],
   "source": [
    "s11 = (lamda + 2*mu) * uxm_star.diff(x) + lamda * uym_star.diff(y)\n",
    "sn_star_fun = s11.subs(x, 0).simplify()\n",
    "sn_star_fun"
   ]
  },
  {
   "cell_type": "markdown",
   "metadata": {},
   "source": [
    "Check continuity:"
   ]
  },
  {
   "cell_type": "code",
   "execution_count": 14,
   "metadata": {},
   "outputs": [
    {
     "data": {
      "image/png": "[encoded data removed]",
      "text/latex": [
       "$\\displaystyle 0$"
      ],
      "text/plain": [
       "0"
      ]
     },
     "execution_count": 14,
     "metadata": {},
     "output_type": "execute_result"
    }
   ],
   "source": [
    "s11 = (lamda + 2*mu) * uxp_star.diff(x) + lamda * uyp_star.diff(y)\n",
    "sn_star_fun = s11.subs(x, 0).simplify()\n",
    "sn_star_fun"
   ]
  },
  {
   "cell_type": "markdown",
   "metadata": {},
   "source": [
    "Slip-rate $V^*$"
   ]
  },
  {
   "cell_type": "code",
   "execution_count": 15,
   "metadata": {},
   "outputs": [
    {
     "data": {
      "image/png": "[encoded data removed]",
      "text/latex": [
       "$\\displaystyle - \\frac{4 \\left(1 - \\nu^{2}\\right) \\sin{\\left(k y \\right)} \\frac{d}{d t} K{\\left(t \\right)}}{E}$"
      ],
      "text/plain": [
       "   ⎛     2⎞          d        \n",
       "-4⋅⎝1 - ν ⎠⋅sin(k⋅y)⋅──(K(t)) \n",
       "                     dt       \n",
       "──────────────────────────────\n",
       "              E               "
      ]
     },
     "execution_count": 15,
     "metadata": {},
     "output_type": "execute_result"
    }
   ],
   "source": [
    "V_star_fun = S_star_fun.diff(t)\n",
    "V_star_fun"
   ]
  },
  {
   "cell_type": "markdown",
   "metadata": {},
   "source": [
    "Acceleration $\\frac{dV^*}{dt}$"
   ]
  },
  {
   "cell_type": "code",
   "execution_count": 16,
   "metadata": {},
   "outputs": [
    {
     "data": {
      "image/png": "[encoded data removed]",
      "text/latex": [
       "$\\displaystyle - \\frac{4 \\left(1 - \\nu^{2}\\right) \\sin{\\left(k y \\right)} \\frac{d^{2}}{d t^{2}} K{\\left(t \\right)}}{E}$"
      ],
      "text/plain": [
       "                       2       \n",
       "   ⎛     2⎞           d        \n",
       "-4⋅⎝1 - ν ⎠⋅sin(k⋅y)⋅───(K(t)) \n",
       "                       2       \n",
       "                     dt        \n",
       "───────────────────────────────\n",
       "               E               "
      ]
     },
     "execution_count": 16,
     "metadata": {},
     "output_type": "execute_result"
    }
   ],
   "source": [
    "V_star_fun.diff(t)"
   ]
  },
  {
   "cell_type": "markdown",
   "metadata": {},
   "source": [
    "The following lines define the functions $K$ and necessary time derivatives."
   ]
  },
  {
   "cell_type": "code",
   "execution_count": 17,
   "metadata": {},
   "outputs": [
    {
     "data": {
      "image/png": "[encoded data removed]",
      "text/latex": [
       "$\\displaystyle \\frac{2.0 \\operatorname{atan}{\\left(\\frac{t - t_{e}}{t_{w}} \\right)} + 1.0 \\pi}{\\pi}$"
      ],
      "text/plain": [
       "        ⎛t - tₑ⎞        \n",
       "2.0⋅atan⎜──────⎟ + 1.0⋅π\n",
       "        ⎝ t_w  ⎠        \n",
       "────────────────────────\n",
       "           π            "
      ]
     },
     "execution_count": 17,
     "metadata": {},
     "output_type": "execute_result"
    }
   ],
   "source": [
    "K_fun = 2.0 * (atan((t-te)/tw) + pi/2) / pi\n",
    "K_fun"
   ]
  },
  {
   "cell_type": "code",
   "execution_count": 18,
   "metadata": {},
   "outputs": [
    {
     "data": {
      "image/png": "[encoded data removed]",
      "text/latex": [
       "$\\displaystyle \\frac{- 2.0 \\operatorname{atan}{\\left(\\frac{t_{e}}{t_{w}} \\right)} + 1.0 \\pi}{\\pi}$"
      ],
      "text/plain": [
       "          ⎛ tₑ⎞        \n",
       "- 2.0⋅atan⎜───⎟ + 1.0⋅π\n",
       "          ⎝t_w⎠        \n",
       "───────────────────────\n",
       "           π           "
      ]
     },
     "execution_count": 18,
     "metadata": {},
     "output_type": "execute_result"
    }
   ],
   "source": [
    "K_fun.subs(t, 0)"
   ]
  },
  {
   "cell_type": "code",
   "execution_count": 19,
   "metadata": {},
   "outputs": [
    {
     "data": {
      "image/png": "[encoded data removed]",
      "text/latex": [
       "$\\displaystyle 1.0$"
      ],
      "text/plain": [
       "1.00000000000000"
      ]
     },
     "execution_count": 19,
     "metadata": {},
     "output_type": "execute_result"
    }
   ],
   "source": [
    "K_fun.subs(t, te)"
   ]
  },
  {
   "cell_type": "code",
   "execution_count": 20,
   "metadata": {},
   "outputs": [
    {
     "data": {
      "image/png": "[encoded data removed]",
      "text/latex": [
       "$\\displaystyle \\frac{2.0}{\\pi t_{w} \\left(1 + \\frac{\\left(t - t_{e}\\right)^{2}}{t_{w}^{2}}\\right)}$"
      ],
      "text/plain": [
       "         2.0         \n",
       "─────────────────────\n",
       "      ⎛            2⎞\n",
       "      ⎜    (t - tₑ) ⎟\n",
       "π⋅t_w⋅⎜1 + ─────────⎟\n",
       "      ⎜          2  ⎟\n",
       "      ⎝       t_w   ⎠"
      ]
     },
     "execution_count": 20,
     "metadata": {},
     "output_type": "execute_result"
    }
   ],
   "source": [
    "K_fun.diff(t)"
   ]
  },
  {
   "cell_type": "code",
   "execution_count": 21,
   "metadata": {},
   "outputs": [
    {
     "data": {
      "image/png": "[encoded data removed]",
      "text/latex": [
       "$\\displaystyle - \\frac{4.0 t_{w} \\left(t - t_{e}\\right)}{\\pi \\left(t_{w}^{2} + \\left(t - t_{e}\\right)^{2}\\right)^{2}}$"
      ],
      "text/plain": [
       "  -4.0⋅t_w⋅(t - tₑ)  \n",
       "─────────────────────\n",
       "                    2\n",
       "  ⎛   2           2⎞ \n",
       "π⋅⎝t_w  + (t - tₑ) ⎠ "
      ]
     },
     "execution_count": 21,
     "metadata": {},
     "output_type": "execute_result"
    }
   ],
   "source": [
    "K_fun.diff(t).diff(t).simplify()"
   ]
  },
  {
   "cell_type": "markdown",
   "metadata": {},
   "source": [
    "## Plot solution"
   ]
  },
  {
   "cell_type": "code",
   "execution_count": 22,
   "metadata": {},
   "outputs": [],
   "source": [
    "import matplotlib.pyplot as plt\n",
    "import numpy as np"
   ]
  },
  {
   "cell_type": "code",
   "execution_count": 23,
   "metadata": {},
   "outputs": [
    {
     "data": {
      "image/png": "[encoded data removed]",
      "text/latex": [
       "$\\displaystyle \\left\\{ E : 80.0953008, \\  V_{0} : 1.0 \\cdot 10^{-6}, \\  a : 0.015, \\  \\eta : 9.24888, \\  k : 3.14159265358979, \\  \\nu : 0.25, \\  t_{e} : 50, \\  t_{w} : 1, \\  \\sigma^{0}_{n}{\\left(y \\right)} : 25 \\left|{\\sin{\\left(3.14159265358979 y \\right)}}\\right|, \\  \\tau^{0}{\\left(y \\right)} : 20 \\sin{\\left(3.14159265358979 y \\right)}\\right\\}$"
      ],
      "text/plain": [
       "{E: 80.09530079999999, V₀: 1e-06, a: 0.015, η: 9.24888, k: 3.141592653589793, \n",
       "ν: 0.25, tₑ: 50, t_w: 1, σ⁰ₙ(y): 25⋅│sin(3.14159265358979⋅y)│, τ⁰(y): 20⋅sin(3\n",
       ".14159265358979⋅y)}"
      ]
     },
     "execution_count": 23,
     "metadata": {},
     "output_type": "execute_result"
    }
   ],
   "source": [
    "y1 = -0.2\n",
    "y2 = -0.5\n",
    "y3 = -0.8\n",
    "mu_val = 3.464**2 * 2.670\n",
    "v = dict()\n",
    "v[eta] = 3.464 * 2.670\n",
    "v[nu] = 0.25\n",
    "v[E] = 2*mu_val*(1+v[nu])\n",
    "v[te] = 50\n",
    "v[tw] = 1\n",
    "v[k] = float(pi.evalf())\n",
    "v[V0] = 1.0e-6\n",
    "v[a] = 0.015\n",
    "v[sn_pre] = 25 * abs(sin(v[k] * y))\n",
    "v[tau_pre] = 20 * sin(v[k] * y)\n",
    "v"
   ]
  },
  {
   "cell_type": "code",
   "execution_count": 24,
   "metadata": {},
   "outputs": [
    {
     "data": {
      "image/png": "[encoded data removed]",
      "text/latex": [
       "$\\displaystyle \\frac{2.0 \\operatorname{atan}{\\left(t - 50 \\right)} + 1.0 \\pi}{\\pi}$"
      ],
      "text/plain": [
       "2.0⋅atan(t - 50) + 1.0⋅π\n",
       "────────────────────────\n",
       "           π            "
      ]
     },
     "execution_count": 24,
     "metadata": {},
     "output_type": "execute_result"
    }
   ],
   "source": [
    "v[K] = K_fun.subs(v)\n",
    "v[K]"
   ]
  },
  {
   "cell_type": "code",
   "execution_count": 25,
   "metadata": {},
   "outputs": [
    {
     "data": {
      "image/png": "[encoded data removed]",
      "text/latex": [
       "$\\displaystyle - \\frac{0.046819226128682 \\left(2.0 \\operatorname{atan}{\\left(t - 50 \\right)} + 1.0 \\pi\\right) \\sin{\\left(3.14159265358979 y \\right)}}{\\pi}$"
      ],
      "text/plain": [
       "-0.046819226128682⋅(2.0⋅atan(t - 50) + 1.0⋅π)⋅sin(3.14159265358979⋅y) \n",
       "──────────────────────────────────────────────────────────────────────\n",
       "                                  π                                   "
      ]
     },
     "execution_count": 25,
     "metadata": {},
     "output_type": "execute_result"
    }
   ],
   "source": [
    "V_star_val = V_star_fun.subs(v).simplify()\n",
    "def V_star_eval():\n",
    "    def F(Y, T):\n",
    "        return float(V_star_val.subs(y, Y).subs(t, T).evalf())\n",
    "    return np.vectorize(F)\n",
    "V_star_val\n",
    "S_star_val = S_star_fun.subs(v).simplify()\n",
    "def S_star_eval():\n",
    "    def F(Y, T):\n",
    "        return float(S_star_val.subs(y, Y).subs(t, T).evalf())\n",
    "    return np.vectorize(F)\n",
    "S_star_val"
   ]
  },
  {
   "cell_type": "code",
   "execution_count": 26,
   "metadata": {},
   "outputs": [
    {
     "data": {
      "text/plain": [
       "[<matplotlib.lines.Line2D at 0x7f14c4fc5160>]"
      ]
     },
     "execution_count": 26,
     "metadata": {},
     "output_type": "execute_result"
    },
    {
     "data": {
      "image/png": "[encoded data removed]",
      "text/plain": [
       "<Figure size 432x288 with 1 Axes>"
      ]
     },
     "metadata": {
      "needs_background": "light"
     },
     "output_type": "display_data"
    }
   ],
   "source": [
    "T1 = np.linspace(0, 2*v[te], 400)\n",
    "plt.plot(T1, V_star_eval()(y1, T1))\n",
    "plt.plot(T1, V_star_eval()(y2, T1))"
   ]
  },
  {
   "cell_type": "code",
   "execution_count": 27,
   "metadata": {},
   "outputs": [
    {
     "data": {
      "text/plain": [
       "[<matplotlib.lines.Line2D at 0x7f14c4c7f4a8>]"
      ]
     },
     "execution_count": 27,
     "metadata": {},
     "output_type": "execute_result"
    },
    {
     "data": {
      "image/png": "[encoded data removed]",
      "text/plain": [
       "<Figure size 432x288 with 1 Axes>"
      ]
     },
     "metadata": {
      "needs_background": "light"
     },
     "output_type": "display_data"
    }
   ],
   "source": [
    "T2 = np.linspace(v[te] - 10*v[tw], v[te] + 10*v[tw], 400)\n",
    "plt.plot(T2, V_star_eval()(y1, T2))\n",
    "plt.plot(T2, V_star_eval()(y2, T2))"
   ]
  },
  {
   "cell_type": "code",
   "execution_count": 28,
   "metadata": {},
   "outputs": [
    {
     "data": {
      "image/png": "[encoded data removed]",
      "text/latex": [
       "$\\displaystyle - \\frac{3.14159265358979 \\left(2.0 \\operatorname{atan}{\\left(t - 50 \\right)} + 1.0 \\pi\\right) \\sin{\\left(3.14159265358979 y \\right)}}{\\pi}$"
      ],
      "text/plain": [
       "-3.14159265358979⋅(2.0⋅atan(t - 50) + 1.0⋅π)⋅sin(3.14159265358979⋅y) \n",
       "─────────────────────────────────────────────────────────────────────\n",
       "                                  π                                  "
      ]
     },
     "execution_count": 28,
     "metadata": {},
     "output_type": "execute_result"
    }
   ],
   "source": [
    "def tau_pre_eval():\n",
    "    def F(Y):\n",
    "        return float(v[tau_pre].subs(y, Y).evalf())\n",
    "    return np.vectorize(F)\n",
    "tau_star_val = tau_star_fun.subs(v).simplify()\n",
    "def tau_star_eval():\n",
    "    def F(Y, T):\n",
    "        return float(tau_star_val.subs(y, Y).subs(t, T).evalf())\n",
    "    return np.vectorize(F)\n",
    "tau_star_val"
   ]
  },
  {
   "cell_type": "code",
   "execution_count": 29,
   "metadata": {},
   "outputs": [
    {
     "data": {
      "image/png": "[encoded data removed]",
      "text/latex": [
       "$\\displaystyle 0$"
      ],
      "text/plain": [
       "0"
      ]
     },
     "execution_count": 29,
     "metadata": {},
     "output_type": "execute_result"
    }
   ],
   "source": [
    "sn_star_val = sn_star_fun.subs(v)\n",
    "def sn_star_eval():\n",
    "    def F(Y):\n",
    "        return float(sn_star_val.subs(y, Y).evalf())\n",
    "    return np.vectorize(F)\n",
    "sn_star_val"
   ]
  },
  {
   "cell_type": "code",
   "execution_count": 30,
   "metadata": {},
   "outputs": [
    {
     "data": {
      "text/plain": [
       "[<matplotlib.lines.Line2D at 0x7f14c49bd940>]"
      ]
     },
     "execution_count": 30,
     "metadata": {},
     "output_type": "execute_result"
    },
    {
     "data": {
      "image/png": "[encoded data removed]",
      "text/plain": [
       "<Figure size 432x288 with 1 Axes>"
      ]
     },
     "metadata": {
      "needs_background": "light"
     },
     "output_type": "display_data"
    }
   ],
   "source": [
    "plt.plot(T1, tau_pre_eval()(y1) + tau_star_eval()(y1, T1))\n",
    "plt.plot(T1, tau_pre_eval()(y2) + tau_star_eval()(y2, T1))"
   ]
  },
  {
   "cell_type": "code",
   "execution_count": 31,
   "metadata": {
    "scrolled": true
   },
   "outputs": [
    {
     "data": {
      "text/plain": [
       "[<matplotlib.lines.Line2D at 0x7f14c491a908>]"
      ]
     },
     "execution_count": 31,
     "metadata": {},
     "output_type": "execute_result"
    },
    {
     "data": {
      "image/png": "[encoded data removed]",
      "text/plain": [
       "<Figure size 432x288 with 1 Axes>"
      ]
     },
     "metadata": {
      "needs_background": "light"
     },
     "output_type": "display_data"
    }
   ],
   "source": [
    "plt.plot(T2, tau_pre_eval()(y1) + tau_star_eval()(y1, T2))\n",
    "plt.plot(T2, tau_pre_eval()(y2) + tau_star_eval()(y2, T2))"
   ]
  },
  {
   "cell_type": "code",
   "execution_count": 32,
   "metadata": {
    "scrolled": true
   },
   "outputs": [],
   "source": [
    "psi_star_val = psi_star.subs(v).subs(tau_star, tau_star_val).subs(sn_star, sn_star_val).subs(V_star, V_star_val)\n",
    "def psi_star_eval():\n",
    "    def F(Y, T):\n",
    "        return float(psi_star_val.subs(y, Y).subs(t, T).evalf())\n",
    "    return np.vectorize(F)\n",
    "def dpsidt_star_eval():\n",
    "    def F(Y, T):\n",
    "        return float(psi_star_val.diff(t).subs(y, Y).subs(t, T).evalf())\n",
    "    return np.vectorize(F)"
   ]
  },
  {
   "cell_type": "code",
   "execution_count": 33,
   "metadata": {},
   "outputs": [
    {
     "data": {
      "text/plain": [
       "[array(0.7612255), array(0.50877239), array(0.51309766)]"
      ]
     },
     "execution_count": 33,
     "metadata": {},
     "output_type": "execute_result"
    }
   ],
   "source": [
    "[psi_star_eval()(y2, 0), psi_star_eval()(y2, v[te]), psi_star_eval()(y2, 2*v[te])]"
   ]
  },
  {
   "cell_type": "code",
   "execution_count": 34,
   "metadata": {
    "scrolled": true
   },
   "outputs": [
    {
     "data": {
      "text/plain": [
       "[<matplotlib.lines.Line2D at 0x7f14c4858f98>]"
      ]
     },
     "execution_count": 34,
     "metadata": {},
     "output_type": "execute_result"
    },
    {
     "data": {
      "image/png": "[encoded data removed]",
      "text/plain": [
       "<Figure size 432x288 with 1 Axes>"
      ]
     },
     "metadata": {
      "needs_background": "light"
     },
     "output_type": "display_data"
    }
   ],
   "source": [
    "plt.plot(T1, psi_star_eval()(y1, T1))\n",
    "plt.plot(T1, psi_star_eval()(y2, T1))"
   ]
  },
  {
   "cell_type": "code",
   "execution_count": 35,
   "metadata": {},
   "outputs": [
    {
     "data": {
      "text/plain": [
       "[<matplotlib.lines.Line2D at 0x7f14c466e898>]"
      ]
     },
     "execution_count": 35,
     "metadata": {},
     "output_type": "execute_result"
    },
    {
     "data": {
      "image/png": "[encoded data removed]",
      "text/plain": [
       "<Figure size 432x288 with 1 Axes>"
      ]
     },
     "metadata": {
      "needs_background": "light"
     },
     "output_type": "display_data"
    }
   ],
   "source": [
    "plt.plot(T2, psi_star_eval()(y1, T2))\n",
    "plt.plot(T2, psi_star_eval()(y2, T2))"
   ]
  },
  {
   "cell_type": "markdown",
   "metadata": {},
   "source": [
    "## Test time integration"
   ]
  },
  {
   "cell_type": "code",
   "execution_count": 36,
   "metadata": {},
   "outputs": [],
   "source": [
    "from scipy.integrate import solve_ivp\n",
    "from scipy.optimize import toms748"
   ]
  },
  {
   "cell_type": "code",
   "execution_count": 37,
   "metadata": {},
   "outputs": [
    {
     "data": {
      "text/plain": [
       "(array(-20.),\n",
       " array(0.03999467),\n",
       " 25.0,\n",
       " array(0.7612255),\n",
       " array(-0.00063192),\n",
       " array(1.1917651e-05))"
      ]
     },
     "execution_count": 37,
     "metadata": {},
     "output_type": "execute_result"
    }
   ],
   "source": [
    "y_eval = y2\n",
    "tau_pre1 = tau_pre_eval()(y_eval)\n",
    "tau_star1 = lambda t: tau_star_eval()(y_eval, t)\n",
    "sn_pre1 = float(v[sn_pre].subs(y, y_eval))\n",
    "psi_star1 = lambda t: psi_star_eval()(y_eval, t)\n",
    "dpsidt_star1 = lambda t: dpsidt_star_eval()(y_eval, t)\n",
    "S_star1 = lambda t: S_star_eval()(y_eval, t)\n",
    "V_star1 = lambda t: V_star_eval()(y_eval, t)\n",
    "(tau_pre1, tau_star1(0), sn_pre1, psi_star1(0), dpsidt_star1(0), V_star1(0))"
   ]
  },
  {
   "cell_type": "code",
   "execution_count": 38,
   "metadata": {},
   "outputs": [],
   "source": [
    "def friction_law(V, sn, psi):\n",
    "    a = 0.015\n",
    "    e = np.exp(psi / a)\n",
    "    f = a * np.arcsinh((V / (2.0 * 1.0e-6)) * e)\n",
    "    return sn * f\n",
    "\n",
    "def slip_rate(tau, sn, psi):\n",
    "    eta = 3.464*2.670/2\n",
    "    L = 0\n",
    "    R = -tau / eta\n",
    "    if L == R:\n",
    "        return 0.0\n",
    "    if L > R:\n",
    "        L, R = R, L\n",
    "    return toms748(\n",
    "        lambda V: tau + friction_law(V, sn, psi) + eta * V,\n",
    "        L,\n",
    "        R,\n",
    "        xtol=1e-100)\n",
    "\n",
    "def state_law(V, psi):\n",
    "    return 0.02 * 1.0e-6 / 0.2 * (np.exp((0.6 - psi) / 0.02) - np.abs(V) / 1.0e-6)\n",
    "\n",
    "\n",
    "def y0():\n",
    "    y0 = np.zeros((2,))\n",
    "    y0[0] = psi_star1(0)\n",
    "    y0[1] = S_star1(0)\n",
    "    return y0\n",
    "\n",
    "\n",
    "def F(t, y):\n",
    "    fy = np.ndarray(y.shape)\n",
    "    psi = y[0]\n",
    "    V = slip_rate(tau_pre1 + tau_star1(t), sn_pre1, psi)\n",
    "    fy[0] = state_law(V, psi) - state_law(V_star1(t), psi_star1(t)) + dpsidt_star1(t)\n",
    "    fy[1] = V\n",
    "    return fy"
   ]
  },
  {
   "cell_type": "code",
   "execution_count": 39,
   "metadata": {},
   "outputs": [
    {
     "data": {
      "text/plain": [
       "  message: 'The solver successfully reached the end of the integration interval.'\n",
       "     nfev: 530\n",
       "     njev: 0\n",
       "      nlu: 0\n",
       "      sol: None\n",
       "   status: 0\n",
       "  success: True\n",
       "        t: array([0.00000000e+00, 3.71392064e-02, 4.08531270e-01, 4.12245191e+00,\n",
       "       1.04246702e+01, 1.59221740e+01, 2.05707303e+01, 2.45411863e+01,\n",
       "       2.79289363e+01, 3.08256539e+01, 3.33062639e+01, 3.54345051e+01,\n",
       "       3.72640363e+01, 3.88401405e+01, 4.02010162e+01, 4.13789027e+01,\n",
       "       4.24010279e+01, 4.32904100e+01, 4.40665356e+01, 4.47459313e+01,\n",
       "       4.53426478e+01, 4.58686706e+01, 4.63342724e+01, 4.67483203e+01,\n",
       "       4.71185577e+01, 4.74887951e+01, 4.77880639e+01, 4.80873327e+01,\n",
       "       4.83637577e+01, 4.86240455e+01, 4.88905434e+01, 4.90651693e+01,\n",
       "       4.92218202e+01, 4.93784711e+01, 4.95203744e+01, 4.96545665e+01,\n",
       "       4.97894161e+01, 4.99392409e+01, 5.00831349e+01, 5.02270289e+01,\n",
       "       5.03685195e+01, 5.05214042e+01, 5.07036396e+01, 5.09460547e+01,\n",
       "       5.11872092e+01, 5.14372177e+01, 5.17152890e+01, 5.20339679e+01,\n",
       "       5.24066998e+01, 5.28500507e+01, 5.33854796e+01, 5.40414976e+01,\n",
       "       5.48566325e+01, 5.58836841e+01, 5.71959655e+01, 5.88966020e+01,\n",
       "       6.11324903e+01, 6.41149279e+01, 6.81478108e+01, 7.36572326e+01,\n",
       "       8.12004938e+01, 9.14444760e+01, 1.00000000e+02])\n",
       " t_events: None\n",
       "        y: array([[7.61225496e-01, 7.61202017e-01, 7.60966221e-01, 7.58500669e-01,\n",
       "        7.53790685e-01, 7.48978933e-01, 7.44209939e-01, 7.39440266e-01,\n",
       "        7.34676987e-01, 7.29912519e-01, 7.25141739e-01, 7.20357527e-01,\n",
       "        7.15551786e-01, 7.10715117e-01, 7.05836789e-01, 7.00904619e-01,\n",
       "        6.95904817e-01, 6.90821781e-01, 6.85637795e-01, 6.80332609e-01,\n",
       "        6.74882837e-01, 6.69261068e-01, 6.63434532e-01, 6.57363019e-01,\n",
       "        6.50995441e-01, 6.43447765e-01, 6.36202890e-01, 6.27597091e-01,\n",
       "        6.18053869e-01, 6.07227186e-01, 5.93744534e-01, 5.83302372e-01,\n",
       "        5.72711662e-01, 5.60934957e-01, 5.49335467e-01, 5.37766579e-01,\n",
       "        5.25899428e-01, 5.12982083e-01, 5.01428027e-01, 4.91174274e-01,\n",
       "        4.82589401e-01, 4.74995372e-01, 4.67988802e-01, 4.61415623e-01,\n",
       "        4.57126421e-01, 4.54286114e-01, 4.52404000e-01, 4.51317646e-01,\n",
       "        4.50949354e-01, 4.51258426e-01, 4.52224503e-01, 4.53839640e-01,\n",
       "        4.56103718e-01, 4.59021396e-01, 4.62599922e-01, 4.66847509e-01,\n",
       "        4.71771956e-01, 4.77378459e-01, 4.83663303e-01, 4.90596359e-01,\n",
       "        4.98088863e-01, 5.05980331e-01, 5.11285090e-01],\n",
       "       [5.96041438e-04, 5.96484444e-04, 6.00950990e-04, 6.49592702e-04,\n",
       "        7.53016552e-04, 8.74458404e-04, 1.01252718e-03, 1.17034583e-03,\n",
       "        1.34984516e-03, 1.55355617e-03, 1.78408588e-03, 2.04428900e-03,\n",
       "        2.33724452e-03, 2.66629399e-03, 3.03507317e-03, 3.44755868e-03,\n",
       "        3.90812919e-03, 4.42164792e-03, 4.99357518e-03, 5.63012362e-03,\n",
       "        6.33847666e-03, 7.12710203e-03, 8.00621514e-03, 8.98848949e-03,\n",
       "        1.00902009e-02, 1.14892740e-02, 1.29255581e-02, 1.47484228e-02,\n",
       "        1.69163645e-02, 1.95618838e-02, 2.31364018e-02, 2.61249159e-02,\n",
       "        2.93618310e-02, 3.32204579e-02, 3.73108318e-02, 4.17085730e-02,\n",
       "        4.65948230e-02, 5.24199679e-02, 5.81709449e-02, 6.38046249e-02,\n",
       "        6.90020222e-02, 7.40667963e-02, 7.92612531e-02, 8.48184101e-02,\n",
       "        8.90745568e-02, 9.24755365e-02, 9.53828545e-02, 9.79189406e-02,\n",
       "        1.00150406e-01, 1.02121271e-01, 1.03863443e-01, 1.05401324e-01,\n",
       "        1.06754338e-01, 1.07938561e-01, 1.08967881e-01, 1.09854863e-01,\n",
       "        1.10611346e-01, 1.11248762e-01, 1.11778142e-01, 1.12209868e-01,\n",
       "        1.12553712e-01, 1.12820205e-01, 1.12959050e-01]])\n",
       " y_events: None"
      ]
     },
     "execution_count": 39,
     "metadata": {},
     "output_type": "execute_result"
    }
   ],
   "source": [
    "t0 = 0\n",
    "tend = 2*v[te]\n",
    "result = solve_ivp(F, (t0, tend), y0(), method='RK45', rtol=1e-7, atol=1e-50)\n",
    "result"
   ]
  },
  {
   "cell_type": "code",
   "execution_count": 40,
   "metadata": {},
   "outputs": [
    {
     "data": {
      "image/png": "[encoded data removed]",
      "text/latex": [
       "$\\displaystyle 0.0371392063906757$"
      ],
      "text/plain": [
       "0.03713920639067571"
      ]
     },
     "execution_count": 40,
     "metadata": {},
     "output_type": "execute_result"
    }
   ],
   "source": [
    "np.min(np.diff(result['t']))"
   ]
  },
  {
   "cell_type": "code",
   "execution_count": 41,
   "metadata": {},
   "outputs": [
    {
     "data": {
      "text/plain": [
       "[<matplotlib.lines.Line2D at 0x7f14b9fedfd0>]"
      ]
     },
     "execution_count": 41,
     "metadata": {},
     "output_type": "execute_result"
    },
    {
     "data": {
      "image/png": "[encoded data removed]",
      "text/plain": [
       "<Figure size 432x288 with 1 Axes>"
      ]
     },
     "metadata": {
      "needs_background": "light"
     },
     "output_type": "display_data"
    }
   ],
   "source": [
    "plt.plot(result['t'], result['y'][0])"
   ]
  },
  {
   "cell_type": "code",
   "execution_count": 42,
   "metadata": {},
   "outputs": [
    {
     "data": {
      "text/plain": [
       "[<matplotlib.lines.Line2D at 0x7f14b9ec1b70>]"
      ]
     },
     "execution_count": 42,
     "metadata": {},
     "output_type": "execute_result"
    },
    {
     "data": {
      "image/png": "[encoded data removed]",
      "text/plain": [
       "<Figure size 432x288 with 1 Axes>"
      ]
     },
     "metadata": {
      "needs_background": "light"
     },
     "output_type": "display_data"
    }
   ],
   "source": [
    "plt.plot(result['t'], np.abs(result['y'][0] - psi_star1(result['t'])))"
   ]
  },
  {
   "cell_type": "code",
   "execution_count": 43,
   "metadata": {},
   "outputs": [
    {
     "data": {
      "text/plain": [
       "[<matplotlib.lines.Line2D at 0x7f14b9ea4dd8>]"
      ]
     },
     "execution_count": 43,
     "metadata": {},
     "output_type": "execute_result"
    },
    {
     "data": {
      "image/png": "[encoded data removed]",
      "text/plain": [
       "<Figure size 432x288 with 1 Axes>"
      ]
     },
     "metadata": {
      "needs_background": "light"
     },
     "output_type": "display_data"
    }
   ],
   "source": [
    "plt.plot(result['t'], result['y'][1])"
   ]
  },
  {
   "cell_type": "code",
   "execution_count": null,
   "metadata": {},
   "outputs": [],
   "source": []
  }
 ],
 "metadata": {
  "kernelspec": {
   "display_name": "Python 3",
   "language": "python",
   "name": "python3"
  },
  "language_info": {
   "codemirror_mode": {
    "name": "ipython",
    "version": 3
   },
   "file_extension": ".py",
   "mimetype": "text/x-python",
   "name": "python",
   "nbconvert_exporter": "python",
   "pygments_lexer": "ipython3",
   "version": "3.7.3"
  }
 },
 "nbformat": 4,
 "nbformat_minor": 2
}
