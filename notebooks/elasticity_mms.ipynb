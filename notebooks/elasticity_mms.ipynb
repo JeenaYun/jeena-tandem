{
 "cells": [
  {
   "cell_type": "code",
   "execution_count": 1,
   "metadata": {},
   "outputs": [],
   "source": [
    "from sympy import *\n",
    "from util import *"
   ]
  },
  {
   "cell_type": "markdown",
   "metadata": {},
   "source": [
    "MMS\n",
    "==="
   ]
  },
  {
   "cell_type": "code",
   "execution_count": 2,
   "metadata": {},
   "outputs": [],
   "source": [
    "x, y = symbols('x y')\n",
    "lam = Function('lam')(x,y)\n",
    "mu = Function('mu')(x,y)"
   ]
  },
  {
   "cell_type": "code",
   "execution_count": 3,
   "metadata": {},
   "outputs": [],
   "source": [
    "u = Array([cos(pi * x) * cos(pi * y), 0.0])\n",
    "I = Array([[1, 0], [0, 1]])"
   ]
  },
  {
   "cell_type": "code",
   "execution_count": 4,
   "metadata": {},
   "outputs": [
    {
     "data": {
      "text/plain": [
       "'math.cos(math.pi*x)*math.cos(math.pi*y), 0.0'"
      ]
     },
     "execution_count": 4,
     "metadata": {},
     "output_type": "execute_result"
    }
   ],
   "source": [
    "', '.join([lua_code(ui) for ui in u])"
   ]
  },
  {
   "cell_type": "code",
   "execution_count": 5,
   "metadata": {},
   "outputs": [],
   "source": [
    "Ju = permutedims(derive_by_array(u, [x, y]), (1, 0))"
   ]
  },
  {
   "cell_type": "code",
   "execution_count": 6,
   "metadata": {},
   "outputs": [],
   "source": [
    "strain = 0.5 * simplify(Ju + Ju.transpose())\n",
    "stress = simplify(lam * tensorcontraction(strain, (0, 1)) * I + 2.0 * mu * strain)"
   ]
  },
  {
   "cell_type": "code",
   "execution_count": 7,
   "metadata": {},
   "outputs": [
    {
     "data": {
      "text/latex": [
       "$\\displaystyle \\left[\\begin{matrix}\\pi \\left(\\pi \\left(1.0 \\operatorname{lam}{\\left(x,y \\right)} + 2.0 \\mu{\\left(x,y \\right)}\\right) \\cos{\\left(\\pi x \\right)} \\cos{\\left(\\pi y \\right)} + \\left(1.0 \\frac{\\partial}{\\partial x} \\operatorname{lam}{\\left(x,y \\right)} + 2.0 \\frac{\\partial}{\\partial x} \\mu{\\left(x,y \\right)}\\right) \\sin{\\left(\\pi x \\right)} \\cos{\\left(\\pi y \\right)} + 1.0 \\pi \\mu{\\left(x,y \\right)} \\cos{\\left(\\pi x \\right)} \\cos{\\left(\\pi y \\right)} + 1.0 \\sin{\\left(\\pi y \\right)} \\cos{\\left(\\pi x \\right)} \\frac{\\partial}{\\partial y} \\mu{\\left(x,y \\right)}\\right) & - 1.0 \\pi \\left(\\pi \\operatorname{lam}{\\left(x,y \\right)} \\sin{\\left(\\pi x \\right)} \\sin{\\left(\\pi y \\right)} + \\pi \\mu{\\left(x,y \\right)} \\sin{\\left(\\pi x \\right)} \\sin{\\left(\\pi y \\right)} - \\sin{\\left(\\pi x \\right)} \\cos{\\left(\\pi y \\right)} \\frac{\\partial}{\\partial y} \\operatorname{lam}{\\left(x,y \\right)} - \\sin{\\left(\\pi y \\right)} \\cos{\\left(\\pi x \\right)} \\frac{\\partial}{\\partial x} \\mu{\\left(x,y \\right)}\\right)\\end{matrix}\\right]$"
      ],
      "text/plain": [
       "[pi*(pi*(1.0*lam(x, y) + 2.0*mu(x, y))*cos(pi*x)*cos(pi*y) + (1.0*Derivative(lam(x, y), x) + 2.0*Derivative(mu(x, y), x))*sin(pi*x)*cos(pi*y) + 1.0*pi*mu(x, y)*cos(pi*x)*cos(pi*y) + 1.0*sin(pi*y)*cos(pi*x)*Derivative(mu(x, y), y)), -1.0*pi*(pi*lam(x, y)*sin(pi*x)*sin(pi*y) + pi*mu(x, y)*sin(pi*x)*sin(pi*y) - sin(pi*x)*cos(pi*y)*Derivative(lam(x, y), y) - sin(pi*y)*cos(pi*x)*Derivative(mu(x, y), x))]"
      ]
     },
     "execution_count": 7,
     "metadata": {},
     "output_type": "execute_result"
    }
   ],
   "source": [
    "force = -simplify(tensorcontraction(derive_by_array(stress, [x, y]), (0, 2)))\n",
    "force"
   ]
  },
  {
   "cell_type": "markdown",
   "metadata": {},
   "source": [
    "Constant coefficients\n",
    "================="
   ]
  },
  {
   "cell_type": "code",
   "execution_count": 8,
   "metadata": {},
   "outputs": [
    {
     "data": {
      "text/latex": [
       "$\\displaystyle \\left[\\begin{matrix}5.0 \\pi^{2} \\cos{\\left(\\pi x \\right)} \\cos{\\left(\\pi y \\right)} & - 3.0 \\pi^{2} \\sin{\\left(\\pi x \\right)} \\sin{\\left(\\pi y \\right)}\\end{matrix}\\right]$"
      ],
      "text/plain": [
       "[5.0*pi**2*cos(pi*x)*cos(pi*y), -3.0*pi**2*sin(pi*x)*sin(pi*y)]"
      ]
     },
     "execution_count": 8,
     "metadata": {},
     "output_type": "execute_result"
    }
   ],
   "source": [
    "f1 = force.subs(mu, 1).subs(lam, 2).simplify()\n",
    "f1"
   ]
  },
  {
   "cell_type": "code",
   "execution_count": 9,
   "metadata": {},
   "outputs": [
    {
     "data": {
      "text/plain": [
       "'5.0*math.pi^2*math.cos(math.pi*x)*math.cos(math.pi*y), -3.0*math.pi^2*math.sin(math.pi*x)*math.sin(math.pi*y)'"
      ]
     },
     "execution_count": 9,
     "metadata": {},
     "output_type": "execute_result"
    }
   ],
   "source": [
    "', '.join([lua_code(fi) for fi in f1])"
   ]
  },
  {
   "cell_type": "markdown",
   "metadata": {},
   "source": [
    "Variable coefficients\n",
    "================"
   ]
  },
  {
   "cell_type": "code",
   "execution_count": 10,
   "metadata": {},
   "outputs": [
    {
     "data": {
      "text/latex": [
       "$\\displaystyle \\left[\\begin{matrix}\\pi \\left(\\pi \\left(x + y\\right)^{3} \\left(1.0 x + 1.0 y + 2.0\\right) \\cos{\\left(\\pi x \\right)} \\cos{\\left(\\pi y \\right)} + 1.0 \\pi \\left(x + y\\right)^{3} \\cos{\\left(\\pi x \\right)} \\cos{\\left(\\pi y \\right)} + 3.0 \\left(x + y\\right)^{2} \\sin{\\left(\\pi y \\right)} \\cos{\\left(\\pi x \\right)} + \\left(4.0 \\left(x + y\\right)^{3} + 6.0 \\left(x + y\\right)^{2}\\right) \\sin{\\left(\\pi x \\right)} \\cos{\\left(\\pi y \\right)}\\right) & - 1.0 \\pi \\left(\\pi \\left(x + y\\right)^{4} \\sin{\\left(\\pi x \\right)} \\sin{\\left(\\pi y \\right)} + \\pi \\left(x + y\\right)^{3} \\sin{\\left(\\pi x \\right)} \\sin{\\left(\\pi y \\right)} - 4 \\left(x + y\\right)^{3} \\sin{\\left(\\pi x \\right)} \\cos{\\left(\\pi y \\right)} - 3 \\left(x + y\\right)^{2} \\sin{\\left(\\pi y \\right)} \\cos{\\left(\\pi x \\right)}\\right)\\end{matrix}\\right]$"
      ],
      "text/plain": [
       "[pi*(pi*(x + y)**3*(1.0*x + 1.0*y + 2.0)*cos(pi*x)*cos(pi*y) + 1.0*pi*(x + y)**3*cos(pi*x)*cos(pi*y) + 3.0*(x + y)**2*sin(pi*y)*cos(pi*x) + (4.0*(x + y)**3 + 6.0*(x + y)**2)*sin(pi*x)*cos(pi*y)), -1.0*pi*(pi*(x + y)**4*sin(pi*x)*sin(pi*y) + pi*(x + y)**3*sin(pi*x)*sin(pi*y) - 4*(x + y)**3*sin(pi*x)*cos(pi*y) - 3*(x + y)**2*sin(pi*y)*cos(pi*x))]"
      ]
     },
     "execution_count": 10,
     "metadata": {},
     "output_type": "execute_result"
    }
   ],
   "source": [
    "f2 = force.subs(mu, (x+y)**3).subs(lam, (x+y)**4).simplify()\n",
    "f2"
   ]
  },
  {
   "cell_type": "code",
   "execution_count": 11,
   "metadata": {},
   "outputs": [
    {
     "data": {
      "text/plain": [
       "'math.pi*(math.pi*(x + y)^3*(1.0*x + 1.0*y + 2.0)*math.cos(math.pi*x)*math.cos(math.pi*y) + 1.0*math.pi*(x + y)^3*math.cos(math.pi*x)*math.cos(math.pi*y) + 3.0*(x + y)^2*math.sin(math.pi*y)*math.cos(math.pi*x) + (4.0*(x + y)^3 + 6.0*(x + y)^2)*math.sin(math.pi*x)*math.cos(math.pi*y)), -1.0*math.pi*(math.pi*(x + y)^4*math.sin(math.pi*x)*math.sin(math.pi*y) + math.pi*(x + y)^3*math.sin(math.pi*x)*math.sin(math.pi*y) - 4*(x + y)^3*math.sin(math.pi*x)*math.cos(math.pi*y) - 3*(x + y)^2*math.sin(math.pi*y)*math.cos(math.pi*x))'"
      ]
     },
     "execution_count": 11,
     "metadata": {},
     "output_type": "execute_result"
    }
   ],
   "source": [
    "', '.join([lua_code(fi) for fi in f2])"
   ]
  },
  {
   "cell_type": "markdown",
   "metadata": {},
   "source": [
    "Oscillatory material\n",
    "================="
   ]
  },
  {
   "cell_type": "code",
   "execution_count": 12,
   "metadata": {},
   "outputs": [
    {
     "data": {
      "text/latex": [
       "$\\displaystyle \\left[\\begin{matrix}\\pi \\left(0.5 \\pi freq \\sin{\\left(\\pi x \\right)} \\cos{\\left(\\pi y \\right)} \\cos{\\left(\\pi freq x \\right)} + 1.0 \\pi \\left(0.25 \\sin{\\left(\\pi freq x \\right)} + 1\\right) \\cos{\\left(\\pi x \\right)} \\cos{\\left(\\pi y \\right)} + \\pi \\left(0.5 \\sin{\\left(\\pi freq x \\right)} + 0.25 \\sin{\\left(\\pi freq y \\right)} + 3.0\\right) \\cos{\\left(\\pi x \\right)} \\cos{\\left(\\pi y \\right)}\\right) & - 1.0 \\pi \\left(- 0.25 \\pi freq \\sin{\\left(\\pi x \\right)} \\cos{\\left(\\pi y \\right)} \\cos{\\left(\\pi freq y \\right)} - 0.25 \\pi freq \\sin{\\left(\\pi y \\right)} \\cos{\\left(\\pi x \\right)} \\cos{\\left(\\pi freq x \\right)} + \\pi \\left(0.25 \\sin{\\left(\\pi freq x \\right)} + 1\\right) \\sin{\\left(\\pi x \\right)} \\sin{\\left(\\pi y \\right)} + \\pi \\left(0.25 \\sin{\\left(\\pi freq y \\right)} + 1\\right) \\sin{\\left(\\pi x \\right)} \\sin{\\left(\\pi y \\right)}\\right)\\end{matrix}\\right]$"
      ],
      "text/plain": [
       "[pi*(0.5*pi*freq*sin(pi*x)*cos(pi*y)*cos(pi*freq*x) + 1.0*pi*(0.25*sin(pi*freq*x) + 1)*cos(pi*x)*cos(pi*y) + pi*(0.5*sin(pi*freq*x) + 0.25*sin(pi*freq*y) + 3.0)*cos(pi*x)*cos(pi*y)), -1.0*pi*(-0.25*pi*freq*sin(pi*x)*cos(pi*y)*cos(pi*freq*y) - 0.25*pi*freq*sin(pi*y)*cos(pi*x)*cos(pi*freq*x) + pi*(0.25*sin(pi*freq*x) + 1)*sin(pi*x)*sin(pi*y) + pi*(0.25*sin(pi*freq*y) + 1)*sin(pi*x)*sin(pi*y))]"
      ]
     },
     "execution_count": 12,
     "metadata": {},
     "output_type": "execute_result"
    }
   ],
   "source": [
    "freq = symbols('freq')\n",
    "f3 = force.subs(mu, 1 + 0.25*sin(freq*pi*x)).subs(lam, 1 + 0.25*sin(freq*pi*y)).simplify()\n",
    "f3"
   ]
  },
  {
   "cell_type": "code",
   "execution_count": 13,
   "metadata": {},
   "outputs": [
    {
     "data": {
      "text/plain": [
       "'math.pi*(0.5*math.pi*freq*math.sin(math.pi*x)*math.cos(math.pi*y)*math.cos(math.pi*freq*x) + 1.0*math.pi*(0.25*math.sin(math.pi*freq*x) + 1)*math.cos(math.pi*x)*math.cos(math.pi*y) + math.pi*(0.5*math.sin(math.pi*freq*x) + 0.25*math.sin(math.pi*freq*y) + 3.0)*math.cos(math.pi*x)*math.cos(math.pi*y)), -1.0*math.pi*(-0.25*math.pi*freq*math.sin(math.pi*x)*math.cos(math.pi*y)*math.cos(math.pi*freq*y) - 0.25*math.pi*freq*math.sin(math.pi*y)*math.cos(math.pi*x)*math.cos(math.pi*freq*x) + math.pi*(0.25*math.sin(math.pi*freq*x) + 1)*math.sin(math.pi*x)*math.sin(math.pi*y) + math.pi*(0.25*math.sin(math.pi*freq*y) + 1)*math.sin(math.pi*x)*math.sin(math.pi*y))'"
      ]
     },
     "execution_count": 13,
     "metadata": {},
     "output_type": "execute_result"
    }
   ],
   "source": [
    "', '.join([lua_code(fi) for fi in f3])"
   ]
  },
  {
   "cell_type": "code",
   "execution_count": null,
   "metadata": {},
   "outputs": [],
   "source": []
  }
 ],
 "metadata": {
  "kernelspec": {
   "display_name": "Python 3 (ipykernel)",
   "language": "python",
   "name": "python3"
  },
  "language_info": {
   "codemirror_mode": {
    "name": "ipython",
    "version": 3
   },
   "file_extension": ".py",
   "mimetype": "text/x-python",
   "name": "python",
   "nbconvert_exporter": "python",
   "pygments_lexer": "ipython3",
   "version": "3.9.2"
  }
 },
 "nbformat": 4,
 "nbformat_minor": 2
}
