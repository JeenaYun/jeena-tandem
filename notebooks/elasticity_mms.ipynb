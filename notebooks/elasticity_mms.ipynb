{
 "cells": [
  {
   "cell_type": "code",
   "execution_count": 1,
   "metadata": {},
   "outputs": [],
   "source": [
    "from sympy import *\n",
    "from util import *\n",
    "init_printing()"
   ]
  },
  {
   "cell_type": "markdown",
   "metadata": {},
   "source": [
    "MMS\n",
    "==="
   ]
  },
  {
   "cell_type": "code",
   "execution_count": 2,
   "metadata": {},
   "outputs": [],
   "source": [
    "x, y = symbols('x y')\n",
    "lam = Function('lam')(x,y)\n",
    "mu = Function('mu')(x,y)"
   ]
  },
  {
   "cell_type": "code",
   "execution_count": 3,
   "metadata": {},
   "outputs": [],
   "source": [
    "u = Array([cos(pi * x) * cos(pi * y), 0.0])\n",
    "I = Array([[1, 0], [0, 1]])"
   ]
  },
  {
   "cell_type": "code",
   "execution_count": 4,
   "metadata": {},
   "outputs": [
    {
     "data": {
      "text/plain": [
       "'math.cos(math.pi*x)*math.cos(math.pi*y), 0.0'"
      ]
     },
     "execution_count": 4,
     "metadata": {},
     "output_type": "execute_result"
    }
   ],
   "source": [
    "', '.join([lua_code(ui) for ui in u])"
   ]
  },
  {
   "cell_type": "code",
   "execution_count": 5,
   "metadata": {},
   "outputs": [],
   "source": [
    "Ju = permutedims(derive_by_array(u, [x, y]), (1, 0))"
   ]
  },
  {
   "cell_type": "code",
   "execution_count": 6,
   "metadata": {},
   "outputs": [],
   "source": [
    "strain = 0.5 * simplify(Ju + Ju.transpose())\n",
    "stress = simplify(lam * tensorcontraction(strain, (0, 1)) * I + 2.0 * mu * strain)"
   ]
  },
  {
   "cell_type": "code",
   "execution_count": 7,
   "metadata": {},
   "outputs": [
    {
     "data": {
      "text/latex": [
       "$\\displaystyle \\left[\\begin{matrix}\\pi \\left(\\pi \\left(1.0 \\operatorname{lam}{\\left(x,y \\right)} + 2.0 \\mu{\\left(x,y \\right)}\\right) \\cos{\\left(\\pi x \\right)} \\cos{\\left(\\pi y \\right)} + \\left(1.0 \\frac{\\partial}{\\partial x} \\operatorname{lam}{\\left(x,y \\right)} + 2.0 \\frac{\\partial}{\\partial x} \\mu{\\left(x,y \\right)}\\right) \\sin{\\left(\\pi x \\right)} \\cos{\\left(\\pi y \\right)} + 1.0 \\pi \\mu{\\left(x,y \\right)} \\cos{\\left(\\pi x \\right)} \\cos{\\left(\\pi y \\right)} + 1.0 \\sin{\\left(\\pi y \\right)} \\cos{\\left(\\pi x \\right)} \\frac{\\partial}{\\partial y} \\mu{\\left(x,y \\right)}\\right) & - 1.0 \\pi \\left(\\pi \\operatorname{lam}{\\left(x,y \\right)} \\sin{\\left(\\pi x \\right)} \\sin{\\left(\\pi y \\right)} + \\pi \\mu{\\left(x,y \\right)} \\sin{\\left(\\pi x \\right)} \\sin{\\left(\\pi y \\right)} - \\sin{\\left(\\pi x \\right)} \\cos{\\left(\\pi y \\right)} \\frac{\\partial}{\\partial y} \\operatorname{lam}{\\left(x,y \\right)} - \\sin{\\left(\\pi y \\right)} \\cos{\\left(\\pi x \\right)} \\frac{\\partial}{\\partial x} \\mu{\\left(x,y \\right)}\\right)\\end{matrix}\\right]$"
      ],
      "text/plain": [
       "⎡  ⎛                                                    ⎛    ∂                \n",
       "⎢π⋅⎜π⋅(1.0⋅lam(x, y) + 2.0⋅μ(x, y))⋅cos(π⋅x)⋅cos(π⋅y) + ⎜1.0⋅──(lam(x, y)) + 2\n",
       "⎣  ⎝                                                    ⎝    ∂x               \n",
       "\n",
       "   ∂          ⎞                                                               \n",
       ".0⋅──(μ(x, y))⎟⋅sin(π⋅x)⋅cos(π⋅y) + 1.0⋅π⋅μ(x, y)⋅cos(π⋅x)⋅cos(π⋅y) + 1.0⋅sin(\n",
       "   ∂x         ⎠                                                               \n",
       "\n",
       "              ∂          ⎞         ⎛                                          \n",
       "π⋅y)⋅cos(π⋅x)⋅──(μ(x, y))⎟  -1.0⋅π⋅⎜π⋅lam(x, y)⋅sin(π⋅x)⋅sin(π⋅y) + π⋅μ(x, y)⋅\n",
       "              ∂y         ⎠         ⎝                                          \n",
       "\n",
       "                                      ∂                                 ∂     \n",
       "sin(π⋅x)⋅sin(π⋅y) - sin(π⋅x)⋅cos(π⋅y)⋅──(lam(x, y)) - sin(π⋅y)⋅cos(π⋅x)⋅──(μ(x\n",
       "                                      ∂y                                ∂x    \n",
       "\n",
       "     ⎞⎤\n",
       ", y))⎟⎥\n",
       "     ⎠⎦"
      ]
     },
     "execution_count": 7,
     "metadata": {},
     "output_type": "execute_result"
    }
   ],
   "source": [
    "force = -simplify(tensorcontraction(derive_by_array(stress, [x, y]), (0, 2)))\n",
    "force"
   ]
  },
  {
   "cell_type": "markdown",
   "metadata": {},
   "source": [
    "Constant coefficients\n",
    "================="
   ]
  },
  {
   "cell_type": "code",
   "execution_count": 8,
   "metadata": {},
   "outputs": [
    {
     "data": {
      "text/latex": [
       "$\\displaystyle \\left[\\begin{matrix}5.0 \\pi^{2} \\cos{\\left(\\pi x \\right)} \\cos{\\left(\\pi y \\right)} & - 3.0 \\pi^{2} \\sin{\\left(\\pi x \\right)} \\sin{\\left(\\pi y \\right)}\\end{matrix}\\right]$"
      ],
      "text/plain": [
       "⎡     2                          2                  ⎤\n",
       "⎣5.0⋅π ⋅cos(π⋅x)⋅cos(π⋅y)  -3.0⋅π ⋅sin(π⋅x)⋅sin(π⋅y)⎦"
      ]
     },
     "execution_count": 8,
     "metadata": {},
     "output_type": "execute_result"
    }
   ],
   "source": [
    "f1 = force.subs(mu, 1).subs(lam, 2).simplify()\n",
    "f1"
   ]
  },
  {
   "cell_type": "code",
   "execution_count": 9,
   "metadata": {},
   "outputs": [
    {
     "data": {
      "text/plain": [
       "'5.0*math.pi^2*math.cos(math.pi*x)*math.cos(math.pi*y), -3.0*math.pi^2*math.sin(math.pi*x)*math.sin(math.pi*y)'"
      ]
     },
     "execution_count": 9,
     "metadata": {},
     "output_type": "execute_result"
    }
   ],
   "source": [
    "', '.join([lua_code(fi) for fi in f1])"
   ]
  },
  {
   "cell_type": "markdown",
   "metadata": {},
   "source": [
    "Variable coefficients\n",
    "================"
   ]
  },
  {
   "cell_type": "code",
   "execution_count": 10,
   "metadata": {},
   "outputs": [
    {
     "data": {
      "text/latex": [
       "$\\displaystyle \\left[\\begin{matrix}\\pi \\left(\\pi \\left(x + y\\right)^{3} \\left(1.0 x + 1.0 y + 2.0\\right) \\cos{\\left(\\pi x \\right)} \\cos{\\left(\\pi y \\right)} + 1.0 \\pi \\left(x + y\\right)^{3} \\cos{\\left(\\pi x \\right)} \\cos{\\left(\\pi y \\right)} + 3.0 \\left(x + y\\right)^{2} \\sin{\\left(\\pi y \\right)} \\cos{\\left(\\pi x \\right)} + \\left(4.0 \\left(x + y\\right)^{3} + 6.0 \\left(x + y\\right)^{2}\\right) \\sin{\\left(\\pi x \\right)} \\cos{\\left(\\pi y \\right)}\\right) & - 1.0 \\pi \\left(\\pi \\left(x + y\\right)^{4} \\sin{\\left(\\pi x \\right)} \\sin{\\left(\\pi y \\right)} + \\pi \\left(x + y\\right)^{3} \\sin{\\left(\\pi x \\right)} \\sin{\\left(\\pi y \\right)} - 4 \\left(x + y\\right)^{3} \\sin{\\left(\\pi x \\right)} \\cos{\\left(\\pi y \\right)} - 3 \\left(x + y\\right)^{2} \\sin{\\left(\\pi y \\right)} \\cos{\\left(\\pi x \\right)}\\right)\\end{matrix}\\right]$"
      ],
      "text/plain": [
       "⎡  ⎛         3                                                        3       \n",
       "⎣π⋅⎝π⋅(x + y) ⋅(1.0⋅x + 1.0⋅y + 2.0)⋅cos(π⋅x)⋅cos(π⋅y) + 1.0⋅π⋅(x + y) ⋅cos(π⋅\n",
       "\n",
       "                         2                     ⎛           3              2⎞  \n",
       "x)⋅cos(π⋅y) + 3.0⋅(x + y) ⋅sin(π⋅y)⋅cos(π⋅x) + ⎝4.0⋅(x + y)  + 6.0⋅(x + y) ⎠⋅s\n",
       "\n",
       "                ⎞         ⎛         4                              3          \n",
       "in(π⋅x)⋅cos(π⋅y)⎠  -1.0⋅π⋅⎝π⋅(x + y) ⋅sin(π⋅x)⋅sin(π⋅y) + π⋅(x + y) ⋅sin(π⋅x)⋅\n",
       "\n",
       "                    3                              2                  ⎞⎤\n",
       "sin(π⋅y) - 4⋅(x + y) ⋅sin(π⋅x)⋅cos(π⋅y) - 3⋅(x + y) ⋅sin(π⋅y)⋅cos(π⋅x)⎠⎦"
      ]
     },
     "execution_count": 10,
     "metadata": {},
     "output_type": "execute_result"
    }
   ],
   "source": [
    "f2 = force.subs(mu, (x+y)**3).subs(lam, (x+y)**4).simplify()\n",
    "f2"
   ]
  },
  {
   "cell_type": "code",
   "execution_count": 11,
   "metadata": {},
   "outputs": [
    {
     "data": {
      "text/plain": [
       "'math.pi*(math.pi*(x + y)^3*(1.0*x + 1.0*y + 2.0)*math.cos(math.pi*x)*math.cos(math.pi*y) + 1.0*math.pi*(x + y)^3*math.cos(math.pi*x)*math.cos(math.pi*y) + 3.0*(x + y)^2*math.sin(math.pi*y)*math.cos(math.pi*x) + (4.0*(x + y)^3 + 6.0*(x + y)^2)*math.sin(math.pi*x)*math.cos(math.pi*y)), -1.0*math.pi*(math.pi*(x + y)^4*math.sin(math.pi*x)*math.sin(math.pi*y) + math.pi*(x + y)^3*math.sin(math.pi*x)*math.sin(math.pi*y) - 4*(x + y)^3*math.sin(math.pi*x)*math.cos(math.pi*y) - 3*(x + y)^2*math.sin(math.pi*y)*math.cos(math.pi*x))'"
      ]
     },
     "execution_count": 11,
     "metadata": {},
     "output_type": "execute_result"
    }
   ],
   "source": [
    "', '.join([lua_code(fi) for fi in f2])"
   ]
  },
  {
   "cell_type": "code",
   "execution_count": null,
   "metadata": {},
   "outputs": [],
   "source": []
  }
 ],
 "metadata": {
  "kernelspec": {
   "display_name": "Python 3",
   "language": "python",
   "name": "python3"
  },
  "language_info": {
   "codemirror_mode": {
    "name": "ipython",
    "version": 3
   },
   "file_extension": ".py",
   "mimetype": "text/x-python",
   "name": "python",
   "nbconvert_exporter": "python",
   "pygments_lexer": "ipython3",
   "version": "3.7.3"
  }
 },
 "nbformat": 4,
 "nbformat_minor": 2
}
