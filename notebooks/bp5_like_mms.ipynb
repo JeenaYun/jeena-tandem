{
 "cells": [
  {
   "cell_type": "markdown",
   "metadata": {},
   "source": [
    "# Manufactured solution for BP3-like problem\n",
    "\n",
    "\n",
    "The manufactured solution is going to exactly solve the following problem:\n",
    "\n",
    "$$\n",
    "\\begin{aligned}\n",
    "    -\\frac{\\partial\\sigma_{ij}(\\boldsymbol{u})}{\\partial x_j} &= 0 & \\text{ in } & \\Omega \\\\\n",
    "    \\sigma_{ij} &= c_{ijkl} \\frac{\\partial u_k}{\\partial x_l} & \\text{ in } & \\Omega \\\\\n",
    "    u_i &= u_i^* & \\text{ on } & \\Gamma_D \\\\\n",
    "    u_1^- - u_1^+ &= 0 & \\text{ on } & \\Gamma_F \\\\\n",
    "    u_2^- - u_2^+ &= S_2 & \\text{ on } & \\Gamma_F \\\\\n",
    "    u_3^- - u_3^+ &= -S_1 & \\text{ on } & \\Gamma_F \\\\\n",
    "    -(\\tau_i^0 + \\tau_i) &= (\\sigma_n^0-\\sigma_n)f(|V|,\\psi)\\frac{V_i}{|V|} + \\eta V_i & \\text{ on } & \\Gamma_F \\\\\n",
    "    \\frac{d\\psi}{dt} &= g(|V|,\\psi) + s(\\vec x, t) & \\text{ on } & \\Gamma_F \\\\ \n",
    "    \\frac{dS}{dt} &= V & \\text{ on } & \\Gamma_F\n",
    "\\end{aligned}\n",
    "$$\n",
    "where\n",
    "$$\n",
    "\\begin{aligned}\n",
    "    f(|V|, \\psi) &= a \\cdot \\mathrm{asinh}\\left(\\frac{|V|}{2V_0} \\exp\\left(\\frac{\\psi}{a}\\right)\\right) \\\\\n",
    "    g(|V|, \\psi) &= \\frac{b V_0}{L} \\left(\\exp\\left(\\frac{f_0-\\psi}{b}\\right) - \\frac{|V|}{V_0}\\right) \\\\\n",
    "    s(\\vec{x}, t) &= - g(|V^*|, \\psi^*) + \\frac{d\\psi^*}{dt} \\\\\n",
    "    \\tau_1 &= -\\sigma_{13} \\\\\n",
    "    \\tau_2 &= \\sigma_{12} \\\\\n",
    "    \\sigma_n &= \\sigma_{11}\n",
    "\\end{aligned}\n",
    "$$"
   ]
  },
  {
   "cell_type": "code",
   "execution_count": 1,
   "metadata": {},
   "outputs": [],
   "source": [
    "from sympy import *\n",
    "init_printing()"
   ]
  },
  {
   "cell_type": "markdown",
   "metadata": {},
   "source": [
    "We first define symbols and general functions, which are going to be specified later."
   ]
  },
  {
   "cell_type": "code",
   "execution_count": 2,
   "metadata": {},
   "outputs": [],
   "source": [
    "x, y, z, t = symbols('x y z t')\n",
    "te, tw = symbols('t_e t_w')\n",
    "V0, Vp = symbols('V_0 V_p')\n",
    "a, sn, eta = symbols('a sigma_n eta')\n",
    "K = Function('K')(t)\n",
    "V1_star = Function('V_1^*')(z, t)\n",
    "tau1_star = Function('tau_1^*')(z, t)\n",
    "tau1_pre = Function('tau_1^0')(z)\n",
    "sn_star = symbols('sigma_n^*')\n",
    "sn_pre = Function('sigma_n^0')(z)\n",
    "E, nu = symbols('E nu', real=True, positive=True)\n",
    "lamda = E*nu/((1-2*nu)*(1+nu))\n",
    "mu = E/(2*(1+nu))"
   ]
  },
  {
   "cell_type": "markdown",
   "metadata": {},
   "source": [
    "$\\psi^*$ is the state variable."
   ]
  },
  {
   "cell_type": "code",
   "execution_count": 3,
   "metadata": {},
   "outputs": [
    {
     "data": {
      "image/png": "[encoded data removed]",
      "text/latex": [
       "$\\displaystyle a \\log{\\left(\\frac{2 V_{0} \\sinh{\\left(\\frac{\\eta \\operatorname{V^{*}_{1}}{\\left(z,t \\right)} + \\tau^{*}_{1}{\\left(z,t \\right)} + \\tau^{0}_{1}{\\left(z \\right)}}{a \\left(\\sigma^{*}_{n} - \\sigma^{0}_{n}{\\left(z \\right)}\\right)} \\right)}}{\\operatorname{V^{*}_{1}}{\\left(z,t \\right)}} \\right)}$"
      ],
      "text/plain": [
       "     ⎛         ⎛η⋅V_1__*(z, t) + τ_1__*(z, t) + τ⁰₁(z)⎞⎞\n",
       "     ⎜2⋅V₀⋅sinh⎜──────────────────────────────────────⎟⎟\n",
       "     ⎜         ⎝         a⋅(σ_n__* - σ⁰ₙ(z))          ⎠⎟\n",
       "a⋅log⎜─────────────────────────────────────────────────⎟\n",
       "     ⎝                   V_1__*(z, t)                  ⎠"
      ]
     },
     "execution_count": 3,
     "metadata": {},
     "output_type": "execute_result"
    }
   ],
   "source": [
    "psi_star = a * log((2*V0/V1_star) * sinh((tau1_pre + tau1_star + eta * V1_star) / (a*(sn_star - sn_pre))))\n",
    "psi_star"
   ]
  },
  {
   "cell_type": "markdown",
   "metadata": {},
   "source": [
    "We need the time derivative $\\frac{d\\psi^*}{dt}$"
   ]
  },
  {
   "cell_type": "code",
   "execution_count": 4,
   "metadata": {
    "scrolled": true
   },
   "outputs": [
    {
     "data": {
      "image/png": "[encoded data removed]",
      "text/latex": [
       "$\\displaystyle \\frac{- a \\sigma^{*}_{n} \\frac{\\partial}{\\partial t} \\operatorname{V^{*}_{1}}{\\left(z,t \\right)} + a \\sigma^{0}_{n}{\\left(z \\right)} \\frac{\\partial}{\\partial t} \\operatorname{V^{*}_{1}}{\\left(z,t \\right)} + \\frac{\\eta \\operatorname{V^{*}_{1}}{\\left(z,t \\right)} \\frac{\\partial}{\\partial t} \\operatorname{V^{*}_{1}}{\\left(z,t \\right)}}{\\tanh{\\left(\\frac{\\eta \\operatorname{V^{*}_{1}}{\\left(z,t \\right)} + \\tau^{*}_{1}{\\left(z,t \\right)} + \\tau^{0}_{1}{\\left(z \\right)}}{a \\left(\\sigma^{*}_{n} - \\sigma^{0}_{n}{\\left(z \\right)}\\right)} \\right)}} + \\frac{\\operatorname{V^{*}_{1}}{\\left(z,t \\right)} \\frac{\\partial}{\\partial t} \\tau^{*}_{1}{\\left(z,t \\right)}}{\\tanh{\\left(\\frac{\\eta \\operatorname{V^{*}_{1}}{\\left(z,t \\right)} + \\tau^{*}_{1}{\\left(z,t \\right)} + \\tau^{0}_{1}{\\left(z \\right)}}{a \\left(\\sigma^{*}_{n} - \\sigma^{0}_{n}{\\left(z \\right)}\\right)} \\right)}}}{\\left(\\sigma^{*}_{n} - \\sigma^{0}_{n}{\\left(z \\right)}\\right) \\operatorname{V^{*}_{1}}{\\left(z,t \\right)}}$"
      ],
      "text/plain": [
       "                                                                              \n",
       "                                                                η⋅V_1__*(z, t)\n",
       "           ∂                           ∂                                      \n",
       "- a⋅σ_n__*⋅──(V_1__*(z, t)) + a⋅σ⁰ₙ(z)⋅──(V_1__*(z, t)) + ────────────────────\n",
       "           ∂t                          ∂t                     ⎛η⋅V_1__*(z, t) \n",
       "                                                          tanh⎜───────────────\n",
       "                                                              ⎝         a⋅(σ_n\n",
       "──────────────────────────────────────────────────────────────────────────────\n",
       "                                                            (σ_n__* - σ⁰ₙ(z))⋅\n",
       "\n",
       " ∂                                             ∂                       \n",
       "⋅──(V_1__*(z, t))                 V_1__*(z, t)⋅──(τ_1__*(z, t))        \n",
       " ∂t                                            ∂t                      \n",
       "──────────────────────── + ────────────────────────────────────────────\n",
       "+ τ_1__*(z, t) + τ⁰₁(z)⎞       ⎛η⋅V_1__*(z, t) + τ_1__*(z, t) + τ⁰₁(z)⎞\n",
       "───────────────────────⎟   tanh⎜──────────────────────────────────────⎟\n",
       "__* - σ⁰ₙ(z))          ⎠       ⎝         a⋅(σ_n__* - σ⁰ₙ(z))          ⎠\n",
       "───────────────────────────────────────────────────────────────────────\n",
       "V_1__*(z, t)                                                           "
      ]
     },
     "execution_count": 4,
     "metadata": {},
     "output_type": "execute_result"
    }
   ],
   "source": [
    "psi_star.diff(t).simplify()"
   ]
  },
  {
   "cell_type": "markdown",
   "metadata": {},
   "source": [
    "$u_i^*$ is solution for the displacement."
   ]
  },
  {
   "cell_type": "code",
   "execution_count": 5,
   "metadata": {},
   "outputs": [
    {
     "data": {
      "image/png": "[encoded data removed]",
      "text/latex": [
       "$\\displaystyle x K{\\left(t \\right)} e^{- k x} \\cos{\\left(k z \\right)}$"
      ],
      "text/plain": [
       "        -k⋅x         \n",
       "x⋅K(t)⋅ℯ    ⋅cos(k⋅z)"
      ]
     },
     "execution_count": 5,
     "metadata": {},
     "output_type": "execute_result"
    }
   ],
   "source": [
    "k = symbols('k', real=True, positive=True)\n",
    "f = K*x*exp(-k*x)\n",
    "phi = cos(k*z)*f\n",
    "phi"
   ]
  },
  {
   "cell_type": "code",
   "execution_count": 6,
   "metadata": {},
   "outputs": [
    {
     "data": {
      "image/png": "[encoded data removed]",
      "text/latex": [
       "$\\displaystyle \\frac{\\left(k \\nu x + k x - 2 \\nu^{2} - \\nu + 1\\right) K{\\left(t \\right)} e^{- k x} \\cos{\\left(k z \\right)}}{E}$"
      ],
      "text/plain": [
       "⎛                 2        ⎞       -k⋅x         \n",
       "⎝k⋅ν⋅x + k⋅x - 2⋅ν  - ν + 1⎠⋅K(t)⋅ℯ    ⋅cos(k⋅z)\n",
       "────────────────────────────────────────────────\n",
       "                       E                        "
      ]
     },
     "execution_count": 6,
     "metadata": {},
     "output_type": "execute_result"
    }
   ],
   "source": [
    "sxx = phi.diff(z, 2)\n",
    "szz = phi.diff(x, 2)\n",
    "sxz = -phi.diff(x).diff(z)\n",
    "exx = (sxx - nu/(1-nu)*szz)*(1-nu**2)/E\n",
    "ezz = (szz - nu/(1-nu)*sxx)*(1-nu**2)/E\n",
    "exz = sxz*(1+nu)/E\n",
    "ux_star = integrate(exx, x)\n",
    "uz_star = integrate(ezz, z)\n",
    "ux_star.simplify()"
   ]
  },
  {
   "cell_type": "code",
   "execution_count": 7,
   "metadata": {},
   "outputs": [
    {
     "data": {
      "image/png": "[encoded data removed]",
      "text/latex": [
       "$\\displaystyle \\frac{\\left(k \\nu x + k x + 2 \\nu^{2} - 2\\right) K{\\left(t \\right)} e^{- k x} \\sin{\\left(k z \\right)}}{E}$"
      ],
      "text/plain": [
       "⎛                 2    ⎞       -k⋅x         \n",
       "⎝k⋅ν⋅x + k⋅x + 2⋅ν  - 2⎠⋅K(t)⋅ℯ    ⋅sin(k⋅z)\n",
       "────────────────────────────────────────────\n",
       "                     E                      "
      ]
     },
     "execution_count": 7,
     "metadata": {},
     "output_type": "execute_result"
    }
   ],
   "source": [
    "uz_star.simplify()"
   ]
  },
  {
   "cell_type": "code",
   "execution_count": 8,
   "metadata": {},
   "outputs": [
    {
     "data": {
      "image/png": "[encoded data removed]",
      "text/latex": [
       "$\\displaystyle 0$"
      ],
      "text/plain": [
       "0"
      ]
     },
     "execution_count": 8,
     "metadata": {},
     "output_type": "execute_result"
    }
   ],
   "source": [
    "simplify(ux_star.diff(z) + uz_star.diff(x) - 2*exz)"
   ]
  },
  {
   "cell_type": "markdown",
   "metadata": {},
   "source": [
    "Let's introduce slip:"
   ]
  },
  {
   "cell_type": "code",
   "execution_count": 9,
   "metadata": {},
   "outputs": [],
   "source": [
    "uxm_star = ux_star.subs(k, -k)\n",
    "uzm_star = uz_star.subs(k, -k)\n",
    "uxp_star = ux_star\n",
    "uzp_star = uz_star"
   ]
  },
  {
   "cell_type": "code",
   "execution_count": 10,
   "metadata": {},
   "outputs": [
    {
     "data": {
      "image/png": "[encoded data removed]",
      "text/latex": [
       "$\\displaystyle \\left( 0, \\  0, \\  0\\right)$"
      ],
      "text/plain": [
       "(0, 0, 0)"
      ]
     },
     "execution_count": 10,
     "metadata": {},
     "output_type": "execute_result"
    }
   ],
   "source": [
    "u = Array([uxm_star, 0, uzm_star])\n",
    "I = Array([[1, 0, 0], [0, 1, 0], [0, 0, 1]])\n",
    "Ju = permutedims(derive_by_array(u, [x, y, z]), (1, 0))\n",
    "strain = 0.5 * simplify(Ju + Ju.transpose())\n",
    "stress1 = simplify(lamda * tensorcontraction(strain, (0, 1)) * I + 2.0 * mu * strain)\n",
    "eq1 = simplify(stress1[0,0].diff(x) + stress1[0,1].diff(y) +  + stress1[0,2].diff(z))\n",
    "eq2 = simplify(stress1[1,0].diff(x) + stress1[1,1].diff(y) +  + stress1[1,2].diff(z))\n",
    "eq3 = simplify(stress1[2,0].diff(x) + stress1[2,1].diff(y) +  + stress1[2,2].diff(z))\n",
    "(eq1, eq2, eq3)"
   ]
  },
  {
   "cell_type": "code",
   "execution_count": 11,
   "metadata": {},
   "outputs": [],
   "source": [
    "u = Array([uxp_star, 0, uzp_star])\n",
    "I = Array([[1, 0, 0], [0, 1, 0], [0, 0, 1]])\n",
    "Ju = permutedims(derive_by_array(u, [x, y, z]), (1, 0))\n",
    "strain = 0.5 * simplify(Ju + Ju.transpose())\n",
    "stress2 = simplify(lamda * tensorcontraction(strain, (0, 1)) * I + 2.0 * mu * strain)"
   ]
  },
  {
   "cell_type": "code",
   "execution_count": 12,
   "metadata": {},
   "outputs": [
    {
     "data": {
      "text/latex": [
       "$\\displaystyle \\left[\\begin{matrix}0 & 0 & 0\\\\0 & - 4.0 k \\nu K{\\left(t \\right)} \\cos{\\left(k z \\right)} & 0\\\\0 & 0 & - 4 k K{\\left(t \\right)} \\cos{\\left(k z \\right)}\\end{matrix}\\right]$"
      ],
      "text/plain": [
       "⎡0            0                     0         ⎤\n",
       "⎢                                             ⎥\n",
       "⎢0  -4.0⋅k⋅ν⋅K(t)⋅cos(k⋅z)          0         ⎥\n",
       "⎢                                             ⎥\n",
       "⎣0            0             -4⋅k⋅K(t)⋅cos(k⋅z)⎦"
      ]
     },
     "execution_count": 12,
     "metadata": {},
     "output_type": "execute_result"
    }
   ],
   "source": [
    "simplify((stress2-stress1).subs(x, 0))"
   ]
  },
  {
   "cell_type": "markdown",
   "metadata": {},
   "source": [
    "$S^*$ is the on-fault displacement."
   ]
  },
  {
   "cell_type": "code",
   "execution_count": 13,
   "metadata": {},
   "outputs": [
    {
     "data": {
      "image/png": "[encoded data removed]",
      "text/latex": [
       "$\\displaystyle - \\frac{4 \\left(1 - \\nu^{2}\\right) K{\\left(t \\right)} \\sin{\\left(k z \\right)}}{E}$"
      ],
      "text/plain": [
       "   ⎛     2⎞               \n",
       "-4⋅⎝1 - ν ⎠⋅K(t)⋅sin(k⋅z) \n",
       "──────────────────────────\n",
       "            E             "
      ]
     },
     "execution_count": 13,
     "metadata": {},
     "output_type": "execute_result"
    }
   ],
   "source": [
    "S1_star_fun = -(uzm_star - uzp_star).subs(x, 0).simplify()\n",
    "S1_star_fun"
   ]
  },
  {
   "cell_type": "markdown",
   "metadata": {},
   "source": [
    "$\\tau^*$ is the on fault shear traction."
   ]
  },
  {
   "cell_type": "code",
   "execution_count": 14,
   "metadata": {
    "scrolled": true
   },
   "outputs": [
    {
     "data": {
      "image/png": "[encoded data removed]",
      "text/latex": [
       "$\\displaystyle - k K{\\left(t \\right)} \\sin{\\left(k z \\right)}$"
      ],
      "text/plain": [
       "-k⋅K(t)⋅sin(k⋅z)"
      ]
     },
     "execution_count": 14,
     "metadata": {},
     "output_type": "execute_result"
    }
   ],
   "source": [
    "s13 = mu * (uxm_star.diff(z) + uzm_star.diff(x))\n",
    "tau1_star_fun = -s13.subs(x, 0).simplify()\n",
    "tau1_star_fun"
   ]
  },
  {
   "cell_type": "markdown",
   "metadata": {},
   "source": [
    "Check continuity:"
   ]
  },
  {
   "cell_type": "code",
   "execution_count": 15,
   "metadata": {},
   "outputs": [
    {
     "data": {
      "image/png": "[encoded data removed]",
      "text/latex": [
       "$\\displaystyle - k K{\\left(t \\right)} \\sin{\\left(k z \\right)}$"
      ],
      "text/plain": [
       "-k⋅K(t)⋅sin(k⋅z)"
      ]
     },
     "execution_count": 15,
     "metadata": {},
     "output_type": "execute_result"
    }
   ],
   "source": [
    "s13 = mu * (uxp_star.diff(z) + uzp_star.diff(x))\n",
    "tau1_star_fun = -s13.subs(x, 0).simplify()\n",
    "tau1_star_fun"
   ]
  },
  {
   "cell_type": "markdown",
   "metadata": {},
   "source": [
    "$\\sigma_n^*$ is the on fault normal stress."
   ]
  },
  {
   "cell_type": "code",
   "execution_count": 16,
   "metadata": {},
   "outputs": [
    {
     "data": {
      "image/png": "[encoded data removed]",
      "text/latex": [
       "$\\displaystyle 0$"
      ],
      "text/plain": [
       "0"
      ]
     },
     "execution_count": 16,
     "metadata": {},
     "output_type": "execute_result"
    }
   ],
   "source": [
    "s11 = (lamda + 2*mu) * uxm_star.diff(x) + lamda * uzm_star.diff(z)\n",
    "sn_star_fun = s11.subs(x, 0).simplify()\n",
    "sn_star_fun"
   ]
  },
  {
   "cell_type": "markdown",
   "metadata": {},
   "source": [
    "Check continuity:"
   ]
  },
  {
   "cell_type": "code",
   "execution_count": 17,
   "metadata": {},
   "outputs": [
    {
     "data": {
      "image/png": "[encoded data removed]",
      "text/latex": [
       "$\\displaystyle 0$"
      ],
      "text/plain": [
       "0"
      ]
     },
     "execution_count": 17,
     "metadata": {},
     "output_type": "execute_result"
    }
   ],
   "source": [
    "s11 = (lamda + 2*mu) * uxp_star.diff(x) + lamda * uzp_star.diff(z)\n",
    "sn_star_fun = s11.subs(x, 0).simplify()\n",
    "sn_star_fun"
   ]
  },
  {
   "cell_type": "markdown",
   "metadata": {},
   "source": [
    "Slip-rate $V^*$"
   ]
  },
  {
   "cell_type": "code",
   "execution_count": 18,
   "metadata": {},
   "outputs": [
    {
     "data": {
      "image/png": "[encoded data removed]",
      "text/latex": [
       "$\\displaystyle - \\frac{4 \\left(1 - \\nu^{2}\\right) \\sin{\\left(k z \\right)} \\frac{d}{d t} K{\\left(t \\right)}}{E}$"
      ],
      "text/plain": [
       "   ⎛     2⎞          d        \n",
       "-4⋅⎝1 - ν ⎠⋅sin(k⋅z)⋅──(K(t)) \n",
       "                     dt       \n",
       "──────────────────────────────\n",
       "              E               "
      ]
     },
     "execution_count": 18,
     "metadata": {},
     "output_type": "execute_result"
    }
   ],
   "source": [
    "V1_star_fun = S1_star_fun.diff(t)\n",
    "V1_star_fun"
   ]
  },
  {
   "cell_type": "markdown",
   "metadata": {},
   "source": [
    "Acceleration $\\frac{dV^*}{dt}$"
   ]
  },
  {
   "cell_type": "code",
   "execution_count": 19,
   "metadata": {},
   "outputs": [
    {
     "data": {
      "image/png": "[encoded data removed]",
      "text/latex": [
       "$\\displaystyle - \\frac{4 \\left(1 - \\nu^{2}\\right) \\sin{\\left(k z \\right)} \\frac{d^{2}}{d t^{2}} K{\\left(t \\right)}}{E}$"
      ],
      "text/plain": [
       "                       2       \n",
       "   ⎛     2⎞           d        \n",
       "-4⋅⎝1 - ν ⎠⋅sin(k⋅z)⋅───(K(t)) \n",
       "                       2       \n",
       "                     dt        \n",
       "───────────────────────────────\n",
       "               E               "
      ]
     },
     "execution_count": 19,
     "metadata": {},
     "output_type": "execute_result"
    }
   ],
   "source": [
    "V1_star_fun.diff(t)"
   ]
  },
  {
   "cell_type": "markdown",
   "metadata": {},
   "source": [
    "The following lines define the functions $K$ and necessary time derivatives."
   ]
  },
  {
   "cell_type": "code",
   "execution_count": 20,
   "metadata": {},
   "outputs": [
    {
     "data": {
      "image/png": "[encoded data removed]",
      "text/latex": [
       "$\\displaystyle \\frac{2.0 \\operatorname{atan}{\\left(\\frac{t - t_{e}}{t_{w}} \\right)} + 1.0 \\pi}{\\pi}$"
      ],
      "text/plain": [
       "        ⎛t - tₑ⎞        \n",
       "2.0⋅atan⎜──────⎟ + 1.0⋅π\n",
       "        ⎝ t_w  ⎠        \n",
       "────────────────────────\n",
       "           π            "
      ]
     },
     "execution_count": 20,
     "metadata": {},
     "output_type": "execute_result"
    }
   ],
   "source": [
    "K_fun = 2.0 * (atan((t-te)/tw) + pi/2) / pi\n",
    "K_fun"
   ]
  },
  {
   "cell_type": "code",
   "execution_count": 21,
   "metadata": {},
   "outputs": [
    {
     "data": {
      "image/png": "[encoded data removed]",
      "text/latex": [
       "$\\displaystyle \\frac{- 2.0 \\operatorname{atan}{\\left(\\frac{t_{e}}{t_{w}} \\right)} + 1.0 \\pi}{\\pi}$"
      ],
      "text/plain": [
       "          ⎛ tₑ⎞        \n",
       "- 2.0⋅atan⎜───⎟ + 1.0⋅π\n",
       "          ⎝t_w⎠        \n",
       "───────────────────────\n",
       "           π           "
      ]
     },
     "execution_count": 21,
     "metadata": {},
     "output_type": "execute_result"
    }
   ],
   "source": [
    "K_fun.subs(t, 0)"
   ]
  },
  {
   "cell_type": "code",
   "execution_count": 22,
   "metadata": {},
   "outputs": [
    {
     "data": {
      "image/png": "[encoded data removed]",
      "text/latex": [
       "$\\displaystyle 1.0$"
      ],
      "text/plain": [
       "1.00000000000000"
      ]
     },
     "execution_count": 22,
     "metadata": {},
     "output_type": "execute_result"
    }
   ],
   "source": [
    "K_fun.subs(t, te)"
   ]
  },
  {
   "cell_type": "code",
   "execution_count": 23,
   "metadata": {},
   "outputs": [
    {
     "data": {
      "image/png": "[encoded data removed]",
      "text/latex": [
       "$\\displaystyle \\frac{2.0}{\\pi t_{w} \\left(1 + \\frac{\\left(t - t_{e}\\right)^{2}}{t_{w}^{2}}\\right)}$"
      ],
      "text/plain": [
       "         2.0         \n",
       "─────────────────────\n",
       "      ⎛            2⎞\n",
       "      ⎜    (t - tₑ) ⎟\n",
       "π⋅t_w⋅⎜1 + ─────────⎟\n",
       "      ⎜          2  ⎟\n",
       "      ⎝       t_w   ⎠"
      ]
     },
     "execution_count": 23,
     "metadata": {},
     "output_type": "execute_result"
    }
   ],
   "source": [
    "K_fun.diff(t)"
   ]
  },
  {
   "cell_type": "code",
   "execution_count": 24,
   "metadata": {},
   "outputs": [
    {
     "data": {
      "image/png": "[encoded data removed]",
      "text/latex": [
       "$\\displaystyle - \\frac{4.0 t_{w} \\left(t - t_{e}\\right)}{\\pi \\left(t_{w}^{2} + \\left(t - t_{e}\\right)^{2}\\right)^{2}}$"
      ],
      "text/plain": [
       "  -4.0⋅t_w⋅(t - tₑ)  \n",
       "─────────────────────\n",
       "                    2\n",
       "  ⎛   2           2⎞ \n",
       "π⋅⎝t_w  + (t - tₑ) ⎠ "
      ]
     },
     "execution_count": 24,
     "metadata": {},
     "output_type": "execute_result"
    }
   ],
   "source": [
    "K_fun.diff(t).diff(t).simplify()"
   ]
  },
  {
   "cell_type": "code",
   "execution_count": null,
   "metadata": {},
   "outputs": [],
   "source": []
  }
 ],
 "metadata": {
  "kernelspec": {
   "display_name": "Python 3",
   "language": "python",
   "name": "python3"
  },
  "language_info": {
   "codemirror_mode": {
    "name": "ipython",
    "version": 3
   },
   "file_extension": ".py",
   "mimetype": "text/x-python",
   "name": "python",
   "nbconvert_exporter": "python",
   "pygments_lexer": "ipython3",
   "version": "3.7.3"
  }
 },
 "nbformat": 4,
 "nbformat_minor": 2
}
